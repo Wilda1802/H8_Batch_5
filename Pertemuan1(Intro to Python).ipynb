{
 "cells": [
  {
   "cell_type": "markdown",
   "id": "bd62c704",
   "metadata": {},
   "source": [
    "# Tipe Data\n"
   ]
  },
  {
   "cell_type": "markdown",
   "id": "40fdc550",
   "metadata": {},
   "source": [
    "## Integer (Bilangan Bulat)\n"
   ]
  },
  {
   "cell_type": "code",
   "execution_count": 1,
   "id": "2b0e9c42",
   "metadata": {},
   "outputs": [
    {
     "data": {
      "text/plain": [
       "15"
      ]
     },
     "execution_count": 1,
     "metadata": {},
     "output_type": "execute_result"
    }
   ],
   "source": [
    "10+5"
   ]
  },
  {
   "cell_type": "code",
   "execution_count": 2,
   "id": "4aec0855",
   "metadata": {},
   "outputs": [
    {
     "data": {
      "text/plain": [
       "28"
      ]
     },
     "execution_count": 2,
     "metadata": {},
     "output_type": "execute_result"
    }
   ],
   "source": [
    "7*4"
   ]
  },
  {
   "cell_type": "code",
   "execution_count": 3,
   "id": "8ef84ffd",
   "metadata": {
    "scrolled": true
   },
   "outputs": [
    {
     "data": {
      "text/plain": [
       "0.8571428571428571"
      ]
     },
     "execution_count": 3,
     "metadata": {},
     "output_type": "execute_result"
    }
   ],
   "source": [
    "6/7\n"
   ]
  },
  {
   "cell_type": "code",
   "execution_count": 6,
   "id": "365dd187",
   "metadata": {},
   "outputs": [
    {
     "name": "stdout",
     "output_type": "stream",
     "text": [
      "<class 'int'>\n"
     ]
    }
   ],
   "source": [
    "print(type(10))"
   ]
  },
  {
   "cell_type": "markdown",
   "id": "5f4c3dc2",
   "metadata": {},
   "source": [
    "## Float"
   ]
  },
  {
   "cell_type": "code",
   "execution_count": 7,
   "id": "5535392c",
   "metadata": {},
   "outputs": [
    {
     "name": "stdout",
     "output_type": "stream",
     "text": [
      "<class 'float'>\n"
     ]
    }
   ],
   "source": [
    "print(type(0.8571428571428571))"
   ]
  },
  {
   "cell_type": "code",
   "execution_count": 5,
   "id": "571f31c5",
   "metadata": {},
   "outputs": [
    {
     "data": {
      "text/plain": [
       "0.8571428571428571"
      ]
     },
     "execution_count": 5,
     "metadata": {},
     "output_type": "execute_result"
    }
   ],
   "source": [
    "0.8571428571428571"
   ]
  },
  {
   "cell_type": "markdown",
   "id": "9484a30c",
   "metadata": {},
   "source": [
    "## String"
   ]
  },
  {
   "cell_type": "code",
   "execution_count": 8,
   "id": "fe61245a",
   "metadata": {},
   "outputs": [
    {
     "name": "stdout",
     "output_type": "stream",
     "text": [
      "wilda18\n"
     ]
    }
   ],
   "source": [
    "print(\"wilda18\")"
   ]
  },
  {
   "cell_type": "code",
   "execution_count": 9,
   "id": "f76c86ed",
   "metadata": {},
   "outputs": [
    {
     "name": "stdout",
     "output_type": "stream",
     "text": [
      "<class 'str'>\n"
     ]
    }
   ],
   "source": [
    "print(type(\"wilda18\"))"
   ]
  },
  {
   "cell_type": "code",
   "execution_count": 10,
   "id": "c84b488c",
   "metadata": {},
   "outputs": [
    {
     "name": "stdout",
     "output_type": "stream",
     "text": [
      "Wilda18\n"
     ]
    }
   ],
   "source": [
    "print('Wilda18')"
   ]
  },
  {
   "cell_type": "code",
   "execution_count": 13,
   "id": "9203c43f",
   "metadata": {},
   "outputs": [
    {
     "name": "stdout",
     "output_type": "stream",
     "text": [
      "''\n"
     ]
    }
   ],
   "source": [
    "print(\"''\")"
   ]
  },
  {
   "cell_type": "code",
   "execution_count": 14,
   "id": "4444f305",
   "metadata": {},
   "outputs": [
    {
     "name": "stdout",
     "output_type": "stream",
     "text": [
      "a\n"
     ]
    }
   ],
   "source": [
    "print('a')"
   ]
  },
  {
   "cell_type": "code",
   "execution_count": 15,
   "id": "6b04022b",
   "metadata": {},
   "outputs": [
    {
     "name": "stdout",
     "output_type": "stream",
     "text": [
      "<class 'str'>\n"
     ]
    }
   ],
   "source": [
    "print(type(\"''\"))"
   ]
  },
  {
   "cell_type": "markdown",
   "id": "b6a4433c",
   "metadata": {},
   "source": [
    "## Boolean"
   ]
  },
  {
   "cell_type": "code",
   "execution_count": 17,
   "id": "ee6fbec6",
   "metadata": {},
   "outputs": [
    {
     "name": "stdout",
     "output_type": "stream",
     "text": [
      "True\n",
      "False\n"
     ]
    }
   ],
   "source": [
    "print(True)\n",
    "print(False)"
   ]
  },
  {
   "cell_type": "code",
   "execution_count": 18,
   "id": "bceedaed",
   "metadata": {},
   "outputs": [
    {
     "name": "stdout",
     "output_type": "stream",
     "text": [
      "<class 'bool'>\n",
      "<class 'bool'>\n"
     ]
    }
   ],
   "source": [
    "print(type(True))\n",
    "print(type(False))"
   ]
  },
  {
   "cell_type": "markdown",
   "id": "03932ecf",
   "metadata": {},
   "source": [
    "## Variable"
   ]
  },
  {
   "cell_type": "code",
   "execution_count": 21,
   "id": "2eead53a",
   "metadata": {},
   "outputs": [],
   "source": [
    "n = 100"
   ]
  },
  {
   "cell_type": "code",
   "execution_count": 22,
   "id": "60f1f463",
   "metadata": {},
   "outputs": [
    {
     "name": "stdout",
     "output_type": "stream",
     "text": [
      "100\n"
     ]
    }
   ],
   "source": [
    "print(n)"
   ]
  },
  {
   "cell_type": "code",
   "execution_count": 23,
   "id": "63e0ec53",
   "metadata": {},
   "outputs": [
    {
     "name": "stdout",
     "output_type": "stream",
     "text": [
      "50.0\n",
      "50\n"
     ]
    }
   ],
   "source": [
    "print(n/2)\n",
    "print(n//2)"
   ]
  },
  {
   "cell_type": "code",
   "execution_count": 24,
   "id": "1edb5c49",
   "metadata": {},
   "outputs": [
    {
     "data": {
      "text/plain": [
       "90"
      ]
     },
     "execution_count": 24,
     "metadata": {},
     "output_type": "execute_result"
    }
   ],
   "source": [
    "n-10"
   ]
  },
  {
   "cell_type": "code",
   "execution_count": 27,
   "id": "0cb8de8c",
   "metadata": {},
   "outputs": [],
   "source": [
    "n=2000"
   ]
  },
  {
   "cell_type": "code",
   "execution_count": 28,
   "id": "5c3e8131",
   "metadata": {},
   "outputs": [
    {
     "data": {
      "text/plain": [
       "2000"
      ]
     },
     "execution_count": 28,
     "metadata": {},
     "output_type": "execute_result"
    }
   ],
   "source": [
    "n"
   ]
  },
  {
   "cell_type": "code",
   "execution_count": 29,
   "id": "b0546e22",
   "metadata": {},
   "outputs": [
    {
     "name": "stdout",
     "output_type": "stream",
     "text": [
      "1000.0\n",
      "1000\n"
     ]
    }
   ],
   "source": [
    "print(n/2)\n",
    "print(n//2)"
   ]
  },
  {
   "cell_type": "code",
   "execution_count": 30,
   "id": "8c420d99",
   "metadata": {},
   "outputs": [],
   "source": [
    "a=b=c=2000"
   ]
  },
  {
   "cell_type": "code",
   "execution_count": 31,
   "id": "84d63f54",
   "metadata": {},
   "outputs": [
    {
     "data": {
      "text/plain": [
       "2000"
      ]
     },
     "execution_count": 31,
     "metadata": {},
     "output_type": "execute_result"
    }
   ],
   "source": [
    "a"
   ]
  },
  {
   "cell_type": "code",
   "execution_count": 32,
   "id": "01caafc3",
   "metadata": {},
   "outputs": [],
   "source": [
    "a=b/3"
   ]
  },
  {
   "cell_type": "code",
   "execution_count": 33,
   "id": "06c75842",
   "metadata": {},
   "outputs": [
    {
     "data": {
      "text/plain": [
       "666.6666666666666"
      ]
     },
     "execution_count": 33,
     "metadata": {},
     "output_type": "execute_result"
    }
   ],
   "source": [
    "a"
   ]
  },
  {
   "cell_type": "code",
   "execution_count": 34,
   "id": "cb1ea3c4",
   "metadata": {},
   "outputs": [
    {
     "name": "stdout",
     "output_type": "stream",
     "text": [
      "<class 'float'>\n"
     ]
    }
   ],
   "source": [
    "print(type(a))"
   ]
  },
  {
   "cell_type": "code",
   "execution_count": 35,
   "id": "49dd6f74",
   "metadata": {},
   "outputs": [],
   "source": [
    "a=\"string a\""
   ]
  },
  {
   "cell_type": "code",
   "execution_count": 36,
   "id": "5f1e812f",
   "metadata": {},
   "outputs": [
    {
     "name": "stdout",
     "output_type": "stream",
     "text": [
      "<class 'str'>\n"
     ]
    }
   ],
   "source": [
    "print(type(a))"
   ]
  },
  {
   "cell_type": "code",
   "execution_count": 44,
   "id": "8afa80c6",
   "metadata": {},
   "outputs": [
    {
     "name": "stdout",
     "output_type": "stream",
     "text": [
      "Wilda 21 True\n"
     ]
    }
   ],
   "source": [
    "nama = \"Wilda\"\n",
    "\n",
    "umur = 21\n",
    "\n",
    "has_laptops =True\n",
    "\n",
    "print(nama, umur, has_laptops)"
   ]
  },
  {
   "cell_type": "code",
   "execution_count": 45,
   "id": "8cf1e982",
   "metadata": {},
   "outputs": [],
   "source": [
    "_nama =\"Wilda\""
   ]
  },
  {
   "cell_type": "code",
   "execution_count": 46,
   "id": "a5aa6c77",
   "metadata": {},
   "outputs": [
    {
     "data": {
      "text/plain": [
       "'Wilda'"
      ]
     },
     "execution_count": 46,
     "metadata": {},
     "output_type": "execute_result"
    }
   ],
   "source": [
    "_nama "
   ]
  },
  {
   "cell_type": "code",
   "execution_count": 48,
   "id": "6a3e6155",
   "metadata": {},
   "outputs": [],
   "source": [
    "JumlahSiswaKelasTiga=150"
   ]
  },
  {
   "cell_type": "code",
   "execution_count": 49,
   "id": "43dbecd2",
   "metadata": {},
   "outputs": [
    {
     "data": {
      "text/plain": [
       "150"
      ]
     },
     "execution_count": 49,
     "metadata": {},
     "output_type": "execute_result"
    }
   ],
   "source": [
    "JumlahSiswaKelasTiga"
   ]
  },
  {
   "cell_type": "markdown",
   "id": "22b628a1",
   "metadata": {},
   "source": [
    "Operators"
   ]
  },
  {
   "cell_type": "code",
   "execution_count": 50,
   "id": "d6418780",
   "metadata": {},
   "outputs": [],
   "source": [
    "a=10\n",
    "b=15"
   ]
  },
  {
   "cell_type": "code",
   "execution_count": 51,
   "id": "a1ead717",
   "metadata": {},
   "outputs": [
    {
     "data": {
      "text/plain": [
       "25"
      ]
     },
     "execution_count": 51,
     "metadata": {},
     "output_type": "execute_result"
    }
   ],
   "source": [
    "a+b"
   ]
  },
  {
   "cell_type": "code",
   "execution_count": 52,
   "id": "59b82c74",
   "metadata": {},
   "outputs": [
    {
     "data": {
      "text/plain": [
       "20"
      ]
     },
     "execution_count": 52,
     "metadata": {},
     "output_type": "execute_result"
    }
   ],
   "source": [
    "a+b-5"
   ]
  },
  {
   "cell_type": "code",
   "execution_count": 53,
   "id": "dd7ccbd3",
   "metadata": {},
   "outputs": [
    {
     "data": {
      "text/plain": [
       "5"
      ]
     },
     "execution_count": 53,
     "metadata": {},
     "output_type": "execute_result"
    }
   ],
   "source": [
    "a+b-5*4"
   ]
  },
  {
   "cell_type": "code",
   "execution_count": 54,
   "id": "178cea62",
   "metadata": {},
   "outputs": [
    {
     "data": {
      "text/plain": [
       "50"
      ]
     },
     "execution_count": 54,
     "metadata": {},
     "output_type": "execute_result"
    }
   ],
   "source": [
    "a+(b-5)*4"
   ]
  },
  {
   "cell_type": "code",
   "execution_count": 55,
   "id": "e96383d6",
   "metadata": {},
   "outputs": [
    {
     "data": {
      "text/plain": [
       "0.6666666666666666"
      ]
     },
     "execution_count": 55,
     "metadata": {},
     "output_type": "execute_result"
    }
   ],
   "source": [
    "a/b"
   ]
  },
  {
   "cell_type": "code",
   "execution_count": 56,
   "id": "3a3f5760",
   "metadata": {},
   "outputs": [
    {
     "data": {
      "text/plain": [
       "1.5"
      ]
     },
     "execution_count": 56,
     "metadata": {},
     "output_type": "execute_result"
    }
   ],
   "source": [
    "b/a"
   ]
  },
  {
   "cell_type": "code",
   "execution_count": 57,
   "id": "a76d1f42",
   "metadata": {},
   "outputs": [
    {
     "data": {
      "text/plain": [
       "1"
      ]
     },
     "execution_count": 57,
     "metadata": {},
     "output_type": "execute_result"
    }
   ],
   "source": [
    "b//a"
   ]
  },
  {
   "cell_type": "code",
   "execution_count": 58,
   "id": "e601d671",
   "metadata": {},
   "outputs": [
    {
     "data": {
      "text/plain": [
       "5"
      ]
     },
     "execution_count": 58,
     "metadata": {},
     "output_type": "execute_result"
    }
   ],
   "source": [
    "b%a"
   ]
  },
  {
   "cell_type": "code",
   "execution_count": 59,
   "id": "43d34829",
   "metadata": {},
   "outputs": [
    {
     "data": {
      "text/plain": [
       "1000000000000000"
      ]
     },
     "execution_count": 59,
     "metadata": {},
     "output_type": "execute_result"
    }
   ],
   "source": [
    "a**b"
   ]
  },
  {
   "cell_type": "code",
   "execution_count": null,
   "id": "20eabced",
   "metadata": {},
   "outputs": [],
   "source": []
  },
  {
   "cell_type": "code",
   "execution_count": 60,
   "id": "4757e56c",
   "metadata": {},
   "outputs": [
    {
     "name": "stdout",
     "output_type": "stream",
     "text": [
      "False\n",
      "True\n",
      "True\n",
      "False\n",
      "True\n",
      "False\n"
     ]
    }
   ],
   "source": [
    "a=10\n",
    "b=20\n",
    "\n",
    "print(a==b)\n",
    "print(a!=b)\n",
    "print(a<=b)\n",
    "print(a>=b)\n",
    "print(a<b)\n",
    "print(a>b)"
   ]
  },
  {
   "cell_type": "code",
   "execution_count": 64,
   "id": "633d063f",
   "metadata": {},
   "outputs": [
    {
     "data": {
      "text/plain": [
       "True"
      ]
     },
     "execution_count": 64,
     "metadata": {},
     "output_type": "execute_result"
    }
   ],
   "source": [
    "15 >= 15\n"
   ]
  },
  {
   "cell_type": "code",
   "execution_count": 66,
   "id": "5f222ca1",
   "metadata": {},
   "outputs": [
    {
     "data": {
      "text/plain": [
       "True"
      ]
     },
     "execution_count": 66,
     "metadata": {},
     "output_type": "execute_result"
    }
   ],
   "source": [
    "15 > 10"
   ]
  },
  {
   "cell_type": "code",
   "execution_count": null,
   "id": "217d18fd",
   "metadata": {},
   "outputs": [],
   "source": []
  },
  {
   "cell_type": "code",
   "execution_count": 67,
   "id": "db953ce2",
   "metadata": {},
   "outputs": [],
   "source": [
    "W =\"Wilda\"\n",
    "B = \"baik\"\n",
    "C = \"Cerdas\""
   ]
  },
  {
   "cell_type": "code",
   "execution_count": 71,
   "id": "59572640",
   "metadata": {},
   "outputs": [
    {
     "name": "stdout",
     "output_type": "stream",
     "text": [
      "WildabaikCerdas\n"
     ]
    }
   ],
   "source": [
    "print(W+B+C)"
   ]
  },
  {
   "cell_type": "code",
   "execution_count": 74,
   "id": "96a608f1",
   "metadata": {},
   "outputs": [
    {
     "data": {
      "text/plain": [
       "'WildabaikCerdas'"
      ]
     },
     "execution_count": 74,
     "metadata": {},
     "output_type": "execute_result"
    }
   ],
   "source": [
    "W+B+C"
   ]
  },
  {
   "cell_type": "code",
   "execution_count": 75,
   "id": "03d32331",
   "metadata": {},
   "outputs": [],
   "source": [
    "W= \"123.\""
   ]
  },
  {
   "cell_type": "code",
   "execution_count": 77,
   "id": "8cceb132",
   "metadata": {},
   "outputs": [
    {
     "data": {
      "text/plain": [
       "'123.123.123.123.'"
      ]
     },
     "execution_count": 77,
     "metadata": {},
     "output_type": "execute_result"
    }
   ],
   "source": [
    "W*4"
   ]
  },
  {
   "cell_type": "code",
   "execution_count": 78,
   "id": "6266266a",
   "metadata": {},
   "outputs": [
    {
     "name": "stdout",
     "output_type": "stream",
     "text": [
      "True\n",
      "False\n"
     ]
    }
   ],
   "source": [
    "W= \"Cof\"\n",
    "\n",
    "print(W in \"that Coffe is good\")\n",
    "print(W in \"that Tea is good\")"
   ]
  },
  {
   "cell_type": "code",
   "execution_count": 80,
   "id": "9b70d245",
   "metadata": {},
   "outputs": [
    {
     "name": "stdout",
     "output_type": "stream",
     "text": [
      "Coffe is good\n",
      "coffe is good\n",
      "COfFE is GoOd\n",
      "Coffe Is Good\n",
      "COFFE IS GOOD\n"
     ]
    }
   ],
   "source": [
    "W = \"coFfe IS gOoD\"\n",
    "print(W.capitalize())\n",
    "print(W.lower())\n",
    "print(W.swapcase())\n",
    "print(W.title())\n",
    "print(W.upper())"
   ]
  },
  {
   "cell_type": "code",
   "execution_count": null,
   "id": "d9172024",
   "metadata": {},
   "outputs": [],
   "source": []
  },
  {
   "cell_type": "code",
   "execution_count": 81,
   "id": "ca572c48",
   "metadata": {},
   "outputs": [],
   "source": [
    "nama_peserta_kelas =[\"Wilda\", \"Diva\", \"Aas\", \"Desti\"]"
   ]
  },
  {
   "cell_type": "code",
   "execution_count": 82,
   "id": "fc371f48",
   "metadata": {},
   "outputs": [
    {
     "name": "stdout",
     "output_type": "stream",
     "text": [
      "['Wilda', 'Diva', 'Aas', 'Desti']\n"
     ]
    }
   ],
   "source": [
    "print(nama_peserta_kelas)"
   ]
  },
  {
   "cell_type": "code",
   "execution_count": 98,
   "id": "176f5f0a",
   "metadata": {},
   "outputs": [],
   "source": [
    "nama_peserta_kelas_2 =[\"Aas\",\"Desti\", \"Wilda\", \"Diva\"]"
   ]
  },
  {
   "cell_type": "code",
   "execution_count": 99,
   "id": "88db1d81",
   "metadata": {},
   "outputs": [
    {
     "data": {
      "text/plain": [
       "False"
      ]
     },
     "execution_count": 99,
     "metadata": {},
     "output_type": "execute_result"
    }
   ],
   "source": [
    "nama_peserta_kelas == nama_peserta_kelas_2"
   ]
  },
  {
   "cell_type": "code",
   "execution_count": 92,
   "id": "08e7329f",
   "metadata": {},
   "outputs": [],
   "source": [
    "data_siswa =[\"Wilda\", 18, 9.6, \"Jl. Lingkar Utara Pratin\", True]"
   ]
  },
  {
   "cell_type": "code",
   "execution_count": 88,
   "id": "0690397d",
   "metadata": {},
   "outputs": [
    {
     "data": {
      "text/plain": [
       "['Wilda', 18, 9.6, 'Jl. Lingkar Utara Pratin', True]"
      ]
     },
     "execution_count": 88,
     "metadata": {},
     "output_type": "execute_result"
    }
   ],
   "source": [
    "data_siswa"
   ]
  },
  {
   "cell_type": "code",
   "execution_count": 100,
   "id": "48b8961a",
   "metadata": {},
   "outputs": [
    {
     "data": {
      "text/plain": [
       "'Diva'"
      ]
     },
     "execution_count": 100,
     "metadata": {},
     "output_type": "execute_result"
    }
   ],
   "source": [
    "nama_peserta_kelas[1]"
   ]
  },
  {
   "cell_type": "code",
   "execution_count": 101,
   "id": "a7e51273",
   "metadata": {},
   "outputs": [
    {
     "data": {
      "text/plain": [
       "'Wilda'"
      ]
     },
     "execution_count": 101,
     "metadata": {},
     "output_type": "execute_result"
    }
   ],
   "source": [
    "nama_peserta_kelas[0]"
   ]
  },
  {
   "cell_type": "code",
   "execution_count": 102,
   "id": "cab88885",
   "metadata": {},
   "outputs": [
    {
     "data": {
      "text/plain": [
       "'Diva'"
      ]
     },
     "execution_count": 102,
     "metadata": {},
     "output_type": "execute_result"
    }
   ],
   "source": [
    "nama_peserta_kelas[-3]"
   ]
  },
  {
   "cell_type": "code",
   "execution_count": 103,
   "id": "523778f6",
   "metadata": {},
   "outputs": [
    {
     "data": {
      "text/plain": [
       "['Wilda', 'Diva', 'Aas', 'Desti']"
      ]
     },
     "execution_count": 103,
     "metadata": {},
     "output_type": "execute_result"
    }
   ],
   "source": [
    "nama_peserta_kelas"
   ]
  },
  {
   "cell_type": "code",
   "execution_count": 104,
   "id": "25cb9983",
   "metadata": {},
   "outputs": [
    {
     "data": {
      "text/plain": [
       "['Diva', 'Aas', 'Desti']"
      ]
     },
     "execution_count": 104,
     "metadata": {},
     "output_type": "execute_result"
    }
   ],
   "source": [
    "nama_peserta_kelas[1:4]"
   ]
  },
  {
   "cell_type": "code",
   "execution_count": 105,
   "id": "46833324",
   "metadata": {},
   "outputs": [],
   "source": [
    "# lst[n:m] #dari n index n sampai m-1"
   ]
  },
  {
   "cell_type": "code",
   "execution_count": 106,
   "id": "049a6fc0",
   "metadata": {},
   "outputs": [],
   "source": [
    "nama_peserta_kelas = nama_peserta_kelas + [\"Ummi\", \"Syifa\"]"
   ]
  },
  {
   "cell_type": "code",
   "execution_count": 107,
   "id": "95830f2f",
   "metadata": {},
   "outputs": [
    {
     "data": {
      "text/plain": [
       "['Wilda', 'Diva', 'Aas', 'Desti', 'Ummi', 'Syifa']"
      ]
     },
     "execution_count": 107,
     "metadata": {},
     "output_type": "execute_result"
    }
   ],
   "source": [
    "nama_peserta_kelas"
   ]
  },
  {
   "cell_type": "code",
   "execution_count": 108,
   "id": "68fecec6",
   "metadata": {},
   "outputs": [
    {
     "data": {
      "text/plain": [
       "['Wilda',\n",
       " 'Diva',\n",
       " 'Aas',\n",
       " 'Desti',\n",
       " 'Ummi',\n",
       " 'Syifa',\n",
       " 'Wilda',\n",
       " 'Diva',\n",
       " 'Aas',\n",
       " 'Desti',\n",
       " 'Ummi',\n",
       " 'Syifa']"
      ]
     },
     "execution_count": 108,
     "metadata": {},
     "output_type": "execute_result"
    }
   ],
   "source": [
    "nama_peserta_kelas*2"
   ]
  },
  {
   "cell_type": "code",
   "execution_count": 109,
   "id": "069d6f08",
   "metadata": {},
   "outputs": [
    {
     "name": "stdout",
     "output_type": "stream",
     "text": [
      "6\n"
     ]
    }
   ],
   "source": [
    "print(len(nama_peserta_kelas))"
   ]
  },
  {
   "cell_type": "code",
   "execution_count": 110,
   "id": "f8697042",
   "metadata": {},
   "outputs": [
    {
     "data": {
      "text/plain": [
       "'Wilda'"
      ]
     },
     "execution_count": 110,
     "metadata": {},
     "output_type": "execute_result"
    }
   ],
   "source": [
    "max(nama_peserta_kelas)"
   ]
  },
  {
   "cell_type": "code",
   "execution_count": 111,
   "id": "f244d039",
   "metadata": {},
   "outputs": [
    {
     "data": {
      "text/plain": [
       "'Aas'"
      ]
     },
     "execution_count": 111,
     "metadata": {},
     "output_type": "execute_result"
    }
   ],
   "source": [
    "min(nama_peserta_kelas)"
   ]
  },
  {
   "cell_type": "code",
   "execution_count": 116,
   "id": "81ba25f2",
   "metadata": {},
   "outputs": [],
   "source": [
    "A= [8, 2, 50, 42, 5, 6,100]"
   ]
  },
  {
   "cell_type": "code",
   "execution_count": 117,
   "id": "f350cc3e",
   "metadata": {},
   "outputs": [
    {
     "data": {
      "text/plain": [
       "100"
      ]
     },
     "execution_count": 117,
     "metadata": {},
     "output_type": "execute_result"
    }
   ],
   "source": [
    "max(A)"
   ]
  },
  {
   "cell_type": "code",
   "execution_count": 118,
   "id": "1a209922",
   "metadata": {
    "scrolled": true
   },
   "outputs": [
    {
     "data": {
      "text/plain": [
       "2"
      ]
     },
     "execution_count": 118,
     "metadata": {},
     "output_type": "execute_result"
    }
   ],
   "source": [
    "min(A)"
   ]
  },
  {
   "cell_type": "code",
   "execution_count": 119,
   "id": "92c07980",
   "metadata": {},
   "outputs": [
    {
     "data": {
      "text/plain": [
       "['Wilda', 'Diva', 'Aas', 'Desti', 'Ummi', 'Syifa']"
      ]
     },
     "execution_count": 119,
     "metadata": {},
     "output_type": "execute_result"
    }
   ],
   "source": [
    "nama_peserta_kelas"
   ]
  },
  {
   "cell_type": "code",
   "execution_count": 134,
   "id": "5e2b0c4d",
   "metadata": {},
   "outputs": [],
   "source": [
    "nama_peserta_kelas[0]=\"Agung\""
   ]
  },
  {
   "cell_type": "code",
   "execution_count": 135,
   "id": "39dfdc7a",
   "metadata": {},
   "outputs": [
    {
     "data": {
      "text/plain": [
       "['Agung', 'Diva', 'Aas', 'zahra', 'zahra', 'Wilda']"
      ]
     },
     "execution_count": 135,
     "metadata": {},
     "output_type": "execute_result"
    }
   ],
   "source": [
    "nama_peserta_kelas"
   ]
  },
  {
   "cell_type": "code",
   "execution_count": 136,
   "id": "1fbaed9f",
   "metadata": {},
   "outputs": [],
   "source": [
    "nama_peserta_kelas[-1]=\"deni\""
   ]
  },
  {
   "cell_type": "code",
   "execution_count": 137,
   "id": "9f6e1ee3",
   "metadata": {},
   "outputs": [
    {
     "data": {
      "text/plain": [
       "['Agung', 'Diva', 'Aas', 'zahra', 'zahra', 'deni']"
      ]
     },
     "execution_count": 137,
     "metadata": {},
     "output_type": "execute_result"
    }
   ],
   "source": [
    "nama_peserta_kelas"
   ]
  },
  {
   "cell_type": "code",
   "execution_count": 139,
   "id": "ebc68368",
   "metadata": {},
   "outputs": [],
   "source": [
    "del nama_peserta_kelas[3]"
   ]
  },
  {
   "cell_type": "code",
   "execution_count": 140,
   "id": "9a348430",
   "metadata": {},
   "outputs": [
    {
     "data": {
      "text/plain": [
       "['Agung', 'Diva', 'Aas', 'zahra', 'deni']"
      ]
     },
     "execution_count": 140,
     "metadata": {},
     "output_type": "execute_result"
    }
   ],
   "source": [
    "nama_peserta_kelas"
   ]
  },
  {
   "cell_type": "code",
   "execution_count": 141,
   "id": "b43a0f3b",
   "metadata": {},
   "outputs": [
    {
     "data": {
      "text/plain": [
       "'zahra'"
      ]
     },
     "execution_count": 141,
     "metadata": {},
     "output_type": "execute_result"
    }
   ],
   "source": [
    "nama_peserta_kelas[3]"
   ]
  },
  {
   "cell_type": "code",
   "execution_count": 142,
   "id": "30915d05",
   "metadata": {},
   "outputs": [
    {
     "data": {
      "text/plain": [
       "['Aas', 'zahra', 'deni']"
      ]
     },
     "execution_count": 142,
     "metadata": {},
     "output_type": "execute_result"
    }
   ],
   "source": [
    "nama_peserta_kelas[2:5]"
   ]
  },
  {
   "cell_type": "code",
   "execution_count": 143,
   "id": "d144bf02",
   "metadata": {},
   "outputs": [],
   "source": [
    "nama_peserta_kelas[2:5]=\"Aas\",\"Wilda\",\"Ummi\""
   ]
  },
  {
   "cell_type": "code",
   "execution_count": 144,
   "id": "28df359d",
   "metadata": {},
   "outputs": [
    {
     "data": {
      "text/plain": [
       "['Agung', 'Diva', 'Aas', 'Wilda', 'Ummi']"
      ]
     },
     "execution_count": 144,
     "metadata": {},
     "output_type": "execute_result"
    }
   ],
   "source": [
    "nama_peserta_kelas"
   ]
  },
  {
   "cell_type": "code",
   "execution_count": null,
   "id": "b1d8d5a0",
   "metadata": {},
   "outputs": [],
   "source": []
  },
  {
   "cell_type": "code",
   "execution_count": 145,
   "id": "dcb31111",
   "metadata": {},
   "outputs": [],
   "source": [
    "t=(10,23)"
   ]
  },
  {
   "cell_type": "code",
   "execution_count": 146,
   "id": "e1afba54",
   "metadata": {},
   "outputs": [
    {
     "name": "stdout",
     "output_type": "stream",
     "text": [
      "(10, 23)\n"
     ]
    }
   ],
   "source": [
    "print(t)"
   ]
  },
  {
   "cell_type": "code",
   "execution_count": 147,
   "id": "c19abc57",
   "metadata": {},
   "outputs": [],
   "source": [
    "t=(1,2,3,4,5)"
   ]
  },
  {
   "cell_type": "code",
   "execution_count": 148,
   "id": "86d2f5c8",
   "metadata": {},
   "outputs": [],
   "source": [
    "t=(8,9)"
   ]
  },
  {
   "cell_type": "code",
   "execution_count": 149,
   "id": "1d775043",
   "metadata": {},
   "outputs": [],
   "source": [
    "x,y=t"
   ]
  },
  {
   "cell_type": "code",
   "execution_count": 150,
   "id": "31caf81f",
   "metadata": {},
   "outputs": [
    {
     "data": {
      "text/plain": [
       "8"
      ]
     },
     "execution_count": 150,
     "metadata": {},
     "output_type": "execute_result"
    }
   ],
   "source": [
    "x"
   ]
  },
  {
   "cell_type": "code",
   "execution_count": 151,
   "id": "babebda8",
   "metadata": {},
   "outputs": [
    {
     "data": {
      "text/plain": [
       "9"
      ]
     },
     "execution_count": 151,
     "metadata": {},
     "output_type": "execute_result"
    }
   ],
   "source": [
    "y"
   ]
  },
  {
   "cell_type": "code",
   "execution_count": 152,
   "id": "beac7438",
   "metadata": {},
   "outputs": [],
   "source": [
    "data_siswa =[\"Wilda\", 18, 9.6, \"Jl. Lingkar Utara Pratin\", True]"
   ]
  },
  {
   "cell_type": "code",
   "execution_count": 153,
   "id": "9b227210",
   "metadata": {},
   "outputs": [],
   "source": [
    "data_siswa ={\n",
    "    \"nama\":\"Wilda\",\n",
    "    \"no_absen\":18,\n",
    "    \"nilai_akhir\":9.6,\n",
    "    \"lulus\":True\n",
    "}"
   ]
  },
  {
   "cell_type": "code",
   "execution_count": 154,
   "id": "ce0453f6",
   "metadata": {},
   "outputs": [
    {
     "data": {
      "text/plain": [
       "9.6"
      ]
     },
     "execution_count": 154,
     "metadata": {},
     "output_type": "execute_result"
    }
   ],
   "source": [
    "data_siswa['nilai_akhir']"
   ]
  },
  {
   "cell_type": "code",
   "execution_count": 155,
   "id": "8c1819dd",
   "metadata": {},
   "outputs": [],
   "source": [
    "data_siswa['tanggal_lahir']=\"18 September 2002\""
   ]
  },
  {
   "cell_type": "code",
   "execution_count": 156,
   "id": "60032963",
   "metadata": {},
   "outputs": [
    {
     "data": {
      "text/plain": [
       "{'nama': 'Wilda',\n",
       " 'no_absen': 18,\n",
       " 'nilai_akhir': 9.6,\n",
       " 'lulus': True,\n",
       " 'tanggal_lahir': '18 September 2002'}"
      ]
     },
     "execution_count": 156,
     "metadata": {},
     "output_type": "execute_result"
    }
   ],
   "source": [
    "data_siswa"
   ]
  },
  {
   "cell_type": "code",
   "execution_count": 157,
   "id": "6c6b7b0f",
   "metadata": {},
   "outputs": [
    {
     "data": {
      "text/plain": [
       "'18 September 2002'"
      ]
     },
     "execution_count": 157,
     "metadata": {},
     "output_type": "execute_result"
    }
   ],
   "source": [
    "data_siswa['tanggal_lahir']"
   ]
  },
  {
   "cell_type": "code",
   "execution_count": 158,
   "id": "773646ad",
   "metadata": {},
   "outputs": [],
   "source": [
    "data_siswa['nilai_akhir'] =9.8"
   ]
  },
  {
   "cell_type": "code",
   "execution_count": 159,
   "id": "a19ee48d",
   "metadata": {},
   "outputs": [
    {
     "data": {
      "text/plain": [
       "{'nama': 'Wilda',\n",
       " 'no_absen': 18,\n",
       " 'nilai_akhir': 9.8,\n",
       " 'lulus': True,\n",
       " 'tanggal_lahir': '18 September 2002'}"
      ]
     },
     "execution_count": 159,
     "metadata": {},
     "output_type": "execute_result"
    }
   ],
   "source": [
    "data_siswa"
   ]
  },
  {
   "cell_type": "code",
   "execution_count": 160,
   "id": "88108c34",
   "metadata": {},
   "outputs": [],
   "source": [
    "data_siswa ={}"
   ]
  },
  {
   "cell_type": "code",
   "execution_count": 161,
   "id": "51a388e9",
   "metadata": {},
   "outputs": [],
   "source": [
    "data_siswa['nama']= \"Amrul\"\n",
    "data_siswa['no_absen']= 1"
   ]
  },
  {
   "cell_type": "code",
   "execution_count": 168,
   "id": "8d9c5487",
   "metadata": {},
   "outputs": [],
   "source": [
    "data_siswa ['mata_kuliah']=['statistika', 'komputasi', 'kapsel']"
   ]
  },
  {
   "cell_type": "code",
   "execution_count": 163,
   "id": "be696d56",
   "metadata": {},
   "outputs": [
    {
     "data": {
      "text/plain": [
       "{'nama': 'Amrul',\n",
       " 'no_absen': 1,\n",
       " 'mata_kuliah': ['statistika', 'Komputasi', 'kapsel']}"
      ]
     },
     "execution_count": 163,
     "metadata": {},
     "output_type": "execute_result"
    }
   ],
   "source": [
    "data_siswa"
   ]
  },
  {
   "cell_type": "code",
   "execution_count": 164,
   "id": "08180514",
   "metadata": {},
   "outputs": [
    {
     "data": {
      "text/plain": [
       "'statistika'"
      ]
     },
     "execution_count": 164,
     "metadata": {},
     "output_type": "execute_result"
    }
   ],
   "source": [
    "data_siswa['mata_kuliah'][0]"
   ]
  },
  {
   "cell_type": "code",
   "execution_count": 171,
   "id": "6fb776f1",
   "metadata": {},
   "outputs": [],
   "source": [
    "data_siswa['nilai']={\n",
    "    'statistika':'B+',\n",
    "    'komputasi':'A',\n",
    "    'kapsel':'A'\n",
    "}"
   ]
  },
  {
   "cell_type": "code",
   "execution_count": 172,
   "id": "11eb0ae4",
   "metadata": {},
   "outputs": [
    {
     "data": {
      "text/plain": [
       "'B+'"
      ]
     },
     "execution_count": 172,
     "metadata": {},
     "output_type": "execute_result"
    }
   ],
   "source": [
    "data_siswa['nilai'][data_siswa['mata_kuliah'][0]]"
   ]
  },
  {
   "cell_type": "code",
   "execution_count": 173,
   "id": "0ca199df",
   "metadata": {},
   "outputs": [
    {
     "data": {
      "text/plain": [
       "dict_items([('nama', 'Amrul'), ('no_absen', 1), ('mata_kuliah', ['statistika', 'komputasi', 'kapsel']), ('nilai', {'statistika': 'B+', 'komputasi': 'A', 'kapsel': 'A'})])"
      ]
     },
     "execution_count": 173,
     "metadata": {},
     "output_type": "execute_result"
    }
   ],
   "source": [
    "data_siswa.items()"
   ]
  },
  {
   "cell_type": "code",
   "execution_count": 174,
   "id": "4e1e4548",
   "metadata": {},
   "outputs": [
    {
     "data": {
      "text/plain": [
       "dict_keys(['nama', 'no_absen', 'mata_kuliah', 'nilai'])"
      ]
     },
     "execution_count": 174,
     "metadata": {},
     "output_type": "execute_result"
    }
   ],
   "source": [
    "data_siswa.keys()"
   ]
  },
  {
   "cell_type": "code",
   "execution_count": 175,
   "id": "54fdf51a",
   "metadata": {},
   "outputs": [
    {
     "data": {
      "text/plain": [
       "dict_values(['Amrul', 1, ['statistika', 'komputasi', 'kapsel'], {'statistika': 'B+', 'komputasi': 'A', 'kapsel': 'A'}])"
      ]
     },
     "execution_count": 175,
     "metadata": {},
     "output_type": "execute_result"
    }
   ],
   "source": [
    "data_siswa.values()"
   ]
  },
  {
   "cell_type": "code",
   "execution_count": 176,
   "id": "c4e0e63a",
   "metadata": {},
   "outputs": [
    {
     "data": {
      "text/plain": [
       "{'nama': 'Amrul',\n",
       " 'no_absen': 1,\n",
       " 'mata_kuliah': ['statistika', 'komputasi', 'kapsel'],\n",
       " 'nilai': {'statistika': 'B+', 'komputasi': 'A', 'kapsel': 'A'}}"
      ]
     },
     "execution_count": 176,
     "metadata": {},
     "output_type": "execute_result"
    }
   ],
   "source": [
    "data_siswa"
   ]
  },
  {
   "cell_type": "code",
   "execution_count": null,
   "id": "960acb42",
   "metadata": {},
   "outputs": [],
   "source": []
  }
 ],
 "metadata": {
  "kernelspec": {
   "display_name": "Python 3 (ipykernel)",
   "language": "python",
   "name": "python3"
  },
  "language_info": {
   "codemirror_mode": {
    "name": "ipython",
    "version": 3
   },
   "file_extension": ".py",
   "mimetype": "text/x-python",
   "name": "python",
   "nbconvert_exporter": "python",
   "pygments_lexer": "ipython3",
   "version": "3.11.4"
  }
 },
 "nbformat": 4,
 "nbformat_minor": 5
}
