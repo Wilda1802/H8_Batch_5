{
 "cells": [
  {
   "cell_type": "code",
   "execution_count": 1,
   "id": "dea6d5d7",
   "metadata": {},
   "outputs": [
    {
     "name": "stdout",
     "output_type": "stream",
     "text": [
      "False\n"
     ]
    }
   ],
   "source": [
    "x = 32\n",
    "y = 6\n",
    "print(x==y)"
   ]
  },
  {
   "cell_type": "code",
   "execution_count": 2,
   "id": "e9645fba",
   "metadata": {},
   "outputs": [
    {
     "name": "stdout",
     "output_type": "stream",
     "text": [
      "98\n"
     ]
    }
   ],
   "source": [
    "#\n",
    "x = 98\n",
    "y = 54\n",
    "if x > y:\n",
    "    print(x)\n",
    "    "
   ]
  },
  {
   "cell_type": "code",
   "execution_count": 3,
   "id": "b8413276",
   "metadata": {},
   "outputs": [
    {
     "name": "stdout",
     "output_type": "stream",
     "text": [
      "yuhuiiii\n"
     ]
    }
   ],
   "source": [
    "'''\n",
    "if<expr>/bool:\n",
    "    <statement>\n",
    "<statement>\n",
    "'''\n",
    "\n",
    "x = 20\n",
    "y = 5\n",
    "if x < y:\n",
    "    print(\"jangan pergi\")\n",
    "    print(y)\n",
    "    \n",
    "print(\"yuhuiiii\")"
   ]
  },
  {
   "cell_type": "code",
   "execution_count": 4,
   "id": "d239d6fe",
   "metadata": {},
   "outputs": [
    {
     "name": "stdout",
     "output_type": "stream",
     "text": [
      "pergi ke jalan anggrek\n"
     ]
    }
   ],
   "source": [
    "Q = \"Cofd\"\n",
    "r = 2\n",
    "\n",
    "if Q in \"Coffe is a good\":\n",
    "    print(\"Masuk rumah\")\n",
    "    \n",
    "    if r < 4:\n",
    "        print(\"Jalan sakura\")\n",
    "        print(\"nilai r lebih kecil dari empat\")\n",
    "    print(\"kembali masuk rumah\")\n",
    "    \n",
    "    if r >10:\n",
    "        print(\"Jalan mentari\")\n",
    "        print(\"nilai r lebih besar dari sepuluh\")\n",
    "    print(\"Jangan masuk rumah\")\n",
    "    \n",
    "print(\"pergi ke jalan anggrek\")"
   ]
  },
  {
   "cell_type": "code",
   "execution_count": 5,
   "id": "5dd9d4ef",
   "metadata": {},
   "outputs": [
    {
     "name": "stdout",
     "output_type": "stream",
     "text": [
      "x lebih besar dari b\n",
      "20\n"
     ]
    }
   ],
   "source": [
    "x = 20\n",
    "b = 5\n",
    "if x>b:\n",
    "    print(\"x lebih besar dari b\")\n",
    "    print (x)\n",
    "else:\n",
    "    print(\"x lebih kecil dari b\")\n",
    "    print(b)"
   ]
  },
  {
   "cell_type": "code",
   "execution_count": 6,
   "id": "24a965a3",
   "metadata": {},
   "outputs": [
    {
     "name": "stdout",
     "output_type": "stream",
     "text": [
      "Masuk rumah\n",
      "Jalan sakura\n",
      "nilai r lebih kecil dari empat\n",
      "kembali ke jalan sakura\n",
      "else Jalan mentari\n",
      "nilai r lebih besar dari sepuluh\n",
      "kembali lagi ke jalan sakura\n",
      "pergi ke jalan anggrek\n"
     ]
    }
   ],
   "source": [
    "Q = \"Cof\"\n",
    "r = 2\n",
    "\n",
    "if Q in \"Coffe is a good\":\n",
    "    print(\"Masuk rumah\")\n",
    "    \n",
    "    if r < 4:\n",
    "        print(\"Jalan sakura\")\n",
    "        print(\"nilai r lebih kecil dari empat\")\n",
    "    else:\n",
    "        print(\"else Jalan sakura\")\n",
    "        print(\"nilai r lebih kecil dari empat\")\n",
    "    print(\"kembali ke jalan sakura\")\n",
    "    \n",
    "    if r >10:\n",
    "        print(\"Jalan mentari\")\n",
    "        print(\"nilai r lebih besar dari sepuluh\")\n",
    "    else:\n",
    "        print(\"else Jalan mentari\")\n",
    "        print(\"nilai r lebih besar dari sepuluh\")\n",
    "    print(\"kembali lagi ke jalan sakura\")\n",
    "    \n",
    "print(\"pergi ke jalan anggrek\")"
   ]
  },
  {
   "cell_type": "code",
   "execution_count": 7,
   "id": "e8e7e01c",
   "metadata": {},
   "outputs": [
    {
     "name": "stdout",
     "output_type": "stream",
     "text": [
      "beli tempe\n"
     ]
    }
   ],
   "source": [
    "HargaTempe = 5000\n",
    "HargaAyam = 25000\n",
    "Uang = 15000\n",
    "\n",
    "if Uang > HargaTempe:\n",
    "    print(\"beli tempe\")\n",
    "elif Uang > HargaAyam:\n",
    "    print(\"beli ayam\")\n",
    "else:\n",
    "    print(\"uang kurang\")"
   ]
  },
  {
   "cell_type": "code",
   "execution_count": 8,
   "id": "8614c62b",
   "metadata": {},
   "outputs": [
    {
     "name": "stdout",
     "output_type": "stream",
     "text": [
      "600\n"
     ]
    }
   ],
   "source": [
    "x = 100\n",
    "b = 600\n",
    "maximum = x if x > b else b\n",
    "print(maximum)"
   ]
  },
  {
   "cell_type": "code",
   "execution_count": 9,
   "id": "580d34ee",
   "metadata": {},
   "outputs": [
    {
     "name": "stdout",
     "output_type": "stream",
     "text": [
      " Ke pasar\n"
     ]
    }
   ],
   "source": [
    "raining = False\n",
    "print(\" Ke pasar\" if not raining else \"masak yang ada\")"
   ]
  },
  {
   "cell_type": "code",
   "execution_count": 10,
   "id": "aa6ccc27",
   "metadata": {},
   "outputs": [
    {
     "name": "stdout",
     "output_type": "stream",
     "text": [
      "masak yang ada\n"
     ]
    }
   ],
   "source": [
    "raining = True\n",
    "print(\" Ke pasar\" if not raining else \"masak yang ada\")"
   ]
  },
  {
   "cell_type": "code",
   "execution_count": null,
   "id": "207501c6",
   "metadata": {},
   "outputs": [],
   "source": []
  },
  {
   "cell_type": "code",
   "execution_count": 11,
   "id": "9c374634",
   "metadata": {},
   "outputs": [
    {
     "name": "stdout",
     "output_type": "stream",
     "text": [
      "100\n"
     ]
    }
   ],
   "source": [
    "a = 100\n",
    "b = 10\n",
    "if a > b:\n",
    "    pass\n",
    "print(a)"
   ]
  },
  {
   "cell_type": "code",
   "execution_count": null,
   "id": "233bf235",
   "metadata": {},
   "outputs": [],
   "source": []
  },
  {
   "cell_type": "code",
   "execution_count": null,
   "id": "b64f25fb",
   "metadata": {},
   "outputs": [],
   "source": []
  },
  {
   "cell_type": "code",
   "execution_count": 12,
   "id": "0addb80f",
   "metadata": {},
   "outputs": [
    {
     "data": {
      "text/plain": [
       "'\\nwhile <expr>/bool:\\n   <statement>\\n   <statement>\\n   <statement>\\n   <statement>\\n<statement>\\n\\n'"
      ]
     },
     "execution_count": 12,
     "metadata": {},
     "output_type": "execute_result"
    }
   ],
   "source": [
    "'''\n",
    "while <expr>/bool:\n",
    "   <statement>\n",
    "   <statement>\n",
    "   <statement>\n",
    "   <statement>\n",
    "<statement>\n",
    "\n",
    "'''"
   ]
  },
  {
   "cell_type": "code",
   "execution_count": 13,
   "id": "1b09c39e",
   "metadata": {},
   "outputs": [
    {
     "name": "stdout",
     "output_type": "stream",
     "text": [
      "1\n",
      "2\n",
      "3\n",
      "4\n",
      "5\n",
      "6\n",
      "7\n",
      "8\n",
      "9\n",
      "10\n"
     ]
    }
   ],
   "source": [
    "# 1 + 2 + 3 + ... + 100\n",
    "\n",
    "n = 1\n",
    "un = 10\n",
    "s =0\n",
    "\n",
    "while n <= un:\n",
    "    print(n)\n",
    "    s += n # s = s+n\n",
    "    n += 1\n",
    "    \n",
    "#print(s)"
   ]
  },
  {
   "cell_type": "code",
   "execution_count": 14,
   "id": "0b416167",
   "metadata": {},
   "outputs": [
    {
     "name": "stdout",
     "output_type": "stream",
     "text": [
      "11\n"
     ]
    }
   ],
   "source": [
    "print(n)"
   ]
  },
  {
   "cell_type": "code",
   "execution_count": 15,
   "id": "ead308d4",
   "metadata": {},
   "outputs": [
    {
     "name": "stdout",
     "output_type": "stream",
     "text": [
      "0\n",
      "di bawah break\n",
      "1\n",
      "di bawah break\n",
      "2\n",
      "di bawah break\n",
      "3\n",
      "di bawah break\n",
      "4\n",
      "di bawah break\n",
      "5\n",
      "di luar looping\n"
     ]
    }
   ],
   "source": [
    "i = 0\n",
    "while i < 10:\n",
    "        print(i)\n",
    "        if i == 5:\n",
    "            break\n",
    "        print(\"di bawah break\")\n",
    "        i += 1\n",
    "        \n",
    "print(\"di luar looping\")"
   ]
  },
  {
   "cell_type": "code",
   "execution_count": 16,
   "id": "3b5b40c8",
   "metadata": {},
   "outputs": [
    {
     "name": "stdout",
     "output_type": "stream",
     "text": [
      "1\n",
      "di bawah continue\n",
      "2\n",
      "di bawah continue\n",
      "3\n",
      "di bawah continue\n",
      "4\n",
      "di bawah continue\n",
      "6\n",
      "di bawah continue\n",
      "7\n",
      "di bawah continue\n",
      "8\n",
      "di bawah continue\n",
      "9\n",
      "di bawah continue\n",
      "10\n",
      "di bawah continue\n",
      "di luar looping\n"
     ]
    }
   ],
   "source": [
    "i = 0\n",
    "while i < 10:\n",
    "        i += 1\n",
    "        if i == 5:\n",
    "            continue\n",
    "        print(i)\n",
    "        print(\"di bawah continue\")\n",
    "        \n",
    "print(\"di luar looping\")"
   ]
  },
  {
   "cell_type": "code",
   "execution_count": 17,
   "id": "8cc096eb",
   "metadata": {},
   "outputs": [
    {
     "name": "stdout",
     "output_type": "stream",
     "text": [
      "1\n",
      "2\n",
      "3\n",
      "4\n",
      "5\n",
      "6\n",
      "7\n",
      "8\n",
      "9\n",
      "10\n",
      "loop selese\n",
      "di luar loop\n"
     ]
    }
   ],
   "source": [
    "i = 0\n",
    "while i < 10:\n",
    "    i += 1\n",
    "    print(i)\n",
    "else:\n",
    "    print(\"loop selese\")\n",
    "print(\"di luar loop\")"
   ]
  },
  {
   "cell_type": "code",
   "execution_count": 18,
   "id": "222ae478",
   "metadata": {},
   "outputs": [
    {
     "name": "stdout",
     "output_type": "stream",
     "text": [
      "0\n",
      "di bawah break\n",
      "1\n",
      "di bawah break\n",
      "2\n",
      "di bawah break\n",
      "3\n",
      "di bawah break\n",
      "4\n",
      "di bawah break\n",
      "5\n",
      "di luar looping\n"
     ]
    }
   ],
   "source": [
    "i = 0\n",
    "while i < 10:\n",
    "        print(i)\n",
    "        if i == 5:\n",
    "            break\n",
    "        print(\"di bawah break\")\n",
    "        i += 1\n",
    "else:\n",
    "     print(\"loop selese\")\n",
    "        \n",
    "print(\"di luar looping\")"
   ]
  },
  {
   "cell_type": "code",
   "execution_count": 19,
   "id": "4d760e27",
   "metadata": {},
   "outputs": [
    {
     "name": "stdout",
     "output_type": "stream",
     "text": [
      "0\n",
      "p q r s \n",
      "1\n",
      "p q r s \n",
      "2\n",
      "p q r s \n",
      "3\n",
      "p q r s \n",
      "4\n",
      "p q r s \n",
      "5\n",
      "p q r s \n",
      "6\n",
      "p q r s \n",
      "7\n",
      "p q r s \n",
      "8\n",
      "p q r s \n",
      "9\n",
      "p q r s \n"
     ]
    }
   ],
   "source": [
    "a = ['p','q','r','s']\n",
    "n = len(a)\n",
    "\n",
    "i=0\n",
    "\n",
    "while i<10:\n",
    "    print(i)\n",
    "    j = 0\n",
    "    while j < n:\n",
    "        print(a[j], end=\" \")\n",
    "        j += 1\n",
    "    i+=1\n",
    "    print()\n",
    "    "
   ]
  },
  {
   "cell_type": "code",
   "execution_count": 21,
   "id": "6ff3d8a7",
   "metadata": {},
   "outputs": [
    {
     "name": "stdout",
     "output_type": "stream",
     "text": [
      "3\n",
      "2\n",
      "1\n",
      "0\n"
     ]
    }
   ],
   "source": [
    "n = 4\n",
    "while n > 0: n-=1; print(n)"
   ]
  },
  {
   "cell_type": "code",
   "execution_count": null,
   "id": "1ffabcb3",
   "metadata": {},
   "outputs": [],
   "source": []
  },
  {
   "cell_type": "code",
   "execution_count": 25,
   "id": "8e028343",
   "metadata": {},
   "outputs": [
    {
     "name": "stdout",
     "output_type": "stream",
     "text": [
      "False\n",
      "True\n",
      "False\n"
     ]
    }
   ],
   "source": [
    "Q = ['ba','bi','bu']\n",
    "i = 0\n",
    "\n",
    "for s in Q:\n",
    "    print('i' in s)"
   ]
  },
  {
   "cell_type": "code",
   "execution_count": 33,
   "id": "31b98238",
   "metadata": {},
   "outputs": [
    {
     "name": "stdout",
     "output_type": "stream",
     "text": [
      "ba\n",
      "bi\n",
      "bu\n"
     ]
    }
   ],
   "source": [
    "d = {'ba' : 1, 'bi' :2, 'bu':3}\n",
    "\n",
    "for h in d:\n",
    "    print(h)"
   ]
  },
  {
   "cell_type": "code",
   "execution_count": 34,
   "id": "58226465",
   "metadata": {},
   "outputs": [
    {
     "data": {
      "text/plain": [
       "dict_items([('ba', 1), ('bi', 2), ('bu', 3)])"
      ]
     },
     "execution_count": 34,
     "metadata": {},
     "output_type": "execute_result"
    }
   ],
   "source": [
    "d.items()"
   ]
  },
  {
   "cell_type": "code",
   "execution_count": 35,
   "id": "3ac0cf32",
   "metadata": {},
   "outputs": [
    {
     "name": "stdout",
     "output_type": "stream",
     "text": [
      "ba - 1\n",
      "bi - 2\n",
      "bu - 3\n"
     ]
    }
   ],
   "source": [
    "for h, v in d.items():\n",
    "    print(h, \"-\",v)"
   ]
  },
  {
   "cell_type": "code",
   "execution_count": 36,
   "id": "b1915d12",
   "metadata": {},
   "outputs": [
    {
     "name": "stdout",
     "output_type": "stream",
     "text": [
      "1 1 1\n",
      "2 3 5\n",
      "4 5 6\n"
     ]
    }
   ],
   "source": [
    "coor = [(1,1,1),(2,3,5),(4,5,6)]\n",
    "for x,y,z in coor:\n",
    "    print(x,y,z)"
   ]
  },
  {
   "cell_type": "code",
   "execution_count": 37,
   "id": "314b87ef",
   "metadata": {},
   "outputs": [
    {
     "name": "stdout",
     "output_type": "stream",
     "text": [
      "9\n",
      "8\n",
      "7\n",
      "6\n",
      "5\n",
      "4\n"
     ]
    }
   ],
   "source": [
    "for i in range(9,3,-1):\n",
    "    print(i)"
   ]
  },
  {
   "cell_type": "code",
   "execution_count": 41,
   "id": "cfe4c386",
   "metadata": {},
   "outputs": [
    {
     "name": "stdout",
     "output_type": "stream",
     "text": [
      "0\n",
      "di bawah break\n",
      "1\n",
      "di bawah break\n",
      "2\n",
      "di bawah break\n",
      "3\n",
      "di bawah break\n",
      "4\n",
      "di bawah break\n",
      "5\n",
      "di bawah break\n",
      "7\n",
      "di bawah break\n",
      "8\n",
      "di bawah break\n",
      "9\n",
      "di bawah break\n",
      "10\n",
      "di bawah break\n"
     ]
    }
   ],
   "source": [
    "# i=0\n",
    "#while i<10:\n",
    "#  i+=1\n",
    "#  if i==6\n",
    "#    Continue\n",
    "#  print(i)\n",
    "#  print(\"di bawah continue\")\n",
    "\n",
    "for i in range (0,11):\n",
    "    if i == 6:\n",
    "        continue\n",
    "    print(i)\n",
    "    print(\"di bawah break\")"
   ]
  },
  {
   "cell_type": "code",
   "execution_count": 42,
   "id": "64d8b717",
   "metadata": {},
   "outputs": [
    {
     "name": "stdout",
     "output_type": "stream",
     "text": [
      "0\n",
      "di bawah break\n",
      "1\n",
      "di bawah break\n",
      "2\n",
      "di bawah break\n",
      "3\n",
      "di bawah break\n",
      "4\n",
      "di bawah break\n",
      "5\n",
      "di bawah break\n"
     ]
    }
   ],
   "source": [
    "for i in range (0,11):\n",
    "    if i == 6:\n",
    "        break\n",
    "    print(i)\n",
    "    print(\"di bawah break\")\n",
    "else:\n",
    "    print(\"done\")"
   ]
  },
  {
   "cell_type": "code",
   "execution_count": null,
   "id": "84fbe6b3",
   "metadata": {},
   "outputs": [],
   "source": []
  }
 ],
 "metadata": {
  "kernelspec": {
   "display_name": "Python 3 (ipykernel)",
   "language": "python",
   "name": "python3"
  },
  "language_info": {
   "codemirror_mode": {
    "name": "ipython",
    "version": 3
   },
   "file_extension": ".py",
   "mimetype": "text/x-python",
   "name": "python",
   "nbconvert_exporter": "python",
   "pygments_lexer": "ipython3",
   "version": "3.11.4"
  }
 },
 "nbformat": 4,
 "nbformat_minor": 5
}
