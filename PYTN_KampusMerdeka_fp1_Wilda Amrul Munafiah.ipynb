{
 "cells": [
  {
   "cell_type": "markdown",
   "id": "b9c63725",
   "metadata": {},
   "source": [
    "# FINAL PROJECT 1 REGRESSION LINIER"
   ]
  },
  {
   "cell_type": "markdown",
   "id": "c43a7845",
   "metadata": {},
   "source": [
    "# Perkenalan\n",
    "\n",
    "Nama : Wilda Amrul Munafiah\n",
    "\n",
    "Program : Python for Data Science\n",
    "\n",
    "Kode Peserta : PYTN-KS16-021"
   ]
  },
  {
   "cell_type": "markdown",
   "id": "2b2af8dd",
   "metadata": {},
   "source": [
    "# Data \n",
    "Dataset yang digunakan pada analisis ini yaitu Uber vs Lyft Dataset yang diunduh dari kaggle melalui link berikut https://www.kaggle.com/datasets/brllrb/uber-and-lyft-dataset-boston-ma\n",
    "\n",
    "Dataset ini berisikan data pemesanan taksi online yang dilengkapi dengan 57 atribut dengan 693071 rows. Atribut yang menjadi target yaitu atribut Price/Tarif, sedangkan atribut lainnya merupakan prediktor.\n",
    "\n",
    "# Objective\n",
    "Objective yang ingin dicapat pada analisis ini, yaitu:\n",
    "\n",
    "1. Mampu memahami konsep regression dengan Linear Regression\n",
    "2. Mampu mempersiapkan data untuk digunakan dalam model Linear Regression\n",
    "3. Mampu mengimplementasikan Linear Regression untuk membuat prediksi"
   ]
  },
  {
   "cell_type": "markdown",
   "id": "f69ce04d",
   "metadata": {},
   "source": [
    "# B. Import Library\n",
    "\n",
    "Cell pertama pada notebook harus berisi dan hanya berisi semua library\n",
    "yang digunakan dalam project."
   ]
  },
  {
   "cell_type": "code",
   "execution_count": 1,
   "id": "7f5f293e",
   "metadata": {},
   "outputs": [],
   "source": [
    "# Import Library\n",
    "%matplotlib inline\n",
    "import pandas as pd\n",
    "import numpy as np\n",
    "import matplotlib.pyplot as plt\n",
    "import seaborn as sns\n",
    "from sklearn.preprocessing import LabelEncoder\n",
    "from sklearn.preprocessing import StandardScaler\n",
    "from sklearn import linear_model\n",
    "from sklearn.linear_model import LinearRegression\n",
    "from sklearn.model_selection import train_test_split\n",
    "from sklearn.linear_model import LinearRegression\n",
    "from sklearn import tree\n",
    "from mlxtend.feature_selection import SequentialFeatureSelector as SFS\n",
    "from sklearn.feature_selection import SelectKBest\n",
    "from sklearn.feature_selection import f_regression\n",
    "from sklearn.pipeline import Pipeline\n",
    "from sklearn.pipeline import make_pipeline\n",
    "from sklearn.metrics import r2_score\n",
    "from sklearn.metrics import mean_squared_error\n",
    "\n",
    "import statsmodels.api as sm\n",
    "from scipy import stats\n",
    "from sklearn.ensemble import RandomForestRegressor\n",
    "import pickle"
   ]
  },
  {
   "cell_type": "markdown",
   "id": "96f6a87c",
   "metadata": {},
   "source": [
    "# C. Data Loading\n",
    "\n",
    "Bagian ini berisi proses data loading yang kemudian dilanjutkan dengan\n",
    "explorasi data secara sederhana."
   ]
  },
  {
   "cell_type": "code",
   "execution_count": 2,
   "id": "4a74b6d6",
   "metadata": {},
   "outputs": [
    {
     "data": {
      "text/html": [
       "<div>\n",
       "<style scoped>\n",
       "    .dataframe tbody tr th:only-of-type {\n",
       "        vertical-align: middle;\n",
       "    }\n",
       "\n",
       "    .dataframe tbody tr th {\n",
       "        vertical-align: top;\n",
       "    }\n",
       "\n",
       "    .dataframe thead th {\n",
       "        text-align: right;\n",
       "    }\n",
       "</style>\n",
       "<table border=\"1\" class=\"dataframe\">\n",
       "  <thead>\n",
       "    <tr style=\"text-align: right;\">\n",
       "      <th></th>\n",
       "      <th>id</th>\n",
       "      <th>timestamp</th>\n",
       "      <th>hour</th>\n",
       "      <th>day</th>\n",
       "      <th>month</th>\n",
       "      <th>datetime</th>\n",
       "      <th>timezone</th>\n",
       "      <th>source</th>\n",
       "      <th>destination</th>\n",
       "      <th>cab_type</th>\n",
       "      <th>...</th>\n",
       "      <th>precipIntensityMax</th>\n",
       "      <th>uvIndexTime</th>\n",
       "      <th>temperatureMin</th>\n",
       "      <th>temperatureMinTime</th>\n",
       "      <th>temperatureMax</th>\n",
       "      <th>temperatureMaxTime</th>\n",
       "      <th>apparentTemperatureMin</th>\n",
       "      <th>apparentTemperatureMinTime</th>\n",
       "      <th>apparentTemperatureMax</th>\n",
       "      <th>apparentTemperatureMaxTime</th>\n",
       "    </tr>\n",
       "  </thead>\n",
       "  <tbody>\n",
       "    <tr>\n",
       "      <th>0</th>\n",
       "      <td>424553bb-7174-41ea-aeb4-fe06d4f4b9d7</td>\n",
       "      <td>1.544953e+09</td>\n",
       "      <td>9</td>\n",
       "      <td>16</td>\n",
       "      <td>12</td>\n",
       "      <td>2018-12-16 09:30:07</td>\n",
       "      <td>America/New_York</td>\n",
       "      <td>Haymarket Square</td>\n",
       "      <td>North Station</td>\n",
       "      <td>Lyft</td>\n",
       "      <td>...</td>\n",
       "      <td>0.1276</td>\n",
       "      <td>1544979600</td>\n",
       "      <td>39.89</td>\n",
       "      <td>1545012000</td>\n",
       "      <td>43.68</td>\n",
       "      <td>1544968800</td>\n",
       "      <td>33.73</td>\n",
       "      <td>1545012000</td>\n",
       "      <td>38.07</td>\n",
       "      <td>1544958000</td>\n",
       "    </tr>\n",
       "    <tr>\n",
       "      <th>1</th>\n",
       "      <td>4bd23055-6827-41c6-b23b-3c491f24e74d</td>\n",
       "      <td>1.543284e+09</td>\n",
       "      <td>2</td>\n",
       "      <td>27</td>\n",
       "      <td>11</td>\n",
       "      <td>2018-11-27 02:00:23</td>\n",
       "      <td>America/New_York</td>\n",
       "      <td>Haymarket Square</td>\n",
       "      <td>North Station</td>\n",
       "      <td>Lyft</td>\n",
       "      <td>...</td>\n",
       "      <td>0.1300</td>\n",
       "      <td>1543251600</td>\n",
       "      <td>40.49</td>\n",
       "      <td>1543233600</td>\n",
       "      <td>47.30</td>\n",
       "      <td>1543251600</td>\n",
       "      <td>36.20</td>\n",
       "      <td>1543291200</td>\n",
       "      <td>43.92</td>\n",
       "      <td>1543251600</td>\n",
       "    </tr>\n",
       "    <tr>\n",
       "      <th>2</th>\n",
       "      <td>981a3613-77af-4620-a42a-0c0866077d1e</td>\n",
       "      <td>1.543367e+09</td>\n",
       "      <td>1</td>\n",
       "      <td>28</td>\n",
       "      <td>11</td>\n",
       "      <td>2018-11-28 01:00:22</td>\n",
       "      <td>America/New_York</td>\n",
       "      <td>Haymarket Square</td>\n",
       "      <td>North Station</td>\n",
       "      <td>Lyft</td>\n",
       "      <td>...</td>\n",
       "      <td>0.1064</td>\n",
       "      <td>1543338000</td>\n",
       "      <td>35.36</td>\n",
       "      <td>1543377600</td>\n",
       "      <td>47.55</td>\n",
       "      <td>1543320000</td>\n",
       "      <td>31.04</td>\n",
       "      <td>1543377600</td>\n",
       "      <td>44.12</td>\n",
       "      <td>1543320000</td>\n",
       "    </tr>\n",
       "    <tr>\n",
       "      <th>3</th>\n",
       "      <td>c2d88af2-d278-4bfd-a8d0-29ca77cc5512</td>\n",
       "      <td>1.543554e+09</td>\n",
       "      <td>4</td>\n",
       "      <td>30</td>\n",
       "      <td>11</td>\n",
       "      <td>2018-11-30 04:53:02</td>\n",
       "      <td>America/New_York</td>\n",
       "      <td>Haymarket Square</td>\n",
       "      <td>North Station</td>\n",
       "      <td>Lyft</td>\n",
       "      <td>...</td>\n",
       "      <td>0.0000</td>\n",
       "      <td>1543507200</td>\n",
       "      <td>34.67</td>\n",
       "      <td>1543550400</td>\n",
       "      <td>45.03</td>\n",
       "      <td>1543510800</td>\n",
       "      <td>30.30</td>\n",
       "      <td>1543550400</td>\n",
       "      <td>38.53</td>\n",
       "      <td>1543510800</td>\n",
       "    </tr>\n",
       "    <tr>\n",
       "      <th>4</th>\n",
       "      <td>e0126e1f-8ca9-4f2e-82b3-50505a09db9a</td>\n",
       "      <td>1.543463e+09</td>\n",
       "      <td>3</td>\n",
       "      <td>29</td>\n",
       "      <td>11</td>\n",
       "      <td>2018-11-29 03:49:20</td>\n",
       "      <td>America/New_York</td>\n",
       "      <td>Haymarket Square</td>\n",
       "      <td>North Station</td>\n",
       "      <td>Lyft</td>\n",
       "      <td>...</td>\n",
       "      <td>0.0001</td>\n",
       "      <td>1543420800</td>\n",
       "      <td>33.10</td>\n",
       "      <td>1543402800</td>\n",
       "      <td>42.18</td>\n",
       "      <td>1543420800</td>\n",
       "      <td>29.11</td>\n",
       "      <td>1543392000</td>\n",
       "      <td>35.75</td>\n",
       "      <td>1543420800</td>\n",
       "    </tr>\n",
       "  </tbody>\n",
       "</table>\n",
       "<p>5 rows × 57 columns</p>\n",
       "</div>"
      ],
      "text/plain": [
       "                                     id     timestamp  hour  day  month  \\\n",
       "0  424553bb-7174-41ea-aeb4-fe06d4f4b9d7  1.544953e+09     9   16     12   \n",
       "1  4bd23055-6827-41c6-b23b-3c491f24e74d  1.543284e+09     2   27     11   \n",
       "2  981a3613-77af-4620-a42a-0c0866077d1e  1.543367e+09     1   28     11   \n",
       "3  c2d88af2-d278-4bfd-a8d0-29ca77cc5512  1.543554e+09     4   30     11   \n",
       "4  e0126e1f-8ca9-4f2e-82b3-50505a09db9a  1.543463e+09     3   29     11   \n",
       "\n",
       "              datetime          timezone            source    destination  \\\n",
       "0  2018-12-16 09:30:07  America/New_York  Haymarket Square  North Station   \n",
       "1  2018-11-27 02:00:23  America/New_York  Haymarket Square  North Station   \n",
       "2  2018-11-28 01:00:22  America/New_York  Haymarket Square  North Station   \n",
       "3  2018-11-30 04:53:02  America/New_York  Haymarket Square  North Station   \n",
       "4  2018-11-29 03:49:20  America/New_York  Haymarket Square  North Station   \n",
       "\n",
       "  cab_type  ... precipIntensityMax uvIndexTime  temperatureMin  \\\n",
       "0     Lyft  ...             0.1276  1544979600           39.89   \n",
       "1     Lyft  ...             0.1300  1543251600           40.49   \n",
       "2     Lyft  ...             0.1064  1543338000           35.36   \n",
       "3     Lyft  ...             0.0000  1543507200           34.67   \n",
       "4     Lyft  ...             0.0001  1543420800           33.10   \n",
       "\n",
       "   temperatureMinTime  temperatureMax  temperatureMaxTime  \\\n",
       "0          1545012000           43.68          1544968800   \n",
       "1          1543233600           47.30          1543251600   \n",
       "2          1543377600           47.55          1543320000   \n",
       "3          1543550400           45.03          1543510800   \n",
       "4          1543402800           42.18          1543420800   \n",
       "\n",
       "   apparentTemperatureMin  apparentTemperatureMinTime  apparentTemperatureMax  \\\n",
       "0                   33.73                  1545012000                   38.07   \n",
       "1                   36.20                  1543291200                   43.92   \n",
       "2                   31.04                  1543377600                   44.12   \n",
       "3                   30.30                  1543550400                   38.53   \n",
       "4                   29.11                  1543392000                   35.75   \n",
       "\n",
       "  apparentTemperatureMaxTime  \n",
       "0                 1544958000  \n",
       "1                 1543251600  \n",
       "2                 1543320000  \n",
       "3                 1543510800  \n",
       "4                 1543420800  \n",
       "\n",
       "[5 rows x 57 columns]"
      ]
     },
     "execution_count": 2,
     "metadata": {},
     "output_type": "execute_result"
    }
   ],
   "source": [
    "df=pd.read_csv('rideshare_kaggle.csv')\n",
    "df.head()"
   ]
  },
  {
   "cell_type": "code",
   "execution_count": 3,
   "id": "926346a1",
   "metadata": {},
   "outputs": [
    {
     "name": "stdout",
     "output_type": "stream",
     "text": [
      "<class 'pandas.core.frame.DataFrame'>\n",
      "RangeIndex: 693071 entries, 0 to 693070\n",
      "Data columns (total 57 columns):\n",
      " #   Column                       Non-Null Count   Dtype  \n",
      "---  ------                       --------------   -----  \n",
      " 0   id                           693071 non-null  object \n",
      " 1   timestamp                    693071 non-null  float64\n",
      " 2   hour                         693071 non-null  int64  \n",
      " 3   day                          693071 non-null  int64  \n",
      " 4   month                        693071 non-null  int64  \n",
      " 5   datetime                     693071 non-null  object \n",
      " 6   timezone                     693071 non-null  object \n",
      " 7   source                       693071 non-null  object \n",
      " 8   destination                  693071 non-null  object \n",
      " 9   cab_type                     693071 non-null  object \n",
      " 10  product_id                   693071 non-null  object \n",
      " 11  name                         693071 non-null  object \n",
      " 12  price                        637976 non-null  float64\n",
      " 13  distance                     693071 non-null  float64\n",
      " 14  surge_multiplier             693071 non-null  float64\n",
      " 15  latitude                     693071 non-null  float64\n",
      " 16  longitude                    693071 non-null  float64\n",
      " 17  temperature                  693071 non-null  float64\n",
      " 18  apparentTemperature          693071 non-null  float64\n",
      " 19  short_summary                693071 non-null  object \n",
      " 20  long_summary                 693071 non-null  object \n",
      " 21  precipIntensity              693071 non-null  float64\n",
      " 22  precipProbability            693071 non-null  float64\n",
      " 23  humidity                     693071 non-null  float64\n",
      " 24  windSpeed                    693071 non-null  float64\n",
      " 25  windGust                     693071 non-null  float64\n",
      " 26  windGustTime                 693071 non-null  int64  \n",
      " 27  visibility                   693071 non-null  float64\n",
      " 28  temperatureHigh              693071 non-null  float64\n",
      " 29  temperatureHighTime          693071 non-null  int64  \n",
      " 30  temperatureLow               693071 non-null  float64\n",
      " 31  temperatureLowTime           693071 non-null  int64  \n",
      " 32  apparentTemperatureHigh      693071 non-null  float64\n",
      " 33  apparentTemperatureHighTime  693071 non-null  int64  \n",
      " 34  apparentTemperatureLow       693071 non-null  float64\n",
      " 35  apparentTemperatureLowTime   693071 non-null  int64  \n",
      " 36  icon                         693071 non-null  object \n",
      " 37  dewPoint                     693071 non-null  float64\n",
      " 38  pressure                     693071 non-null  float64\n",
      " 39  windBearing                  693071 non-null  int64  \n",
      " 40  cloudCover                   693071 non-null  float64\n",
      " 41  uvIndex                      693071 non-null  int64  \n",
      " 42  visibility.1                 693071 non-null  float64\n",
      " 43  ozone                        693071 non-null  float64\n",
      " 44  sunriseTime                  693071 non-null  int64  \n",
      " 45  sunsetTime                   693071 non-null  int64  \n",
      " 46  moonPhase                    693071 non-null  float64\n",
      " 47  precipIntensityMax           693071 non-null  float64\n",
      " 48  uvIndexTime                  693071 non-null  int64  \n",
      " 49  temperatureMin               693071 non-null  float64\n",
      " 50  temperatureMinTime           693071 non-null  int64  \n",
      " 51  temperatureMax               693071 non-null  float64\n",
      " 52  temperatureMaxTime           693071 non-null  int64  \n",
      " 53  apparentTemperatureMin       693071 non-null  float64\n",
      " 54  apparentTemperatureMinTime   693071 non-null  int64  \n",
      " 55  apparentTemperatureMax       693071 non-null  float64\n",
      " 56  apparentTemperatureMaxTime   693071 non-null  int64  \n",
      "dtypes: float64(29), int64(17), object(11)\n",
      "memory usage: 301.4+ MB\n"
     ]
    }
   ],
   "source": [
    "df.info()"
   ]
  },
  {
   "cell_type": "code",
   "execution_count": 4,
   "id": "f11dbbaa",
   "metadata": {},
   "outputs": [
    {
     "data": {
      "text/plain": [
       "Index(['id', 'timestamp', 'hour', 'day', 'month', 'datetime', 'timezone',\n",
       "       'source', 'destination', 'cab_type', 'product_id', 'name', 'price',\n",
       "       'distance', 'surge_multiplier', 'latitude', 'longitude', 'temperature',\n",
       "       'apparentTemperature', 'short_summary', 'long_summary',\n",
       "       'precipIntensity', 'precipProbability', 'humidity', 'windSpeed',\n",
       "       'windGust', 'windGustTime', 'visibility', 'temperatureHigh',\n",
       "       'temperatureHighTime', 'temperatureLow', 'temperatureLowTime',\n",
       "       'apparentTemperatureHigh', 'apparentTemperatureHighTime',\n",
       "       'apparentTemperatureLow', 'apparentTemperatureLowTime', 'icon',\n",
       "       'dewPoint', 'pressure', 'windBearing', 'cloudCover', 'uvIndex',\n",
       "       'visibility.1', 'ozone', 'sunriseTime', 'sunsetTime', 'moonPhase',\n",
       "       'precipIntensityMax', 'uvIndexTime', 'temperatureMin',\n",
       "       'temperatureMinTime', 'temperatureMax', 'temperatureMaxTime',\n",
       "       'apparentTemperatureMin', 'apparentTemperatureMinTime',\n",
       "       'apparentTemperatureMax', 'apparentTemperatureMaxTime'],\n",
       "      dtype='object')"
      ]
     },
     "execution_count": 4,
     "metadata": {},
     "output_type": "execute_result"
    }
   ],
   "source": [
    "df.columns"
   ]
  },
  {
   "cell_type": "code",
   "execution_count": 5,
   "id": "6405dcc1",
   "metadata": {},
   "outputs": [
    {
     "data": {
      "text/html": [
       "<div>\n",
       "<style scoped>\n",
       "    .dataframe tbody tr th:only-of-type {\n",
       "        vertical-align: middle;\n",
       "    }\n",
       "\n",
       "    .dataframe tbody tr th {\n",
       "        vertical-align: top;\n",
       "    }\n",
       "\n",
       "    .dataframe thead th {\n",
       "        text-align: right;\n",
       "    }\n",
       "</style>\n",
       "<table border=\"1\" class=\"dataframe\">\n",
       "  <thead>\n",
       "    <tr style=\"text-align: right;\">\n",
       "      <th></th>\n",
       "      <th>count</th>\n",
       "      <th>mean</th>\n",
       "      <th>std</th>\n",
       "      <th>min</th>\n",
       "      <th>25%</th>\n",
       "      <th>50%</th>\n",
       "      <th>75%</th>\n",
       "      <th>max</th>\n",
       "    </tr>\n",
       "  </thead>\n",
       "  <tbody>\n",
       "    <tr>\n",
       "      <th>timestamp</th>\n",
       "      <td>693071.0</td>\n",
       "      <td>1.544046e+09</td>\n",
       "      <td>689192.492586</td>\n",
       "      <td>1.543204e+09</td>\n",
       "      <td>1.543444e+09</td>\n",
       "      <td>1.543737e+09</td>\n",
       "      <td>1.544828e+09</td>\n",
       "      <td>1.545161e+09</td>\n",
       "    </tr>\n",
       "    <tr>\n",
       "      <th>hour</th>\n",
       "      <td>693071.0</td>\n",
       "      <td>1.161914e+01</td>\n",
       "      <td>6.948114</td>\n",
       "      <td>0.000000e+00</td>\n",
       "      <td>6.000000e+00</td>\n",
       "      <td>1.200000e+01</td>\n",
       "      <td>1.800000e+01</td>\n",
       "      <td>2.300000e+01</td>\n",
       "    </tr>\n",
       "    <tr>\n",
       "      <th>day</th>\n",
       "      <td>693071.0</td>\n",
       "      <td>1.779436e+01</td>\n",
       "      <td>9.982286</td>\n",
       "      <td>1.000000e+00</td>\n",
       "      <td>1.300000e+01</td>\n",
       "      <td>1.700000e+01</td>\n",
       "      <td>2.800000e+01</td>\n",
       "      <td>3.000000e+01</td>\n",
       "    </tr>\n",
       "    <tr>\n",
       "      <th>month</th>\n",
       "      <td>693071.0</td>\n",
       "      <td>1.158668e+01</td>\n",
       "      <td>0.492429</td>\n",
       "      <td>1.100000e+01</td>\n",
       "      <td>1.100000e+01</td>\n",
       "      <td>1.200000e+01</td>\n",
       "      <td>1.200000e+01</td>\n",
       "      <td>1.200000e+01</td>\n",
       "    </tr>\n",
       "    <tr>\n",
       "      <th>price</th>\n",
       "      <td>637976.0</td>\n",
       "      <td>1.654513e+01</td>\n",
       "      <td>9.324359</td>\n",
       "      <td>2.500000e+00</td>\n",
       "      <td>9.000000e+00</td>\n",
       "      <td>1.350000e+01</td>\n",
       "      <td>2.250000e+01</td>\n",
       "      <td>9.750000e+01</td>\n",
       "    </tr>\n",
       "    <tr>\n",
       "      <th>distance</th>\n",
       "      <td>693071.0</td>\n",
       "      <td>2.189430e+00</td>\n",
       "      <td>1.138937</td>\n",
       "      <td>2.000000e-02</td>\n",
       "      <td>1.280000e+00</td>\n",
       "      <td>2.160000e+00</td>\n",
       "      <td>2.920000e+00</td>\n",
       "      <td>7.860000e+00</td>\n",
       "    </tr>\n",
       "    <tr>\n",
       "      <th>surge_multiplier</th>\n",
       "      <td>693071.0</td>\n",
       "      <td>1.013870e+00</td>\n",
       "      <td>0.091641</td>\n",
       "      <td>1.000000e+00</td>\n",
       "      <td>1.000000e+00</td>\n",
       "      <td>1.000000e+00</td>\n",
       "      <td>1.000000e+00</td>\n",
       "      <td>3.000000e+00</td>\n",
       "    </tr>\n",
       "    <tr>\n",
       "      <th>latitude</th>\n",
       "      <td>693071.0</td>\n",
       "      <td>4.233817e+01</td>\n",
       "      <td>0.047840</td>\n",
       "      <td>4.221480e+01</td>\n",
       "      <td>4.235030e+01</td>\n",
       "      <td>4.235190e+01</td>\n",
       "      <td>4.236470e+01</td>\n",
       "      <td>4.236610e+01</td>\n",
       "    </tr>\n",
       "    <tr>\n",
       "      <th>longitude</th>\n",
       "      <td>693071.0</td>\n",
       "      <td>-7.106615e+01</td>\n",
       "      <td>0.020302</td>\n",
       "      <td>-7.110540e+01</td>\n",
       "      <td>-7.108100e+01</td>\n",
       "      <td>-7.106310e+01</td>\n",
       "      <td>-7.105420e+01</td>\n",
       "      <td>-7.103300e+01</td>\n",
       "    </tr>\n",
       "    <tr>\n",
       "      <th>temperature</th>\n",
       "      <td>693071.0</td>\n",
       "      <td>3.958439e+01</td>\n",
       "      <td>6.726084</td>\n",
       "      <td>1.891000e+01</td>\n",
       "      <td>3.645000e+01</td>\n",
       "      <td>4.049000e+01</td>\n",
       "      <td>4.358000e+01</td>\n",
       "      <td>5.722000e+01</td>\n",
       "    </tr>\n",
       "    <tr>\n",
       "      <th>apparentTemperature</th>\n",
       "      <td>693071.0</td>\n",
       "      <td>3.588122e+01</td>\n",
       "      <td>7.918707</td>\n",
       "      <td>1.213000e+01</td>\n",
       "      <td>3.191000e+01</td>\n",
       "      <td>3.590000e+01</td>\n",
       "      <td>4.008000e+01</td>\n",
       "      <td>5.722000e+01</td>\n",
       "    </tr>\n",
       "    <tr>\n",
       "      <th>precipIntensity</th>\n",
       "      <td>693071.0</td>\n",
       "      <td>8.922153e-03</td>\n",
       "      <td>0.026901</td>\n",
       "      <td>0.000000e+00</td>\n",
       "      <td>0.000000e+00</td>\n",
       "      <td>0.000000e+00</td>\n",
       "      <td>0.000000e+00</td>\n",
       "      <td>1.447000e-01</td>\n",
       "    </tr>\n",
       "    <tr>\n",
       "      <th>precipProbability</th>\n",
       "      <td>693071.0</td>\n",
       "      <td>1.460758e-01</td>\n",
       "      <td>0.328938</td>\n",
       "      <td>0.000000e+00</td>\n",
       "      <td>0.000000e+00</td>\n",
       "      <td>0.000000e+00</td>\n",
       "      <td>0.000000e+00</td>\n",
       "      <td>1.000000e+00</td>\n",
       "    </tr>\n",
       "    <tr>\n",
       "      <th>humidity</th>\n",
       "      <td>693071.0</td>\n",
       "      <td>7.411187e-01</td>\n",
       "      <td>0.138595</td>\n",
       "      <td>3.800000e-01</td>\n",
       "      <td>6.400000e-01</td>\n",
       "      <td>7.100000e-01</td>\n",
       "      <td>8.800000e-01</td>\n",
       "      <td>9.600000e-01</td>\n",
       "    </tr>\n",
       "    <tr>\n",
       "      <th>windSpeed</th>\n",
       "      <td>693071.0</td>\n",
       "      <td>6.186253e+00</td>\n",
       "      <td>3.148223</td>\n",
       "      <td>4.500000e-01</td>\n",
       "      <td>3.410000e+00</td>\n",
       "      <td>5.910000e+00</td>\n",
       "      <td>8.410000e+00</td>\n",
       "      <td>1.500000e+01</td>\n",
       "    </tr>\n",
       "    <tr>\n",
       "      <th>windGust</th>\n",
       "      <td>693071.0</td>\n",
       "      <td>8.469860e+00</td>\n",
       "      <td>5.289179</td>\n",
       "      <td>8.000000e-01</td>\n",
       "      <td>4.060000e+00</td>\n",
       "      <td>7.550000e+00</td>\n",
       "      <td>1.174000e+01</td>\n",
       "      <td>2.725000e+01</td>\n",
       "    </tr>\n",
       "    <tr>\n",
       "      <th>windGustTime</th>\n",
       "      <td>693071.0</td>\n",
       "      <td>1.544049e+09</td>\n",
       "      <td>692824.402314</td>\n",
       "      <td>1.543151e+09</td>\n",
       "      <td>1.543432e+09</td>\n",
       "      <td>1.543756e+09</td>\n",
       "      <td>1.544846e+09</td>\n",
       "      <td>1.545127e+09</td>\n",
       "    </tr>\n",
       "    <tr>\n",
       "      <th>visibility</th>\n",
       "      <td>693071.0</td>\n",
       "      <td>8.467970e+00</td>\n",
       "      <td>2.602888</td>\n",
       "      <td>7.170000e-01</td>\n",
       "      <td>8.432000e+00</td>\n",
       "      <td>9.880000e+00</td>\n",
       "      <td>9.996000e+00</td>\n",
       "      <td>1.000000e+01</td>\n",
       "    </tr>\n",
       "    <tr>\n",
       "      <th>temperatureHigh</th>\n",
       "      <td>693071.0</td>\n",
       "      <td>4.504098e+01</td>\n",
       "      <td>5.996541</td>\n",
       "      <td>3.268000e+01</td>\n",
       "      <td>4.257000e+01</td>\n",
       "      <td>4.468000e+01</td>\n",
       "      <td>4.691000e+01</td>\n",
       "      <td>5.787000e+01</td>\n",
       "    </tr>\n",
       "    <tr>\n",
       "      <th>temperatureHighTime</th>\n",
       "      <td>693071.0</td>\n",
       "      <td>1.544050e+09</td>\n",
       "      <td>693792.107469</td>\n",
       "      <td>1.543154e+09</td>\n",
       "      <td>1.543439e+09</td>\n",
       "      <td>1.543788e+09</td>\n",
       "      <td>1.544814e+09</td>\n",
       "      <td>1.545160e+09</td>\n",
       "    </tr>\n",
       "    <tr>\n",
       "      <th>temperatureLow</th>\n",
       "      <td>693071.0</td>\n",
       "      <td>3.415074e+01</td>\n",
       "      <td>6.383163</td>\n",
       "      <td>1.785000e+01</td>\n",
       "      <td>3.017000e+01</td>\n",
       "      <td>3.418000e+01</td>\n",
       "      <td>3.873000e+01</td>\n",
       "      <td>4.660000e+01</td>\n",
       "    </tr>\n",
       "    <tr>\n",
       "      <th>temperatureLowTime</th>\n",
       "      <td>693071.0</td>\n",
       "      <td>1.544102e+09</td>\n",
       "      <td>692292.331983</td>\n",
       "      <td>1.543234e+09</td>\n",
       "      <td>1.543489e+09</td>\n",
       "      <td>1.543817e+09</td>\n",
       "      <td>1.544836e+09</td>\n",
       "      <td>1.545221e+09</td>\n",
       "    </tr>\n",
       "    <tr>\n",
       "      <th>apparentTemperatureHigh</th>\n",
       "      <td>693071.0</td>\n",
       "      <td>4.161405e+01</td>\n",
       "      <td>7.666138</td>\n",
       "      <td>2.262000e+01</td>\n",
       "      <td>3.657000e+01</td>\n",
       "      <td>4.095000e+01</td>\n",
       "      <td>4.412000e+01</td>\n",
       "      <td>5.720000e+01</td>\n",
       "    </tr>\n",
       "    <tr>\n",
       "      <th>apparentTemperatureHighTime</th>\n",
       "      <td>693071.0</td>\n",
       "      <td>1.544050e+09</td>\n",
       "      <td>694169.873816</td>\n",
       "      <td>1.543187e+09</td>\n",
       "      <td>1.543439e+09</td>\n",
       "      <td>1.543788e+09</td>\n",
       "      <td>1.544818e+09</td>\n",
       "      <td>1.545160e+09</td>\n",
       "    </tr>\n",
       "    <tr>\n",
       "      <th>apparentTemperatureLow</th>\n",
       "      <td>693071.0</td>\n",
       "      <td>3.013982e+01</td>\n",
       "      <td>8.057468</td>\n",
       "      <td>1.181000e+01</td>\n",
       "      <td>2.770000e+01</td>\n",
       "      <td>3.003000e+01</td>\n",
       "      <td>3.532000e+01</td>\n",
       "      <td>4.725000e+01</td>\n",
       "    </tr>\n",
       "    <tr>\n",
       "      <th>apparentTemperatureLowTime</th>\n",
       "      <td>693071.0</td>\n",
       "      <td>1.544099e+09</td>\n",
       "      <td>692737.825154</td>\n",
       "      <td>1.543234e+09</td>\n",
       "      <td>1.543478e+09</td>\n",
       "      <td>1.543817e+09</td>\n",
       "      <td>1.544836e+09</td>\n",
       "      <td>1.545199e+09</td>\n",
       "    </tr>\n",
       "    <tr>\n",
       "      <th>dewPoint</th>\n",
       "      <td>693071.0</td>\n",
       "      <td>3.165626e+01</td>\n",
       "      <td>9.142355</td>\n",
       "      <td>4.390000e+00</td>\n",
       "      <td>2.749000e+01</td>\n",
       "      <td>3.069000e+01</td>\n",
       "      <td>3.812000e+01</td>\n",
       "      <td>5.067000e+01</td>\n",
       "    </tr>\n",
       "    <tr>\n",
       "      <th>pressure</th>\n",
       "      <td>693071.0</td>\n",
       "      <td>1.010095e+03</td>\n",
       "      <td>13.472899</td>\n",
       "      <td>9.880900e+02</td>\n",
       "      <td>9.998200e+02</td>\n",
       "      <td>1.009250e+03</td>\n",
       "      <td>1.021860e+03</td>\n",
       "      <td>1.035550e+03</td>\n",
       "    </tr>\n",
       "    <tr>\n",
       "      <th>windBearing</th>\n",
       "      <td>693071.0</td>\n",
       "      <td>2.200559e+02</td>\n",
       "      <td>99.102736</td>\n",
       "      <td>2.000000e+00</td>\n",
       "      <td>1.240000e+02</td>\n",
       "      <td>2.580000e+02</td>\n",
       "      <td>3.030000e+02</td>\n",
       "      <td>3.560000e+02</td>\n",
       "    </tr>\n",
       "    <tr>\n",
       "      <th>cloudCover</th>\n",
       "      <td>693071.0</td>\n",
       "      <td>6.865020e-01</td>\n",
       "      <td>0.358534</td>\n",
       "      <td>0.000000e+00</td>\n",
       "      <td>3.700000e-01</td>\n",
       "      <td>8.200000e-01</td>\n",
       "      <td>1.000000e+00</td>\n",
       "      <td>1.000000e+00</td>\n",
       "    </tr>\n",
       "    <tr>\n",
       "      <th>uvIndex</th>\n",
       "      <td>693071.0</td>\n",
       "      <td>2.489081e-01</td>\n",
       "      <td>0.474097</td>\n",
       "      <td>0.000000e+00</td>\n",
       "      <td>0.000000e+00</td>\n",
       "      <td>0.000000e+00</td>\n",
       "      <td>0.000000e+00</td>\n",
       "      <td>2.000000e+00</td>\n",
       "    </tr>\n",
       "    <tr>\n",
       "      <th>visibility.1</th>\n",
       "      <td>693071.0</td>\n",
       "      <td>8.467970e+00</td>\n",
       "      <td>2.602888</td>\n",
       "      <td>7.170000e-01</td>\n",
       "      <td>8.432000e+00</td>\n",
       "      <td>9.880000e+00</td>\n",
       "      <td>9.996000e+00</td>\n",
       "      <td>1.000000e+01</td>\n",
       "    </tr>\n",
       "    <tr>\n",
       "      <th>ozone</th>\n",
       "      <td>693071.0</td>\n",
       "      <td>3.135136e+02</td>\n",
       "      <td>27.953061</td>\n",
       "      <td>2.694000e+02</td>\n",
       "      <td>2.909000e+02</td>\n",
       "      <td>3.074000e+02</td>\n",
       "      <td>3.318000e+02</td>\n",
       "      <td>3.789000e+02</td>\n",
       "    </tr>\n",
       "    <tr>\n",
       "      <th>sunriseTime</th>\n",
       "      <td>693071.0</td>\n",
       "      <td>1.544027e+09</td>\n",
       "      <td>691139.271721</td>\n",
       "      <td>1.543147e+09</td>\n",
       "      <td>1.543406e+09</td>\n",
       "      <td>1.543752e+09</td>\n",
       "      <td>1.544789e+09</td>\n",
       "      <td>1.545135e+09</td>\n",
       "    </tr>\n",
       "    <tr>\n",
       "      <th>sunsetTime</th>\n",
       "      <td>693071.0</td>\n",
       "      <td>1.544060e+09</td>\n",
       "      <td>690663.392963</td>\n",
       "      <td>1.543181e+09</td>\n",
       "      <td>1.543440e+09</td>\n",
       "      <td>1.543785e+09</td>\n",
       "      <td>1.544822e+09</td>\n",
       "      <td>1.545168e+09</td>\n",
       "    </tr>\n",
       "    <tr>\n",
       "      <th>moonPhase</th>\n",
       "      <td>693071.0</td>\n",
       "      <td>5.790655e-01</td>\n",
       "      <td>0.244705</td>\n",
       "      <td>9.000000e-02</td>\n",
       "      <td>3.000000e-01</td>\n",
       "      <td>6.800000e-01</td>\n",
       "      <td>7.900000e-01</td>\n",
       "      <td>9.300000e-01</td>\n",
       "    </tr>\n",
       "    <tr>\n",
       "      <th>precipIntensityMax</th>\n",
       "      <td>693071.0</td>\n",
       "      <td>3.737441e-02</td>\n",
       "      <td>0.055214</td>\n",
       "      <td>0.000000e+00</td>\n",
       "      <td>0.000000e+00</td>\n",
       "      <td>4.000000e-04</td>\n",
       "      <td>9.160000e-02</td>\n",
       "      <td>1.459000e-01</td>\n",
       "    </tr>\n",
       "    <tr>\n",
       "      <th>uvIndexTime</th>\n",
       "      <td>693071.0</td>\n",
       "      <td>1.544044e+09</td>\n",
       "      <td>691202.767271</td>\n",
       "      <td>1.543162e+09</td>\n",
       "      <td>1.543421e+09</td>\n",
       "      <td>1.543770e+09</td>\n",
       "      <td>1.544807e+09</td>\n",
       "      <td>1.545152e+09</td>\n",
       "    </tr>\n",
       "    <tr>\n",
       "      <th>temperatureMin</th>\n",
       "      <td>693071.0</td>\n",
       "      <td>3.345777e+01</td>\n",
       "      <td>6.467224</td>\n",
       "      <td>1.563000e+01</td>\n",
       "      <td>3.017000e+01</td>\n",
       "      <td>3.424000e+01</td>\n",
       "      <td>3.888000e+01</td>\n",
       "      <td>4.310000e+01</td>\n",
       "    </tr>\n",
       "    <tr>\n",
       "      <th>temperatureMinTime</th>\n",
       "      <td>693071.0</td>\n",
       "      <td>1.544042e+09</td>\n",
       "      <td>690195.441406</td>\n",
       "      <td>1.543122e+09</td>\n",
       "      <td>1.543399e+09</td>\n",
       "      <td>1.543727e+09</td>\n",
       "      <td>1.544789e+09</td>\n",
       "      <td>1.545192e+09</td>\n",
       "    </tr>\n",
       "    <tr>\n",
       "      <th>temperatureMax</th>\n",
       "      <td>693071.0</td>\n",
       "      <td>4.526131e+01</td>\n",
       "      <td>5.645046</td>\n",
       "      <td>3.351000e+01</td>\n",
       "      <td>4.257000e+01</td>\n",
       "      <td>4.468000e+01</td>\n",
       "      <td>4.691000e+01</td>\n",
       "      <td>5.787000e+01</td>\n",
       "    </tr>\n",
       "    <tr>\n",
       "      <th>temperatureMaxTime</th>\n",
       "      <td>693071.0</td>\n",
       "      <td>1.544047e+09</td>\n",
       "      <td>690135.337190</td>\n",
       "      <td>1.543154e+09</td>\n",
       "      <td>1.543439e+09</td>\n",
       "      <td>1.543788e+09</td>\n",
       "      <td>1.544814e+09</td>\n",
       "      <td>1.545109e+09</td>\n",
       "    </tr>\n",
       "    <tr>\n",
       "      <th>apparentTemperatureMin</th>\n",
       "      <td>693071.0</td>\n",
       "      <td>2.973100e+01</td>\n",
       "      <td>7.110494</td>\n",
       "      <td>1.181000e+01</td>\n",
       "      <td>2.776000e+01</td>\n",
       "      <td>3.013000e+01</td>\n",
       "      <td>3.571000e+01</td>\n",
       "      <td>4.005000e+01</td>\n",
       "    </tr>\n",
       "    <tr>\n",
       "      <th>apparentTemperatureMinTime</th>\n",
       "      <td>693071.0</td>\n",
       "      <td>1.544048e+09</td>\n",
       "      <td>687186.191495</td>\n",
       "      <td>1.543136e+09</td>\n",
       "      <td>1.543399e+09</td>\n",
       "      <td>1.543745e+09</td>\n",
       "      <td>1.544789e+09</td>\n",
       "      <td>1.545134e+09</td>\n",
       "    </tr>\n",
       "    <tr>\n",
       "      <th>apparentTemperatureMax</th>\n",
       "      <td>693071.0</td>\n",
       "      <td>4.199734e+01</td>\n",
       "      <td>6.936841</td>\n",
       "      <td>2.895000e+01</td>\n",
       "      <td>3.657000e+01</td>\n",
       "      <td>4.095000e+01</td>\n",
       "      <td>4.412000e+01</td>\n",
       "      <td>5.720000e+01</td>\n",
       "    </tr>\n",
       "    <tr>\n",
       "      <th>apparentTemperatureMaxTime</th>\n",
       "      <td>693071.0</td>\n",
       "      <td>1.544048e+09</td>\n",
       "      <td>691077.651976</td>\n",
       "      <td>1.543187e+09</td>\n",
       "      <td>1.543439e+09</td>\n",
       "      <td>1.543788e+09</td>\n",
       "      <td>1.544818e+09</td>\n",
       "      <td>1.545109e+09</td>\n",
       "    </tr>\n",
       "  </tbody>\n",
       "</table>\n",
       "</div>"
      ],
      "text/plain": [
       "                                count          mean            std  \\\n",
       "timestamp                    693071.0  1.544046e+09  689192.492586   \n",
       "hour                         693071.0  1.161914e+01       6.948114   \n",
       "day                          693071.0  1.779436e+01       9.982286   \n",
       "month                        693071.0  1.158668e+01       0.492429   \n",
       "price                        637976.0  1.654513e+01       9.324359   \n",
       "distance                     693071.0  2.189430e+00       1.138937   \n",
       "surge_multiplier             693071.0  1.013870e+00       0.091641   \n",
       "latitude                     693071.0  4.233817e+01       0.047840   \n",
       "longitude                    693071.0 -7.106615e+01       0.020302   \n",
       "temperature                  693071.0  3.958439e+01       6.726084   \n",
       "apparentTemperature          693071.0  3.588122e+01       7.918707   \n",
       "precipIntensity              693071.0  8.922153e-03       0.026901   \n",
       "precipProbability            693071.0  1.460758e-01       0.328938   \n",
       "humidity                     693071.0  7.411187e-01       0.138595   \n",
       "windSpeed                    693071.0  6.186253e+00       3.148223   \n",
       "windGust                     693071.0  8.469860e+00       5.289179   \n",
       "windGustTime                 693071.0  1.544049e+09  692824.402314   \n",
       "visibility                   693071.0  8.467970e+00       2.602888   \n",
       "temperatureHigh              693071.0  4.504098e+01       5.996541   \n",
       "temperatureHighTime          693071.0  1.544050e+09  693792.107469   \n",
       "temperatureLow               693071.0  3.415074e+01       6.383163   \n",
       "temperatureLowTime           693071.0  1.544102e+09  692292.331983   \n",
       "apparentTemperatureHigh      693071.0  4.161405e+01       7.666138   \n",
       "apparentTemperatureHighTime  693071.0  1.544050e+09  694169.873816   \n",
       "apparentTemperatureLow       693071.0  3.013982e+01       8.057468   \n",
       "apparentTemperatureLowTime   693071.0  1.544099e+09  692737.825154   \n",
       "dewPoint                     693071.0  3.165626e+01       9.142355   \n",
       "pressure                     693071.0  1.010095e+03      13.472899   \n",
       "windBearing                  693071.0  2.200559e+02      99.102736   \n",
       "cloudCover                   693071.0  6.865020e-01       0.358534   \n",
       "uvIndex                      693071.0  2.489081e-01       0.474097   \n",
       "visibility.1                 693071.0  8.467970e+00       2.602888   \n",
       "ozone                        693071.0  3.135136e+02      27.953061   \n",
       "sunriseTime                  693071.0  1.544027e+09  691139.271721   \n",
       "sunsetTime                   693071.0  1.544060e+09  690663.392963   \n",
       "moonPhase                    693071.0  5.790655e-01       0.244705   \n",
       "precipIntensityMax           693071.0  3.737441e-02       0.055214   \n",
       "uvIndexTime                  693071.0  1.544044e+09  691202.767271   \n",
       "temperatureMin               693071.0  3.345777e+01       6.467224   \n",
       "temperatureMinTime           693071.0  1.544042e+09  690195.441406   \n",
       "temperatureMax               693071.0  4.526131e+01       5.645046   \n",
       "temperatureMaxTime           693071.0  1.544047e+09  690135.337190   \n",
       "apparentTemperatureMin       693071.0  2.973100e+01       7.110494   \n",
       "apparentTemperatureMinTime   693071.0  1.544048e+09  687186.191495   \n",
       "apparentTemperatureMax       693071.0  4.199734e+01       6.936841   \n",
       "apparentTemperatureMaxTime   693071.0  1.544048e+09  691077.651976   \n",
       "\n",
       "                                      min           25%           50%  \\\n",
       "timestamp                    1.543204e+09  1.543444e+09  1.543737e+09   \n",
       "hour                         0.000000e+00  6.000000e+00  1.200000e+01   \n",
       "day                          1.000000e+00  1.300000e+01  1.700000e+01   \n",
       "month                        1.100000e+01  1.100000e+01  1.200000e+01   \n",
       "price                        2.500000e+00  9.000000e+00  1.350000e+01   \n",
       "distance                     2.000000e-02  1.280000e+00  2.160000e+00   \n",
       "surge_multiplier             1.000000e+00  1.000000e+00  1.000000e+00   \n",
       "latitude                     4.221480e+01  4.235030e+01  4.235190e+01   \n",
       "longitude                   -7.110540e+01 -7.108100e+01 -7.106310e+01   \n",
       "temperature                  1.891000e+01  3.645000e+01  4.049000e+01   \n",
       "apparentTemperature          1.213000e+01  3.191000e+01  3.590000e+01   \n",
       "precipIntensity              0.000000e+00  0.000000e+00  0.000000e+00   \n",
       "precipProbability            0.000000e+00  0.000000e+00  0.000000e+00   \n",
       "humidity                     3.800000e-01  6.400000e-01  7.100000e-01   \n",
       "windSpeed                    4.500000e-01  3.410000e+00  5.910000e+00   \n",
       "windGust                     8.000000e-01  4.060000e+00  7.550000e+00   \n",
       "windGustTime                 1.543151e+09  1.543432e+09  1.543756e+09   \n",
       "visibility                   7.170000e-01  8.432000e+00  9.880000e+00   \n",
       "temperatureHigh              3.268000e+01  4.257000e+01  4.468000e+01   \n",
       "temperatureHighTime          1.543154e+09  1.543439e+09  1.543788e+09   \n",
       "temperatureLow               1.785000e+01  3.017000e+01  3.418000e+01   \n",
       "temperatureLowTime           1.543234e+09  1.543489e+09  1.543817e+09   \n",
       "apparentTemperatureHigh      2.262000e+01  3.657000e+01  4.095000e+01   \n",
       "apparentTemperatureHighTime  1.543187e+09  1.543439e+09  1.543788e+09   \n",
       "apparentTemperatureLow       1.181000e+01  2.770000e+01  3.003000e+01   \n",
       "apparentTemperatureLowTime   1.543234e+09  1.543478e+09  1.543817e+09   \n",
       "dewPoint                     4.390000e+00  2.749000e+01  3.069000e+01   \n",
       "pressure                     9.880900e+02  9.998200e+02  1.009250e+03   \n",
       "windBearing                  2.000000e+00  1.240000e+02  2.580000e+02   \n",
       "cloudCover                   0.000000e+00  3.700000e-01  8.200000e-01   \n",
       "uvIndex                      0.000000e+00  0.000000e+00  0.000000e+00   \n",
       "visibility.1                 7.170000e-01  8.432000e+00  9.880000e+00   \n",
       "ozone                        2.694000e+02  2.909000e+02  3.074000e+02   \n",
       "sunriseTime                  1.543147e+09  1.543406e+09  1.543752e+09   \n",
       "sunsetTime                   1.543181e+09  1.543440e+09  1.543785e+09   \n",
       "moonPhase                    9.000000e-02  3.000000e-01  6.800000e-01   \n",
       "precipIntensityMax           0.000000e+00  0.000000e+00  4.000000e-04   \n",
       "uvIndexTime                  1.543162e+09  1.543421e+09  1.543770e+09   \n",
       "temperatureMin               1.563000e+01  3.017000e+01  3.424000e+01   \n",
       "temperatureMinTime           1.543122e+09  1.543399e+09  1.543727e+09   \n",
       "temperatureMax               3.351000e+01  4.257000e+01  4.468000e+01   \n",
       "temperatureMaxTime           1.543154e+09  1.543439e+09  1.543788e+09   \n",
       "apparentTemperatureMin       1.181000e+01  2.776000e+01  3.013000e+01   \n",
       "apparentTemperatureMinTime   1.543136e+09  1.543399e+09  1.543745e+09   \n",
       "apparentTemperatureMax       2.895000e+01  3.657000e+01  4.095000e+01   \n",
       "apparentTemperatureMaxTime   1.543187e+09  1.543439e+09  1.543788e+09   \n",
       "\n",
       "                                      75%           max  \n",
       "timestamp                    1.544828e+09  1.545161e+09  \n",
       "hour                         1.800000e+01  2.300000e+01  \n",
       "day                          2.800000e+01  3.000000e+01  \n",
       "month                        1.200000e+01  1.200000e+01  \n",
       "price                        2.250000e+01  9.750000e+01  \n",
       "distance                     2.920000e+00  7.860000e+00  \n",
       "surge_multiplier             1.000000e+00  3.000000e+00  \n",
       "latitude                     4.236470e+01  4.236610e+01  \n",
       "longitude                   -7.105420e+01 -7.103300e+01  \n",
       "temperature                  4.358000e+01  5.722000e+01  \n",
       "apparentTemperature          4.008000e+01  5.722000e+01  \n",
       "precipIntensity              0.000000e+00  1.447000e-01  \n",
       "precipProbability            0.000000e+00  1.000000e+00  \n",
       "humidity                     8.800000e-01  9.600000e-01  \n",
       "windSpeed                    8.410000e+00  1.500000e+01  \n",
       "windGust                     1.174000e+01  2.725000e+01  \n",
       "windGustTime                 1.544846e+09  1.545127e+09  \n",
       "visibility                   9.996000e+00  1.000000e+01  \n",
       "temperatureHigh              4.691000e+01  5.787000e+01  \n",
       "temperatureHighTime          1.544814e+09  1.545160e+09  \n",
       "temperatureLow               3.873000e+01  4.660000e+01  \n",
       "temperatureLowTime           1.544836e+09  1.545221e+09  \n",
       "apparentTemperatureHigh      4.412000e+01  5.720000e+01  \n",
       "apparentTemperatureHighTime  1.544818e+09  1.545160e+09  \n",
       "apparentTemperatureLow       3.532000e+01  4.725000e+01  \n",
       "apparentTemperatureLowTime   1.544836e+09  1.545199e+09  \n",
       "dewPoint                     3.812000e+01  5.067000e+01  \n",
       "pressure                     1.021860e+03  1.035550e+03  \n",
       "windBearing                  3.030000e+02  3.560000e+02  \n",
       "cloudCover                   1.000000e+00  1.000000e+00  \n",
       "uvIndex                      0.000000e+00  2.000000e+00  \n",
       "visibility.1                 9.996000e+00  1.000000e+01  \n",
       "ozone                        3.318000e+02  3.789000e+02  \n",
       "sunriseTime                  1.544789e+09  1.545135e+09  \n",
       "sunsetTime                   1.544822e+09  1.545168e+09  \n",
       "moonPhase                    7.900000e-01  9.300000e-01  \n",
       "precipIntensityMax           9.160000e-02  1.459000e-01  \n",
       "uvIndexTime                  1.544807e+09  1.545152e+09  \n",
       "temperatureMin               3.888000e+01  4.310000e+01  \n",
       "temperatureMinTime           1.544789e+09  1.545192e+09  \n",
       "temperatureMax               4.691000e+01  5.787000e+01  \n",
       "temperatureMaxTime           1.544814e+09  1.545109e+09  \n",
       "apparentTemperatureMin       3.571000e+01  4.005000e+01  \n",
       "apparentTemperatureMinTime   1.544789e+09  1.545134e+09  \n",
       "apparentTemperatureMax       4.412000e+01  5.720000e+01  \n",
       "apparentTemperatureMaxTime   1.544818e+09  1.545109e+09  "
      ]
     },
     "execution_count": 5,
     "metadata": {},
     "output_type": "execute_result"
    }
   ],
   "source": [
    "df.describe().T"
   ]
  },
  {
   "cell_type": "code",
   "execution_count": 6,
   "id": "4efbfb39",
   "metadata": {},
   "outputs": [
    {
     "data": {
      "text/html": [
       "<div>\n",
       "<style scoped>\n",
       "    .dataframe tbody tr th:only-of-type {\n",
       "        vertical-align: middle;\n",
       "    }\n",
       "\n",
       "    .dataframe tbody tr th {\n",
       "        vertical-align: top;\n",
       "    }\n",
       "\n",
       "    .dataframe thead th {\n",
       "        text-align: right;\n",
       "    }\n",
       "</style>\n",
       "<table border=\"1\" class=\"dataframe\">\n",
       "  <thead>\n",
       "    <tr style=\"text-align: right;\">\n",
       "      <th></th>\n",
       "      <th>id</th>\n",
       "      <th>datetime</th>\n",
       "      <th>timezone</th>\n",
       "      <th>source</th>\n",
       "      <th>destination</th>\n",
       "      <th>cab_type</th>\n",
       "      <th>product_id</th>\n",
       "      <th>name</th>\n",
       "      <th>short_summary</th>\n",
       "      <th>long_summary</th>\n",
       "      <th>icon</th>\n",
       "    </tr>\n",
       "  </thead>\n",
       "  <tbody>\n",
       "    <tr>\n",
       "      <th>count</th>\n",
       "      <td>693071</td>\n",
       "      <td>693071</td>\n",
       "      <td>693071</td>\n",
       "      <td>693071</td>\n",
       "      <td>693071</td>\n",
       "      <td>693071</td>\n",
       "      <td>693071</td>\n",
       "      <td>693071</td>\n",
       "      <td>693071</td>\n",
       "      <td>693071</td>\n",
       "      <td>693071</td>\n",
       "    </tr>\n",
       "    <tr>\n",
       "      <th>unique</th>\n",
       "      <td>693071</td>\n",
       "      <td>31350</td>\n",
       "      <td>1</td>\n",
       "      <td>12</td>\n",
       "      <td>12</td>\n",
       "      <td>2</td>\n",
       "      <td>13</td>\n",
       "      <td>13</td>\n",
       "      <td>9</td>\n",
       "      <td>11</td>\n",
       "      <td>7</td>\n",
       "    </tr>\n",
       "    <tr>\n",
       "      <th>top</th>\n",
       "      <td>424553bb-7174-41ea-aeb4-fe06d4f4b9d7</td>\n",
       "      <td>2018-11-26 23:21:14</td>\n",
       "      <td>America/New_York</td>\n",
       "      <td>Financial District</td>\n",
       "      <td>Financial District</td>\n",
       "      <td>Uber</td>\n",
       "      <td>6f72dfc5-27f1-42e8-84db-ccc7a75f6969</td>\n",
       "      <td>UberXL</td>\n",
       "      <td>Overcast</td>\n",
       "      <td>Mostly cloudy throughout the day.</td>\n",
       "      <td>cloudy</td>\n",
       "    </tr>\n",
       "    <tr>\n",
       "      <th>freq</th>\n",
       "      <td>1</td>\n",
       "      <td>156</td>\n",
       "      <td>693071</td>\n",
       "      <td>58857</td>\n",
       "      <td>58851</td>\n",
       "      <td>385663</td>\n",
       "      <td>55096</td>\n",
       "      <td>55096</td>\n",
       "      <td>218895</td>\n",
       "      <td>202340</td>\n",
       "      <td>218895</td>\n",
       "    </tr>\n",
       "  </tbody>\n",
       "</table>\n",
       "</div>"
      ],
      "text/plain": [
       "                                          id             datetime  \\\n",
       "count                                 693071               693071   \n",
       "unique                                693071                31350   \n",
       "top     424553bb-7174-41ea-aeb4-fe06d4f4b9d7  2018-11-26 23:21:14   \n",
       "freq                                       1                  156   \n",
       "\n",
       "                timezone              source         destination cab_type  \\\n",
       "count             693071              693071              693071   693071   \n",
       "unique                 1                  12                  12        2   \n",
       "top     America/New_York  Financial District  Financial District     Uber   \n",
       "freq              693071               58857               58851   385663   \n",
       "\n",
       "                                  product_id    name short_summary  \\\n",
       "count                                 693071  693071        693071   \n",
       "unique                                    13      13             9   \n",
       "top     6f72dfc5-27f1-42e8-84db-ccc7a75f6969  UberXL     Overcast    \n",
       "freq                                   55096   55096        218895   \n",
       "\n",
       "                               long_summary      icon  \n",
       "count                                693071    693071  \n",
       "unique                                   11         7  \n",
       "top      Mostly cloudy throughout the day.    cloudy   \n",
       "freq                                 202340    218895  "
      ]
     },
     "execution_count": 6,
     "metadata": {},
     "output_type": "execute_result"
    }
   ],
   "source": [
    "df.describe(include ='O')"
   ]
  },
  {
   "cell_type": "code",
   "execution_count": 7,
   "id": "d061b3cb",
   "metadata": {},
   "outputs": [
    {
     "name": "stdout",
     "output_type": "stream",
     "text": [
      "id : 693071\n",
      "timestamp : 36179\n",
      "hour : 24\n",
      "day : 17\n",
      "month : 2\n",
      "datetime : 31350\n",
      "timezone : 1\n",
      "source : 12\n",
      "destination : 12\n",
      "cab_type : 2\n",
      "product_id : 13\n",
      "name : 13\n",
      "price : 147\n",
      "distance : 549\n",
      "surge_multiplier : 7\n",
      "latitude : 11\n",
      "longitude : 12\n",
      "temperature : 308\n",
      "apparentTemperature : 319\n",
      "short_summary : 9\n",
      "long_summary : 11\n",
      "precipIntensity : 63\n",
      "precipProbability : 29\n",
      "humidity : 51\n",
      "windSpeed : 291\n",
      "windGust : 286\n",
      "windGustTime : 25\n",
      "visibility : 227\n",
      "temperatureHigh : 129\n",
      "temperatureHighTime : 23\n",
      "temperatureLow : 133\n",
      "temperatureLowTime : 31\n",
      "apparentTemperatureHigh : 124\n",
      "apparentTemperatureHighTime : 27\n",
      "apparentTemperatureLow : 136\n",
      "apparentTemperatureLowTime : 32\n",
      "icon : 7\n",
      "dewPoint : 313\n",
      "pressure : 316\n",
      "windBearing : 195\n",
      "cloudCover : 83\n",
      "uvIndex : 3\n",
      "visibility.1 : 227\n",
      "ozone : 274\n",
      "sunriseTime : 110\n",
      "sunsetTime : 114\n",
      "moonPhase : 18\n",
      "precipIntensityMax : 65\n",
      "uvIndexTime : 20\n",
      "temperatureMin : 131\n",
      "temperatureMinTime : 25\n",
      "temperatureMax : 128\n",
      "temperatureMaxTime : 23\n",
      "apparentTemperatureMin : 137\n",
      "apparentTemperatureMinTime : 29\n",
      "apparentTemperatureMax : 125\n",
      "apparentTemperatureMaxTime : 27\n"
     ]
    }
   ],
   "source": [
    "# Melihat unique value pada masing-masing atribut\n",
    "for col in df.columns:\n",
    "    print(col,':', df[col].nunique())"
   ]
  },
  {
   "cell_type": "code",
   "execution_count": 8,
   "id": "414daa5c",
   "metadata": {},
   "outputs": [
    {
     "data": {
      "text/plain": [
       "(693071, 57)"
      ]
     },
     "execution_count": 8,
     "metadata": {},
     "output_type": "execute_result"
    }
   ],
   "source": [
    "df.shape"
   ]
  },
  {
   "cell_type": "markdown",
   "id": "91661dac",
   "metadata": {},
   "source": [
    "# D. Data Cleaning\n",
    "\n",
    "Bagian ini berisi proses penyiapan data berupa data cleaning sebelum\n",
    "dilakukan explorasi data lebih lanjut. Proses cleaning dapat berupa\n",
    "memberi nama baru untuk setiap kolom, mengisi missing values,\n",
    "menghapus kolom yang tidak dipakai, dan lain sebagainya."
   ]
  },
  {
   "cell_type": "code",
   "execution_count": 9,
   "id": "a399ee2e",
   "metadata": {},
   "outputs": [
    {
     "data": {
      "text/plain": [
       "0"
      ]
     },
     "execution_count": 9,
     "metadata": {},
     "output_type": "execute_result"
    }
   ],
   "source": [
    "# Melihat duplikasi data\n",
    "df.duplicated().sum()"
   ]
  },
  {
   "cell_type": "code",
   "execution_count": 10,
   "id": "21b521e7",
   "metadata": {},
   "outputs": [
    {
     "data": {
      "text/plain": [
       "id                                 0\n",
       "timestamp                          0\n",
       "hour                               0\n",
       "day                                0\n",
       "month                              0\n",
       "datetime                           0\n",
       "timezone                           0\n",
       "source                             0\n",
       "destination                        0\n",
       "cab_type                           0\n",
       "product_id                         0\n",
       "name                               0\n",
       "price                          55095\n",
       "distance                           0\n",
       "surge_multiplier                   0\n",
       "latitude                           0\n",
       "longitude                          0\n",
       "temperature                        0\n",
       "apparentTemperature                0\n",
       "short_summary                      0\n",
       "long_summary                       0\n",
       "precipIntensity                    0\n",
       "precipProbability                  0\n",
       "humidity                           0\n",
       "windSpeed                          0\n",
       "windGust                           0\n",
       "windGustTime                       0\n",
       "visibility                         0\n",
       "temperatureHigh                    0\n",
       "temperatureHighTime                0\n",
       "temperatureLow                     0\n",
       "temperatureLowTime                 0\n",
       "apparentTemperatureHigh            0\n",
       "apparentTemperatureHighTime        0\n",
       "apparentTemperatureLow             0\n",
       "apparentTemperatureLowTime         0\n",
       "icon                               0\n",
       "dewPoint                           0\n",
       "pressure                           0\n",
       "windBearing                        0\n",
       "cloudCover                         0\n",
       "uvIndex                            0\n",
       "visibility.1                       0\n",
       "ozone                              0\n",
       "sunriseTime                        0\n",
       "sunsetTime                         0\n",
       "moonPhase                          0\n",
       "precipIntensityMax                 0\n",
       "uvIndexTime                        0\n",
       "temperatureMin                     0\n",
       "temperatureMinTime                 0\n",
       "temperatureMax                     0\n",
       "temperatureMaxTime                 0\n",
       "apparentTemperatureMin             0\n",
       "apparentTemperatureMinTime         0\n",
       "apparentTemperatureMax             0\n",
       "apparentTemperatureMaxTime         0\n",
       "dtype: int64"
      ]
     },
     "execution_count": 10,
     "metadata": {},
     "output_type": "execute_result"
    }
   ],
   "source": [
    "# Melihat Missing value pada dataset\n",
    "df.isnull().sum()"
   ]
  },
  {
   "cell_type": "code",
   "execution_count": 11,
   "id": "40229852",
   "metadata": {},
   "outputs": [
    {
     "data": {
      "text/plain": [
       "id                             0\n",
       "timestamp                      0\n",
       "hour                           0\n",
       "day                            0\n",
       "month                          0\n",
       "datetime                       0\n",
       "timezone                       0\n",
       "source                         0\n",
       "destination                    0\n",
       "cab_type                       0\n",
       "product_id                     0\n",
       "name                           0\n",
       "price                          0\n",
       "distance                       0\n",
       "surge_multiplier               0\n",
       "latitude                       0\n",
       "longitude                      0\n",
       "temperature                    0\n",
       "apparentTemperature            0\n",
       "short_summary                  0\n",
       "long_summary                   0\n",
       "precipIntensity                0\n",
       "precipProbability              0\n",
       "humidity                       0\n",
       "windSpeed                      0\n",
       "windGust                       0\n",
       "windGustTime                   0\n",
       "visibility                     0\n",
       "temperatureHigh                0\n",
       "temperatureHighTime            0\n",
       "temperatureLow                 0\n",
       "temperatureLowTime             0\n",
       "apparentTemperatureHigh        0\n",
       "apparentTemperatureHighTime    0\n",
       "apparentTemperatureLow         0\n",
       "apparentTemperatureLowTime     0\n",
       "icon                           0\n",
       "dewPoint                       0\n",
       "pressure                       0\n",
       "windBearing                    0\n",
       "cloudCover                     0\n",
       "uvIndex                        0\n",
       "visibility.1                   0\n",
       "ozone                          0\n",
       "sunriseTime                    0\n",
       "sunsetTime                     0\n",
       "moonPhase                      0\n",
       "precipIntensityMax             0\n",
       "uvIndexTime                    0\n",
       "temperatureMin                 0\n",
       "temperatureMinTime             0\n",
       "temperatureMax                 0\n",
       "temperatureMaxTime             0\n",
       "apparentTemperatureMin         0\n",
       "apparentTemperatureMinTime     0\n",
       "apparentTemperatureMax         0\n",
       "apparentTemperatureMaxTime     0\n",
       "dtype: int64"
      ]
     },
     "execution_count": 11,
     "metadata": {},
     "output_type": "execute_result"
    }
   ],
   "source": [
    "# Menghilangkan missing valuepada kolom price\n",
    "med = df['price'].median()\n",
    "df['price'].fillna(med, inplace=True)\n",
    "\n",
    "df.isnull().sum()"
   ]
  },
  {
   "cell_type": "code",
   "execution_count": 12,
   "id": "78cb1875",
   "metadata": {},
   "outputs": [],
   "source": [
    "# Menghilangkan kolom yang tidak diperlukan\n",
    "drop_cols = [\"id\", \"timestamp\", \"timezone\", \"product_id\", \"latitude\", \"longitude\", \"precipIntensity\", \"precipProbability\", \n",
    "             \"windGustTime\", \"temperatureHigh\", \"temperatureHighTime\", \"temperatureLow\", \"temperatureLowTime\", \n",
    "             \"apparentTemperatureHigh\", \"apparentTemperatureHighTime\", \"apparentTemperatureLow\", \"apparentTemperatureLowTime\", \n",
    "             \"icon\", \"dewPoint\", \"windBearing\", \"uvIndex\", \"visibility.1\", \"ozone\", \"sunriseTime\", \"sunsetTime\", \"uvIndexTime\",\n",
    "             \"temperatureMin\", \"temperatureMinTime\", \"temperatureMax\", \"temperatureMaxTime\", \"apparentTemperatureMin\", \n",
    "             \"apparentTemperatureMinTime\", \"apparentTemperatureMax\", \"apparentTemperatureMaxTime\", \"apparentTemperature\",\n",
    "             \"short_summary\", \"long_summary\", \"humidity\", \"windSpeed\", \"windGust\", \"visibility\", \"pressure\",\n",
    "             \"cloudCover\", \"moonPhase\", \"precipIntensityMax\"]"
   ]
  },
  {
   "cell_type": "code",
   "execution_count": 13,
   "id": "9b9242c0",
   "metadata": {},
   "outputs": [
    {
     "data": {
      "text/html": [
       "<div>\n",
       "<style scoped>\n",
       "    .dataframe tbody tr th:only-of-type {\n",
       "        vertical-align: middle;\n",
       "    }\n",
       "\n",
       "    .dataframe tbody tr th {\n",
       "        vertical-align: top;\n",
       "    }\n",
       "\n",
       "    .dataframe thead th {\n",
       "        text-align: right;\n",
       "    }\n",
       "</style>\n",
       "<table border=\"1\" class=\"dataframe\">\n",
       "  <thead>\n",
       "    <tr style=\"text-align: right;\">\n",
       "      <th></th>\n",
       "      <th>hour</th>\n",
       "      <th>day</th>\n",
       "      <th>month</th>\n",
       "      <th>datetime</th>\n",
       "      <th>source</th>\n",
       "      <th>destination</th>\n",
       "      <th>cab_type</th>\n",
       "      <th>name</th>\n",
       "      <th>price</th>\n",
       "      <th>distance</th>\n",
       "      <th>surge_multiplier</th>\n",
       "      <th>temperature</th>\n",
       "    </tr>\n",
       "  </thead>\n",
       "  <tbody>\n",
       "    <tr>\n",
       "      <th>0</th>\n",
       "      <td>9</td>\n",
       "      <td>16</td>\n",
       "      <td>12</td>\n",
       "      <td>2018-12-16 09:30:07</td>\n",
       "      <td>Haymarket Square</td>\n",
       "      <td>North Station</td>\n",
       "      <td>Lyft</td>\n",
       "      <td>Shared</td>\n",
       "      <td>5.0</td>\n",
       "      <td>0.44</td>\n",
       "      <td>1.0</td>\n",
       "      <td>42.34</td>\n",
       "    </tr>\n",
       "    <tr>\n",
       "      <th>1</th>\n",
       "      <td>2</td>\n",
       "      <td>27</td>\n",
       "      <td>11</td>\n",
       "      <td>2018-11-27 02:00:23</td>\n",
       "      <td>Haymarket Square</td>\n",
       "      <td>North Station</td>\n",
       "      <td>Lyft</td>\n",
       "      <td>Lux</td>\n",
       "      <td>11.0</td>\n",
       "      <td>0.44</td>\n",
       "      <td>1.0</td>\n",
       "      <td>43.58</td>\n",
       "    </tr>\n",
       "    <tr>\n",
       "      <th>2</th>\n",
       "      <td>1</td>\n",
       "      <td>28</td>\n",
       "      <td>11</td>\n",
       "      <td>2018-11-28 01:00:22</td>\n",
       "      <td>Haymarket Square</td>\n",
       "      <td>North Station</td>\n",
       "      <td>Lyft</td>\n",
       "      <td>Lyft</td>\n",
       "      <td>7.0</td>\n",
       "      <td>0.44</td>\n",
       "      <td>1.0</td>\n",
       "      <td>38.33</td>\n",
       "    </tr>\n",
       "    <tr>\n",
       "      <th>3</th>\n",
       "      <td>4</td>\n",
       "      <td>30</td>\n",
       "      <td>11</td>\n",
       "      <td>2018-11-30 04:53:02</td>\n",
       "      <td>Haymarket Square</td>\n",
       "      <td>North Station</td>\n",
       "      <td>Lyft</td>\n",
       "      <td>Lux Black XL</td>\n",
       "      <td>26.0</td>\n",
       "      <td>0.44</td>\n",
       "      <td>1.0</td>\n",
       "      <td>34.38</td>\n",
       "    </tr>\n",
       "    <tr>\n",
       "      <th>4</th>\n",
       "      <td>3</td>\n",
       "      <td>29</td>\n",
       "      <td>11</td>\n",
       "      <td>2018-11-29 03:49:20</td>\n",
       "      <td>Haymarket Square</td>\n",
       "      <td>North Station</td>\n",
       "      <td>Lyft</td>\n",
       "      <td>Lyft XL</td>\n",
       "      <td>9.0</td>\n",
       "      <td>0.44</td>\n",
       "      <td>1.0</td>\n",
       "      <td>37.44</td>\n",
       "    </tr>\n",
       "  </tbody>\n",
       "</table>\n",
       "</div>"
      ],
      "text/plain": [
       "   hour  day  month             datetime            source    destination  \\\n",
       "0     9   16     12  2018-12-16 09:30:07  Haymarket Square  North Station   \n",
       "1     2   27     11  2018-11-27 02:00:23  Haymarket Square  North Station   \n",
       "2     1   28     11  2018-11-28 01:00:22  Haymarket Square  North Station   \n",
       "3     4   30     11  2018-11-30 04:53:02  Haymarket Square  North Station   \n",
       "4     3   29     11  2018-11-29 03:49:20  Haymarket Square  North Station   \n",
       "\n",
       "  cab_type          name  price  distance  surge_multiplier  temperature  \n",
       "0     Lyft        Shared    5.0      0.44               1.0        42.34  \n",
       "1     Lyft           Lux   11.0      0.44               1.0        43.58  \n",
       "2     Lyft          Lyft    7.0      0.44               1.0        38.33  \n",
       "3     Lyft  Lux Black XL   26.0      0.44               1.0        34.38  \n",
       "4     Lyft       Lyft XL    9.0      0.44               1.0        37.44  "
      ]
     },
     "execution_count": 13,
     "metadata": {},
     "output_type": "execute_result"
    }
   ],
   "source": [
    "df=df.drop(drop_cols, axis=1)\n",
    "df.head()"
   ]
  },
  {
   "cell_type": "code",
   "execution_count": 14,
   "id": "4cc7b449",
   "metadata": {},
   "outputs": [],
   "source": [
    "# Membuat kolom baru\n",
    "df['price_Per_mill'] = df['price'] / df['distance']"
   ]
  },
  {
   "cell_type": "markdown",
   "id": "7d8107ff",
   "metadata": {},
   "source": [
    "# E. Data Eksplorasi\n",
    "\n",
    "Bagian ini berisi explorasi data pada dataset diatas dengan menggunakan\n",
    "query, grouping, visualisasi sederhana, dan lain sebagainya.\n"
   ]
  },
  {
   "cell_type": "markdown",
   "id": "860af0fe",
   "metadata": {},
   "source": [
    "#### Analisis Tren Waktu"
   ]
  },
  {
   "cell_type": "code",
   "execution_count": 15,
   "id": "de253376",
   "metadata": {},
   "outputs": [
    {
     "data": {
      "text/plain": [
       "min    2018-11-26 03:40:46\n",
       "max    2018-12-18 19:15:10\n",
       "Name: datetime, dtype: object"
      ]
     },
     "execution_count": 15,
     "metadata": {},
     "output_type": "execute_result"
    }
   ],
   "source": [
    "# Tanggal Uber\n",
    "df.loc[df['cab_type'] == 'Uber', 'datetime'].agg(('min', 'max'))"
   ]
  },
  {
   "cell_type": "code",
   "execution_count": 16,
   "id": "bed9788d",
   "metadata": {},
   "outputs": [
    {
     "data": {
      "text/plain": [
       "min    2018-11-26 03:40:46\n",
       "max    2018-12-18 19:15:10\n",
       "Name: datetime, dtype: object"
      ]
     },
     "execution_count": 16,
     "metadata": {},
     "output_type": "execute_result"
    }
   ],
   "source": [
    "# Tanggal Lyft\n",
    "df.loc[df['cab_type'] == 'Lyft', 'datetime'].agg(('min', 'max'))"
   ]
  },
  {
   "cell_type": "markdown",
   "id": "1e4b5f81",
   "metadata": {},
   "source": [
    "Data yang dimiliki hanya memuat bulan November dan Desember. Artinya data hanya direkam atau diambil pada bulan november dan desember dengan dominasi data pada bulan desember."
   ]
  },
  {
   "cell_type": "markdown",
   "id": "ac8be003",
   "metadata": {},
   "source": [
    "#### Analisis Tren Jarak"
   ]
  },
  {
   "cell_type": "code",
   "execution_count": 17,
   "id": "a516185a",
   "metadata": {},
   "outputs": [
    {
     "data": {
      "text/plain": [
       "min    0.02\n",
       "max    7.86\n",
       "Name: distance, dtype: float64"
      ]
     },
     "execution_count": 17,
     "metadata": {},
     "output_type": "execute_result"
    }
   ],
   "source": [
    "# Mencari jarak terdekat dan terjauh pada Uber dan Lyft selama menerima penumpang.\n",
    "# Jarak Uber\n",
    "df.loc[df['cab_type'] == 'Uber', 'distance'].agg(('min', 'max'))"
   ]
  },
  {
   "cell_type": "code",
   "execution_count": 18,
   "id": "2258ae24",
   "metadata": {},
   "outputs": [
    {
     "data": {
      "text/plain": [
       "min    0.39\n",
       "max    6.33\n",
       "Name: distance, dtype: float64"
      ]
     },
     "execution_count": 18,
     "metadata": {},
     "output_type": "execute_result"
    }
   ],
   "source": [
    "# Jarak Lyft\n",
    "df.loc[df['cab_type'] == 'Lyft', 'distance'].agg(('min', 'max'))"
   ]
  },
  {
   "cell_type": "markdown",
   "id": "eed76bca",
   "metadata": {},
   "source": [
    "#### Analisis Tren Harga"
   ]
  },
  {
   "cell_type": "code",
   "execution_count": 19,
   "id": "a596039a",
   "metadata": {},
   "outputs": [
    {
     "name": "stdout",
     "output_type": "stream",
     "text": [
      "Harga uber: min     4.5\n",
      "max    89.5\n",
      "Name: price, dtype: float64\n"
     ]
    }
   ],
   "source": [
    "# Mencari harga termurah dan termahal pada Uber dan Lyft selama menerima penumpang.\n",
    "# Harga Uber\n",
    "print('Harga uber:',df.loc[ df['cab_type'] == 'Uber', 'price'].agg(('min', 'max')))"
   ]
  },
  {
   "cell_type": "code",
   "execution_count": 20,
   "id": "0257b34c",
   "metadata": {},
   "outputs": [
    {
     "name": "stdout",
     "output_type": "stream",
     "text": [
      "Harga Lyft: min     2.5\n",
      "max    97.5\n",
      "Name: price, dtype: float64\n"
     ]
    }
   ],
   "source": [
    "# Harga Uber\n",
    "print('Harga Lyft:',df.loc[ df['cab_type'] == 'Lyft', 'price'].agg(('min', 'max')))"
   ]
  },
  {
   "cell_type": "code",
   "execution_count": 21,
   "id": "e1584da7",
   "metadata": {},
   "outputs": [
    {
     "data": {
      "text/html": [
       "<div>\n",
       "<style scoped>\n",
       "    .dataframe tbody tr th:only-of-type {\n",
       "        vertical-align: middle;\n",
       "    }\n",
       "\n",
       "    .dataframe tbody tr th {\n",
       "        vertical-align: top;\n",
       "    }\n",
       "\n",
       "    .dataframe thead th {\n",
       "        text-align: right;\n",
       "    }\n",
       "</style>\n",
       "<table border=\"1\" class=\"dataframe\">\n",
       "  <thead>\n",
       "    <tr style=\"text-align: right;\">\n",
       "      <th>name</th>\n",
       "      <th>Black</th>\n",
       "      <th>Black SUV</th>\n",
       "      <th>Lux</th>\n",
       "      <th>Lux Black</th>\n",
       "      <th>Lux Black XL</th>\n",
       "      <th>Lyft</th>\n",
       "      <th>Lyft XL</th>\n",
       "      <th>Shared</th>\n",
       "      <th>Taxi</th>\n",
       "      <th>UberPool</th>\n",
       "      <th>UberX</th>\n",
       "      <th>UberXL</th>\n",
       "      <th>WAV</th>\n",
       "    </tr>\n",
       "    <tr>\n",
       "      <th>cab_type</th>\n",
       "      <th></th>\n",
       "      <th></th>\n",
       "      <th></th>\n",
       "      <th></th>\n",
       "      <th></th>\n",
       "      <th></th>\n",
       "      <th></th>\n",
       "      <th></th>\n",
       "      <th></th>\n",
       "      <th></th>\n",
       "      <th></th>\n",
       "      <th></th>\n",
       "      <th></th>\n",
       "    </tr>\n",
       "  </thead>\n",
       "  <tbody>\n",
       "    <tr>\n",
       "      <th>Lyft</th>\n",
       "      <td>0</td>\n",
       "      <td>0</td>\n",
       "      <td>51235</td>\n",
       "      <td>51235</td>\n",
       "      <td>51235</td>\n",
       "      <td>51235</td>\n",
       "      <td>51235</td>\n",
       "      <td>51233</td>\n",
       "      <td>0</td>\n",
       "      <td>0</td>\n",
       "      <td>0</td>\n",
       "      <td>0</td>\n",
       "      <td>0</td>\n",
       "    </tr>\n",
       "    <tr>\n",
       "      <th>Uber</th>\n",
       "      <td>55095</td>\n",
       "      <td>55096</td>\n",
       "      <td>0</td>\n",
       "      <td>0</td>\n",
       "      <td>0</td>\n",
       "      <td>0</td>\n",
       "      <td>0</td>\n",
       "      <td>0</td>\n",
       "      <td>55095</td>\n",
       "      <td>55091</td>\n",
       "      <td>55094</td>\n",
       "      <td>55096</td>\n",
       "      <td>55096</td>\n",
       "    </tr>\n",
       "  </tbody>\n",
       "</table>\n",
       "</div>"
      ],
      "text/plain": [
       "name      Black  Black SUV    Lux  Lux Black  Lux Black XL   Lyft  Lyft XL  \\\n",
       "cab_type                                                                     \n",
       "Lyft          0          0  51235      51235         51235  51235    51235   \n",
       "Uber      55095      55096      0          0             0      0        0   \n",
       "\n",
       "name      Shared   Taxi  UberPool  UberX  UberXL    WAV  \n",
       "cab_type                                                 \n",
       "Lyft       51233      0         0      0       0      0  \n",
       "Uber           0  55095     55091  55094   55096  55096  "
      ]
     },
     "execution_count": 21,
     "metadata": {},
     "output_type": "execute_result"
    }
   ],
   "source": [
    "pd.crosstab(df.cab_type, df.name)"
   ]
  },
  {
   "cell_type": "code",
   "execution_count": 22,
   "id": "6489f06c",
   "metadata": {},
   "outputs": [
    {
     "data": {
      "text/html": [
       "<div>\n",
       "<style scoped>\n",
       "    .dataframe tbody tr th:only-of-type {\n",
       "        vertical-align: middle;\n",
       "    }\n",
       "\n",
       "    .dataframe tbody tr th {\n",
       "        vertical-align: top;\n",
       "    }\n",
       "\n",
       "    .dataframe thead th {\n",
       "        text-align: right;\n",
       "    }\n",
       "</style>\n",
       "<table border=\"1\" class=\"dataframe\">\n",
       "  <thead>\n",
       "    <tr style=\"text-align: right;\">\n",
       "      <th></th>\n",
       "      <th>price</th>\n",
       "    </tr>\n",
       "    <tr>\n",
       "      <th>name</th>\n",
       "      <th></th>\n",
       "    </tr>\n",
       "  </thead>\n",
       "  <tbody>\n",
       "    <tr>\n",
       "      <th>Lux Black XL</th>\n",
       "      <td>32.324086</td>\n",
       "    </tr>\n",
       "    <tr>\n",
       "      <th>Black SUV</th>\n",
       "      <td>30.286763</td>\n",
       "    </tr>\n",
       "    <tr>\n",
       "      <th>Lux Black</th>\n",
       "      <td>23.062468</td>\n",
       "    </tr>\n",
       "    <tr>\n",
       "      <th>Black</th>\n",
       "      <td>20.523786</td>\n",
       "    </tr>\n",
       "    <tr>\n",
       "      <th>Lux</th>\n",
       "      <td>17.771240</td>\n",
       "    </tr>\n",
       "    <tr>\n",
       "      <th>UberXL</th>\n",
       "      <td>15.678144</td>\n",
       "    </tr>\n",
       "    <tr>\n",
       "      <th>Lyft XL</th>\n",
       "      <td>15.309363</td>\n",
       "    </tr>\n",
       "    <tr>\n",
       "      <th>Taxi</th>\n",
       "      <td>13.500000</td>\n",
       "    </tr>\n",
       "    <tr>\n",
       "      <th>UberX</th>\n",
       "      <td>9.765074</td>\n",
       "    </tr>\n",
       "    <tr>\n",
       "      <th>WAV</th>\n",
       "      <td>9.765019</td>\n",
       "    </tr>\n",
       "    <tr>\n",
       "      <th>Lyft</th>\n",
       "      <td>9.610885</td>\n",
       "    </tr>\n",
       "    <tr>\n",
       "      <th>UberPool</th>\n",
       "      <td>8.752500</td>\n",
       "    </tr>\n",
       "    <tr>\n",
       "      <th>Shared</th>\n",
       "      <td>6.029893</td>\n",
       "    </tr>\n",
       "  </tbody>\n",
       "</table>\n",
       "</div>"
      ],
      "text/plain": [
       "                  price\n",
       "name                   \n",
       "Lux Black XL  32.324086\n",
       "Black SUV     30.286763\n",
       "Lux Black     23.062468\n",
       "Black         20.523786\n",
       "Lux           17.771240\n",
       "UberXL        15.678144\n",
       "Lyft XL       15.309363\n",
       "Taxi          13.500000\n",
       "UberX          9.765074\n",
       "WAV            9.765019\n",
       "Lyft           9.610885\n",
       "UberPool       8.752500\n",
       "Shared         6.029893"
      ]
     },
     "execution_count": 22,
     "metadata": {},
     "output_type": "execute_result"
    }
   ],
   "source": [
    "mean_ = df[['name','price']].groupby('name').mean().sort_values(by='price', ascending=False)\n",
    "mean_"
   ]
  },
  {
   "cell_type": "code",
   "execution_count": 23,
   "id": "3d3d652b",
   "metadata": {},
   "outputs": [
    {
     "data": {
      "image/png": "[encoded data removed]",
      "text/plain": [
       "<Figure size 1600x700 with 1 Axes>"
      ]
     },
     "metadata": {},
     "output_type": "display_data"
    }
   ],
   "source": [
    "surge_data = df[df[\"surge_multiplier\"]>2.0]\n",
    "sns.set(style = \"darkgrid\")\n",
    "\n",
    "fig = plt.figure(figsize=(16,7))\n",
    "ax = fig.add_subplot(111, projection = '3d')\n",
    "\n",
    "x = surge_data['distance']\n",
    "y = surge_data['price']\n",
    "z = surge_data['surge_multiplier']\n",
    "\n",
    "ax.set_xlabel(\"distance\")\n",
    "ax.set_ylabel(\"price\")\n",
    "ax.set_zlabel(\"surge_multiplier\")\n",
    "\n",
    "ax.scatter(x, y, z)\n",
    "\n",
    "plt.show()"
   ]
  },
  {
   "cell_type": "code",
   "execution_count": 24,
   "id": "7e82e427",
   "metadata": {},
   "outputs": [
    {
     "name": "stderr",
     "output_type": "stream",
     "text": [
      "C:\\Users\\ACER\\AppData\\Local\\Temp\\ipykernel_18464\\2991098395.py:2: FutureWarning: The default value of numeric_only in DataFrame.corr is deprecated. In a future version, it will default to False. Select only valid columns or specify the value of numeric_only to silence this warning.\n",
      "  sns.heatmap(df.corr(), annot=True, fmt='.2%',annot_kws={\"size\": 10},cmap=\"Greens\")\n"
     ]
    },
    {
     "data": {
      "image/png": "[encoded data removed]",
      "text/plain": [
       "<Figure size 2000x2000 with 2 Axes>"
      ]
     },
     "metadata": {},
     "output_type": "display_data"
    }
   ],
   "source": [
    "fig, ax = plt.subplots(figsize=(20,20))\n",
    "sns.heatmap(df.corr(), annot=True, fmt='.2%',annot_kws={\"size\": 10},cmap=\"Greens\")\n",
    "plt.title(\"Korelasi Antar Variabel\", loc='center',size ='15')\n",
    "plt.show()"
   ]
  },
  {
   "cell_type": "markdown",
   "id": "2286e2dd",
   "metadata": {},
   "source": [
    "# F. Data Preprocessing\n",
    "\n",
    "Bagian ini berisi proses penyiapan data untuk proses pelatihan model,\n",
    "seperti pembagian data menjadi train-dev-test, transformasi data\n",
    "(normalisasi, encoding, dll.), dan proses-proses lain yang dibutuhkan"
   ]
  },
  {
   "cell_type": "code",
   "execution_count": 25,
   "id": "8591415a",
   "metadata": {},
   "outputs": [
    {
     "name": "stdout",
     "output_type": "stream",
     "text": [
      "(693071, 10)\n",
      "(693071,)\n"
     ]
    }
   ],
   "source": [
    "#  Melakukan inisialisasi variabel x dan y\n",
    "X = df.drop(['price', 'price_Per_mill', 'datetime'], axis=1)\n",
    "y = df['price']\n",
    "\n",
    "print(X.shape)\n",
    "print(y.shape)"
   ]
  },
  {
   "cell_type": "code",
   "execution_count": 26,
   "id": "8f323cef",
   "metadata": {},
   "outputs": [
    {
     "name": "stdout",
     "output_type": "stream",
     "text": [
      "Mean :  16.303056223676936\n",
      "Median :  13.5\n",
      "Mode :  0    13.5\n",
      "Name: price, dtype: float64\n"
     ]
    },
    {
     "data": {
      "text/plain": [
       "count    693071.000000\n",
       "mean         16.303056\n",
       "std           8.983913\n",
       "min           2.500000\n",
       "25%           9.500000\n",
       "50%          13.500000\n",
       "75%          22.500000\n",
       "max          97.500000\n",
       "Name: price, dtype: float64"
      ]
     },
     "execution_count": 26,
     "metadata": {},
     "output_type": "execute_result"
    }
   ],
   "source": [
    "# Memanggil kolom 'price'\n",
    "price = df['price']\n",
    "\n",
    "# Menghitung nilai rata-rata pada kolom 'price'\n",
    "print(\"Mean : \", price.mean())\n",
    "\n",
    "# Menghitung nilai median pada kolom 'price'\n",
    "print(\"Median : \", price.median())\n",
    "\n",
    "# Menghitung nilai Modus pada kolom ' ' \n",
    "print(\"Mode : \", price.mode())\n",
    "\n",
    "# Generate and display a summary of basic statistics for the 'price' column\n",
    "price.describe()"
   ]
  },
  {
   "cell_type": "code",
   "execution_count": 27,
   "id": "ec89a95d",
   "metadata": {},
   "outputs": [
    {
     "data": {
      "text/html": [
       "<div>\n",
       "<style scoped>\n",
       "    .dataframe tbody tr th:only-of-type {\n",
       "        vertical-align: middle;\n",
       "    }\n",
       "\n",
       "    .dataframe tbody tr th {\n",
       "        vertical-align: top;\n",
       "    }\n",
       "\n",
       "    .dataframe thead th {\n",
       "        text-align: right;\n",
       "    }\n",
       "</style>\n",
       "<table border=\"1\" class=\"dataframe\">\n",
       "  <thead>\n",
       "    <tr style=\"text-align: right;\">\n",
       "      <th></th>\n",
       "      <th>hour</th>\n",
       "      <th>day</th>\n",
       "      <th>month</th>\n",
       "      <th>datetime</th>\n",
       "      <th>source</th>\n",
       "      <th>destination</th>\n",
       "      <th>cab_type</th>\n",
       "      <th>name</th>\n",
       "      <th>price</th>\n",
       "      <th>distance</th>\n",
       "      <th>surge_multiplier</th>\n",
       "      <th>temperature</th>\n",
       "      <th>price_Per_mill</th>\n",
       "    </tr>\n",
       "  </thead>\n",
       "  <tbody>\n",
       "    <tr>\n",
       "      <th>0</th>\n",
       "      <td>9</td>\n",
       "      <td>16</td>\n",
       "      <td>12</td>\n",
       "      <td>25351</td>\n",
       "      <td>5</td>\n",
       "      <td>7</td>\n",
       "      <td>0</td>\n",
       "      <td>7</td>\n",
       "      <td>5.0</td>\n",
       "      <td>15</td>\n",
       "      <td>0</td>\n",
       "      <td>42.34</td>\n",
       "      <td>11.363636</td>\n",
       "    </tr>\n",
       "    <tr>\n",
       "      <th>1</th>\n",
       "      <td>2</td>\n",
       "      <td>27</td>\n",
       "      <td>11</td>\n",
       "      <td>961</td>\n",
       "      <td>5</td>\n",
       "      <td>7</td>\n",
       "      <td>0</td>\n",
       "      <td>2</td>\n",
       "      <td>11.0</td>\n",
       "      <td>15</td>\n",
       "      <td>0</td>\n",
       "      <td>43.58</td>\n",
       "      <td>25.000000</td>\n",
       "    </tr>\n",
       "    <tr>\n",
       "      <th>2</th>\n",
       "      <td>1</td>\n",
       "      <td>28</td>\n",
       "      <td>11</td>\n",
       "      <td>2534</td>\n",
       "      <td>5</td>\n",
       "      <td>7</td>\n",
       "      <td>0</td>\n",
       "      <td>5</td>\n",
       "      <td>7.0</td>\n",
       "      <td>15</td>\n",
       "      <td>0</td>\n",
       "      <td>38.33</td>\n",
       "      <td>15.909091</td>\n",
       "    </tr>\n",
       "    <tr>\n",
       "      <th>3</th>\n",
       "      <td>4</td>\n",
       "      <td>30</td>\n",
       "      <td>11</td>\n",
       "      <td>6988</td>\n",
       "      <td>5</td>\n",
       "      <td>7</td>\n",
       "      <td>0</td>\n",
       "      <td>4</td>\n",
       "      <td>26.0</td>\n",
       "      <td>15</td>\n",
       "      <td>0</td>\n",
       "      <td>34.38</td>\n",
       "      <td>59.090909</td>\n",
       "    </tr>\n",
       "    <tr>\n",
       "      <th>4</th>\n",
       "      <td>3</td>\n",
       "      <td>29</td>\n",
       "      <td>11</td>\n",
       "      <td>4400</td>\n",
       "      <td>5</td>\n",
       "      <td>7</td>\n",
       "      <td>0</td>\n",
       "      <td>6</td>\n",
       "      <td>9.0</td>\n",
       "      <td>15</td>\n",
       "      <td>0</td>\n",
       "      <td>37.44</td>\n",
       "      <td>20.454545</td>\n",
       "    </tr>\n",
       "  </tbody>\n",
       "</table>\n",
       "</div>"
      ],
      "text/plain": [
       "   hour  day  month  datetime  source  destination  cab_type  name  price  \\\n",
       "0     9   16     12     25351       5            7         0     7    5.0   \n",
       "1     2   27     11       961       5            7         0     2   11.0   \n",
       "2     1   28     11      2534       5            7         0     5    7.0   \n",
       "3     4   30     11      6988       5            7         0     4   26.0   \n",
       "4     3   29     11      4400       5            7         0     6    9.0   \n",
       "\n",
       "   distance  surge_multiplier  temperature  price_Per_mill  \n",
       "0        15                 0        42.34       11.363636  \n",
       "1        15                 0        43.58       25.000000  \n",
       "2        15                 0        38.33       15.909091  \n",
       "3        15                 0        34.38       59.090909  \n",
       "4        15                 0        37.44       20.454545  "
      ]
     },
     "execution_count": 27,
     "metadata": {},
     "output_type": "execute_result"
    }
   ],
   "source": [
    "# melakukan encoding pada float dan categorical columns dg label encoder\n",
    "encode = LabelEncoder()\n",
    "\n",
    "df['datetime'] = encode.fit_transform(df['datetime'])\n",
    "df['source'] = encode.fit_transform(df['source'])\n",
    "df['destination'] = encode.fit_transform(df['destination'])\n",
    "df['cab_type'] = encode.fit_transform(df['cab_type'])\n",
    "df['name'] = encode.fit_transform(df['name'])\n",
    "df['surge_multiplier'] = encode.fit_transform(df['surge_multiplier'])\n",
    "df['distance'] = encode.fit_transform(df['distance'])\n",
    "\n",
    "df.head()"
   ]
  },
  {
   "cell_type": "code",
   "execution_count": 28,
   "id": "a680f661",
   "metadata": {},
   "outputs": [
    {
     "name": "stdout",
     "output_type": "stream",
     "text": [
      "(693071, 10)\n",
      "(693071,)\n"
     ]
    }
   ],
   "source": [
    "#Melakukan inisialisasi ulang variabel X dan y setelah dilakukan encoding\n",
    "X_transform = df.drop(['price', 'price_Per_mill', 'datetime'], axis=1)\n",
    "y = df['price']\n",
    "\n",
    "print(X.shape)\n",
    "print(y.shape)"
   ]
  },
  {
   "cell_type": "code",
   "execution_count": 29,
   "id": "95f80db9",
   "metadata": {},
   "outputs": [],
   "source": [
    "ir = LinearRegression()\n",
    "sfs=SFS(ir,\n",
    "        k_features=6,\n",
    "        forward=True,\n",
    "        floating=False,\n",
    "        scoring = 'r2',\n",
    "        cv = 3)"
   ]
  },
  {
   "cell_type": "code",
   "execution_count": 30,
   "id": "08bafa57",
   "metadata": {},
   "outputs": [
    {
     "data": {
      "text/plain": [
       "('source', 'destination', 'cab_type', 'name', 'distance', 'surge_multiplier')"
      ]
     },
     "execution_count": 30,
     "metadata": {},
     "output_type": "execute_result"
    }
   ],
   "source": [
    "sfs.fit(X_transform,y)\n",
    "sfs.k_feature_names_"
   ]
  },
  {
   "cell_type": "code",
   "execution_count": 31,
   "id": "f162b1c5",
   "metadata": {},
   "outputs": [
    {
     "name": "stdout",
     "output_type": "stream",
     "text": [
      "Top 5 Features yang Berpengaruh\n",
      "           Features          Score\n",
      "6              name  358425.591811\n",
      "7          distance   84977.278050\n",
      "8  surge_multiplier   44162.616118\n",
      "5          cab_type    7604.960908\n",
      "4       destination    1361.091110\n",
      "3            source     408.027999\n"
     ]
    }
   ],
   "source": [
    "# Feature Selection menggunakan library F regression dengan k=6\n",
    "topFeatures = SelectKBest(f_regression, k=6)\n",
    "fit = topFeatures.fit(X_transform, y)\n",
    "dfscores = pd.DataFrame(fit.scores_)\n",
    "dfcolumns = pd.DataFrame(X_transform.columns)\n",
    " \n",
    "featureScores = pd.concat([dfcolumns, dfscores],axis=1)\n",
    "featureScores.columns = ['Features', 'Score']\n",
    "\n",
    "print(\"Top 5 Features yang Berpengaruh\")\n",
    "print(featureScores.nlargest(6, 'Score'))"
   ]
  },
  {
   "cell_type": "code",
   "execution_count": 32,
   "id": "534b6c29",
   "metadata": {},
   "outputs": [],
   "source": [
    "#Memasukkan hasil dari feature seletion ke dalam variabel X_fit untuk selanjutnya dilakukan pemodelan\n",
    "X_fit=df[['source', 'destination', 'cab_type', 'name', 'distance', 'surge_multiplier']]"
   ]
  },
  {
   "cell_type": "code",
   "execution_count": 33,
   "id": "d15e11ac",
   "metadata": {},
   "outputs": [
    {
     "data": {
      "text/html": [
       "<div>\n",
       "<style scoped>\n",
       "    .dataframe tbody tr th:only-of-type {\n",
       "        vertical-align: middle;\n",
       "    }\n",
       "\n",
       "    .dataframe tbody tr th {\n",
       "        vertical-align: top;\n",
       "    }\n",
       "\n",
       "    .dataframe thead th {\n",
       "        text-align: right;\n",
       "    }\n",
       "</style>\n",
       "<table border=\"1\" class=\"dataframe\">\n",
       "  <thead>\n",
       "    <tr style=\"text-align: right;\">\n",
       "      <th></th>\n",
       "      <th>source</th>\n",
       "      <th>destination</th>\n",
       "      <th>cab_type</th>\n",
       "      <th>name</th>\n",
       "      <th>distance</th>\n",
       "      <th>surge_multiplier</th>\n",
       "    </tr>\n",
       "  </thead>\n",
       "  <tbody>\n",
       "    <tr>\n",
       "      <th>0</th>\n",
       "      <td>5</td>\n",
       "      <td>7</td>\n",
       "      <td>0</td>\n",
       "      <td>7</td>\n",
       "      <td>15</td>\n",
       "      <td>0</td>\n",
       "    </tr>\n",
       "    <tr>\n",
       "      <th>1</th>\n",
       "      <td>5</td>\n",
       "      <td>7</td>\n",
       "      <td>0</td>\n",
       "      <td>2</td>\n",
       "      <td>15</td>\n",
       "      <td>0</td>\n",
       "    </tr>\n",
       "    <tr>\n",
       "      <th>2</th>\n",
       "      <td>5</td>\n",
       "      <td>7</td>\n",
       "      <td>0</td>\n",
       "      <td>5</td>\n",
       "      <td>15</td>\n",
       "      <td>0</td>\n",
       "    </tr>\n",
       "    <tr>\n",
       "      <th>3</th>\n",
       "      <td>5</td>\n",
       "      <td>7</td>\n",
       "      <td>0</td>\n",
       "      <td>4</td>\n",
       "      <td>15</td>\n",
       "      <td>0</td>\n",
       "    </tr>\n",
       "    <tr>\n",
       "      <th>4</th>\n",
       "      <td>5</td>\n",
       "      <td>7</td>\n",
       "      <td>0</td>\n",
       "      <td>6</td>\n",
       "      <td>15</td>\n",
       "      <td>0</td>\n",
       "    </tr>\n",
       "  </tbody>\n",
       "</table>\n",
       "</div>"
      ],
      "text/plain": [
       "   source  destination  cab_type  name  distance  surge_multiplier\n",
       "0       5            7         0     7        15                 0\n",
       "1       5            7         0     2        15                 0\n",
       "2       5            7         0     5        15                 0\n",
       "3       5            7         0     4        15                 0\n",
       "4       5            7         0     6        15                 0"
      ]
     },
     "execution_count": 33,
     "metadata": {},
     "output_type": "execute_result"
    }
   ],
   "source": [
    "X_fit.head()"
   ]
  },
  {
   "cell_type": "code",
   "execution_count": 34,
   "id": "152b3c72",
   "metadata": {},
   "outputs": [
    {
     "name": "stdout",
     "output_type": "stream",
     "text": [
      "<class 'pandas.core.frame.DataFrame'>\n",
      "RangeIndex: 693071 entries, 0 to 693070\n",
      "Data columns (total 6 columns):\n",
      " #   Column            Non-Null Count   Dtype\n",
      "---  ------            --------------   -----\n",
      " 0   source            693071 non-null  int32\n",
      " 1   destination       693071 non-null  int32\n",
      " 2   cab_type          693071 non-null  int32\n",
      " 3   name              693071 non-null  int32\n",
      " 4   distance          693071 non-null  int64\n",
      " 5   surge_multiplier  693071 non-null  int64\n",
      "dtypes: int32(4), int64(2)\n",
      "memory usage: 21.2 MB\n"
     ]
    },
    {
     "data": {
      "text/plain": [
       "(693071, 6)"
      ]
     },
     "execution_count": 34,
     "metadata": {},
     "output_type": "execute_result"
    }
   ],
   "source": [
    "X_fit.info()\n",
    "X_fit.shape"
   ]
  },
  {
   "cell_type": "code",
   "execution_count": 35,
   "id": "a70294c0",
   "metadata": {},
   "outputs": [],
   "source": [
    "X_train, X_test, y_train, y_test = train_test_split(X_fit, y, test_size=0.20, random_state=13)\n"
   ]
  },
  {
   "cell_type": "code",
   "execution_count": 36,
   "id": "17fec377",
   "metadata": {},
   "outputs": [
    {
     "name": "stdout",
     "output_type": "stream",
     "text": [
      "(554456, 6)\n",
      "(138615, 6)\n"
     ]
    }
   ],
   "source": [
    "print(X_train.shape)\n",
    "print(X_test.shape)"
   ]
  },
  {
   "cell_type": "code",
   "execution_count": 37,
   "id": "98a1a39e",
   "metadata": {},
   "outputs": [
    {
     "data": {
      "text/plain": [
       "destination\n",
       "0     924183.00\n",
       "1     920162.50\n",
       "2    1069177.85\n",
       "3    1026751.00\n",
       "4    1040860.50\n",
       "Name: price, dtype: float64"
      ]
     },
     "execution_count": 37,
     "metadata": {},
     "output_type": "execute_result"
    }
   ],
   "source": [
    "# Group the DataFrame 'df' by the 'destination' column and calculate the sum of prices for each group\n",
    "destination_prices = df.groupby('destination')['price'].sum()\n",
    "destination_prices.head()"
   ]
  },
  {
   "cell_type": "code",
   "execution_count": 38,
   "id": "22975112",
   "metadata": {},
   "outputs": [
    {
     "data": {
      "image/png": "[encoded data removed]",
      "text/plain": [
       "<Figure size 640x480 with 1 Axes>"
      ]
     },
     "metadata": {},
     "output_type": "display_data"
    }
   ],
   "source": [
    "# Sort the 'destination_prices' data in descending order, based on the total prices\n",
    "destination_prices = destination_prices.sort_values(ascending=False)\n",
    "\n",
    "# Create a new figure for plotting\n",
    "plt.figure()\n",
    "\n",
    "# Plot the destination prices as a horizontal bar chart\n",
    "destination_prices.plot(kind='barh', color='skyblue')\n",
    "\n",
    "# Add grid lines for the x-axis with a dashed line style and transparency\n",
    "plt.grid(axis='x', linestyle='--', alpha=0.7)\n",
    "\n",
    "# Label for the y-axis (vertical axis)\n",
    "plt.xlabel('Total Price')\n",
    "\n",
    "# Ensure the plot layout is tight\n",
    "plt.tight_layout()\n",
    "\n",
    "# Display the plot\n",
    "plt.show()\n"
   ]
  },
  {
   "cell_type": "code",
   "execution_count": null,
   "id": "0ef30a31",
   "metadata": {},
   "outputs": [],
   "source": []
  },
  {
   "cell_type": "code",
   "execution_count": null,
   "id": "7002f2eb",
   "metadata": {},
   "outputs": [],
   "source": []
  },
  {
   "cell_type": "code",
   "execution_count": null,
   "id": "20f73b12",
   "metadata": {},
   "outputs": [],
   "source": []
  },
  {
   "cell_type": "code",
   "execution_count": null,
   "id": "ed372eee",
   "metadata": {},
   "outputs": [],
   "source": []
  },
  {
   "cell_type": "code",
   "execution_count": null,
   "id": "59bce38a",
   "metadata": {},
   "outputs": [],
   "source": []
  },
  {
   "cell_type": "markdown",
   "id": "c2acc2ae",
   "metadata": {},
   "source": [
    "# G. Pendefinisian Model\n",
    "\n",
    "Bagian ini berisi cell untuk mendefinisikan model sampai kompilasi model.\n",
    "Akan lebih bagus jika didahului dengan penjelasan mengapa memilih\n",
    "arsitektur atau jenis model tertentu, alasan memilih nilai hyperparameter,\n",
    "dan hal lain yang berkaitan.\n"
   ]
  },
  {
   "cell_type": "markdown",
   "id": "9e01eb6c",
   "metadata": {},
   "source": [
    "Model yang digunakan pada pemodelan ini adalah :\n",
    "    \n",
    "    1. Dependent variable : Price\n",
    "    2. Independent variables: Source, Destination, Cab Type, Name, Distance, dan Surge Multiplier"
   ]
  },
  {
   "cell_type": "code",
   "execution_count": 39,
   "id": "10100f70",
   "metadata": {},
   "outputs": [],
   "source": [
    "linreg1 = LinearRegression(fit_intercept = False)"
   ]
  },
  {
   "cell_type": "code",
   "execution_count": 40,
   "id": "f715833c",
   "metadata": {},
   "outputs": [],
   "source": [
    "linreg2 = make_pipeline(StandardScaler(with_mean=True), LinearRegression())"
   ]
  },
  {
   "cell_type": "markdown",
   "id": "cfc47b93",
   "metadata": {},
   "source": [
    "# H. Pelatihan Model\n",
    "\n",
    "Cell pada bagian ini hanya berisi code untuk melatih model dan output yang\n",
    "dihasilkan.\n"
   ]
  },
  {
   "cell_type": "code",
   "execution_count": 41,
   "id": "fa06ff65",
   "metadata": {},
   "outputs": [],
   "source": [
    "model1 = linreg1.fit(X_train, y_train)"
   ]
  },
  {
   "cell_type": "code",
   "execution_count": 42,
   "id": "43308182",
   "metadata": {},
   "outputs": [],
   "source": [
    "model2 = linreg2.fit(X_train, y_train)"
   ]
  },
  {
   "cell_type": "markdown",
   "id": "765ef98a",
   "metadata": {},
   "source": [
    "# I. Evaluasi Model\n",
    "\n",
    "Pada bagian ini, dilakukan evaluasi model yang harus menunjukkan\n",
    "bagaimana performa model berdasarkan metrics yang dipilih. Hal ini harus\n",
    "dibuktikan dengan visualisasi tren performa dan/atau tingkat kesalahan\n",
    "model. Jika memilih untuk melakukan model deployment, lanjut ke poin\n",
    "dibawah. Jika tidak, lanjut ke poin 5 dan 6.\n"
   ]
  },
  {
   "cell_type": "code",
   "execution_count": 43,
   "id": "4f612545",
   "metadata": {},
   "outputs": [],
   "source": [
    "y_pred1=model1.predict(X_test)\n",
    "y_pred2=model2.predict(X_test)"
   ]
  },
  {
   "cell_type": "markdown",
   "id": "a10a1e9d",
   "metadata": {},
   "source": [
    "### Evaluasi pada MODEL 1"
   ]
  },
  {
   "cell_type": "code",
   "execution_count": 44,
   "id": "57c72f8e",
   "metadata": {},
   "outputs": [
    {
     "name": "stdout",
     "output_type": "stream",
     "text": [
      "R2 train: 0.21140470159259717\n",
      "R2 test: 0.2107534822677467\n",
      "MSE: 63.35294715896889\n",
      "RMSE: 7.959456461277296\n"
     ]
    }
   ],
   "source": [
    "# memprediksi nilai R-squared (R2) untuk evaluasi model terbaik\n",
    "print('R2 train:', model1.score(X_train, y_train))\n",
    "print('R2 test:', model1.score(X_test, y_test))\n",
    "\n",
    "# Menghitung nilai MSE (mean squared error) \n",
    "MSE = mean_squared_error(y_test, y_pred1)\n",
    "print('MSE:', MSE)\n",
    "\n",
    "# Menghitung nilai RMSE (root mean squared error)\n",
    "print('RMSE:',np.sqrt(MSE) )"
   ]
  },
  {
   "cell_type": "markdown",
   "id": "08cd38e9",
   "metadata": {},
   "source": [
    "Dengan menggunakan model 1 score R2 baik menggunakan data training maupun data testing score yang didapat relatif kecil yaitu 0,2108. Hal ini tentunya dapat mengakibatkan hasil prediksi kurang akurat"
   ]
  },
  {
   "cell_type": "markdown",
   "id": "4043533f",
   "metadata": {},
   "source": [
    "### Evaluasi pada MODEL 2"
   ]
  },
  {
   "cell_type": "code",
   "execution_count": 45,
   "id": "c2802c22",
   "metadata": {},
   "outputs": [
    {
     "name": "stdout",
     "output_type": "stream",
     "text": [
      "R2 train: 0.5069639222075637\n",
      "R2 test: 0.5101127804501199\n",
      "MSE: 39.32332729597983\n",
      "RMSE: 6.270831467674748\n"
     ]
    }
   ],
   "source": [
    "# memprediksi nilai R-squared (R2) untuk evaluasi model terbaik\n",
    "print('R2 train:', model2.score(X_train, y_train))\n",
    "print('R2 test:', model2.score(X_test, y_test))\n",
    "\n",
    "# Menghitung nilai MSE (mean squared error) \n",
    "MSE = mean_squared_error(y_test, y_pred2)\n",
    "print('MSE:', MSE)\n",
    "\n",
    "\n",
    "# Menghitung nilai RMSE (root mean squared error)\n",
    "print('RMSE:',np.sqrt(MSE) )"
   ]
  },
  {
   "cell_type": "markdown",
   "id": "594d6e91",
   "metadata": {},
   "source": [
    "Dengan menggunakan model 2 score R2 baik menggunakan data training maupun data testing score yang didapat adalah 0,5069. Nilai tersebut jauh lebih baik dibandingakn niali akurasi pada model 1."
   ]
  },
  {
   "cell_type": "markdown",
   "id": "c18b9f54",
   "metadata": {},
   "source": [
    "### ringkasan hasil regresi dengan menggunakan model 2"
   ]
  },
  {
   "cell_type": "code",
   "execution_count": 46,
   "id": "9ef0d182",
   "metadata": {},
   "outputs": [
    {
     "name": "stdout",
     "output_type": "stream",
     "text": [
      "                            OLS Regression Results                            \n",
      "==============================================================================\n",
      "Dep. Variable:                  price   R-squared:                       0.510\n",
      "Model:                            OLS   Adj. R-squared:                  0.510\n",
      "Method:                 Least Squares   F-statistic:                 2.406e+04\n",
      "Date:                Fri, 17 Nov 2023   Prob (F-statistic):               0.00\n",
      "Time:                        10:18:09   Log-Likelihood:            -4.5116e+05\n",
      "No. Observations:              138615   AIC:                         9.023e+05\n",
      "Df Residuals:                  138608   BIC:                         9.024e+05\n",
      "Df Model:                           6                                         \n",
      "Covariance Type:            nonrobust                                         \n",
      "====================================================================================\n",
      "                       coef    std err          t      P>|t|      [0.025      0.975]\n",
      "------------------------------------------------------------------------------------\n",
      "const               18.1110      0.062    291.047      0.000      17.989      18.233\n",
      "source               0.0273      0.005      5.573      0.000       0.018       0.037\n",
      "destination          0.0127      0.005      2.566      0.010       0.003       0.022\n",
      "cab_type             2.9947      0.037     81.266      0.000       2.923       3.067\n",
      "name                -1.4870      0.005   -310.921      0.000      -1.496      -1.478\n",
      "distance             0.0263      0.000    170.632      0.000       0.026       0.027\n",
      "surge_multiplier     5.2472      0.048    110.314      0.000       5.154       5.340\n",
      "==============================================================================\n",
      "Omnibus:                    16000.416   Durbin-Watson:                   1.995\n",
      "Prob(Omnibus):                  0.000   Jarque-Bera (JB):            24639.624\n",
      "Skew:                           0.843   Prob(JB):                         0.00\n",
      "Kurtosis:                       4.192   Cond. No.                         823.\n",
      "==============================================================================\n",
      "\n",
      "Notes:\n",
      "[1] Standard Errors assume that the covariance matrix of the errors is correctly specified.\n"
     ]
    }
   ],
   "source": [
    "X2 = sm.add_constant(X_test)\n",
    "est = sm.OLS(y_test, X2)\n",
    "est2 = est.fit()\n",
    "print(est2.summary())"
   ]
  },
  {
   "cell_type": "markdown",
   "id": "cf996b10",
   "metadata": {},
   "source": [
    "Hasil regresi OLS menunjukkan hubungan antara variabel 'Source', 'Destination', 'Cab Type','Name', 'Distance', dan 'Surge Multiplier' terhadap variabel dependen 'price'.\n",
    "1. Koefisien untuk 'source' adalah 0.0273 dengan kesalahan standar 0.005 dan signifikansi pada level 0.000\n",
    "2. Koefisien untuk 'destination' adalah 0.0127 dengan kesalahan standar 0.005 dan signifikansi pada level 0.010\n",
    "3.  Koefisien untuk 'Cab type' adalah 2.9947 dengan kesalahan standar 0.037 dan signifikansi pada level 0.000\n",
    "4.  Koefisien untuk 'name' adalah -1.4870 dengan kesalahan standar 0.005 dan signifikansi pada level 0.000\n",
    "5.  Koefisien untuk 'distance' adalah 0.0263 dengan kesalahan standar 0.000 dan signifikansi pada level 0.000\n",
    "6.  Koefisien untuk 'surge_multiplier' adalah 5.2472 dengan kesalahan standar 0.048 dan signifikansi pada level 0.000\n",
    "\n",
    "Selain itu, nilai Durbin-Watson sebesar 1.995 menunjukkan tidak adanya autokorelasi. Statistik Jarque-Bera menunjukkan bahwa residu model tidak terdistribusi normal."
   ]
  },
  {
   "cell_type": "markdown",
   "id": "efec38d8",
   "metadata": {},
   "source": [
    "### peningkatan Akurasi menggunakan Decision Tree\n",
    "\n",
    "Karen apada model 1 dan 2 nilai akurasi yang diperoleh masih rendah dan jika digunakan untuk melakukan prediksi hasil yang diperoleh kurang akurat, maka dibuatlah model 3 menggunakan Decision Tree Regression"
   ]
  },
  {
   "cell_type": "code",
   "execution_count": 47,
   "id": "84f1d9d4",
   "metadata": {},
   "outputs": [],
   "source": [
    "DT = tree.DecisionTreeRegressor()"
   ]
  },
  {
   "cell_type": "code",
   "execution_count": 48,
   "id": "878f60f5",
   "metadata": {},
   "outputs": [],
   "source": [
    "model3 = DT.fit(X_train, y_train)"
   ]
  },
  {
   "cell_type": "code",
   "execution_count": 49,
   "id": "dc3e70fe",
   "metadata": {},
   "outputs": [],
   "source": [
    "y_pred3= model3.predict(X_test)"
   ]
  },
  {
   "cell_type": "code",
   "execution_count": 50,
   "id": "373b5aa6",
   "metadata": {},
   "outputs": [
    {
     "name": "stdout",
     "output_type": "stream",
     "text": [
      "R2 train: 0.9734631863008706\n",
      "R2 test: 0.9686926946873543\n",
      "MSE: 2.5130425216961285\n",
      "RMSE: 1.5852578723022095\n"
     ]
    }
   ],
   "source": [
    "# memprediksi nilai R-squared (R2) untuk evaluasi model terbaik\n",
    "print('R2 train:', model3.score(X_train, y_train))\n",
    "print('R2 test:', model3.score(X_test, y_test))\n",
    "\n",
    "# Menghitung nilai MSE (mean squared error) \n",
    "MSE=mean_squared_error(y_test, y_pred3)\n",
    "print('MSE:', MSE)\n",
    "\n",
    "# Menghitung nilai RMSE (root mean squared error)\n",
    "print('RMSE:',np.sqrt(MSE) )"
   ]
  },
  {
   "cell_type": "markdown",
   "id": "8cd839f8",
   "metadata": {},
   "source": [
    "Pada model 3 ini nilai akurasi yang didapat sudah cukup untuk melakukan prediksi"
   ]
  },
  {
   "cell_type": "markdown",
   "id": "4db320c3",
   "metadata": {},
   "source": [
    "Diperoleh Akurasi masing-masing model adalah sebagai berikut:\n",
    "\n",
    "    - model 1 (linear regression) = 0.2107534822677467\n",
    "    - model 2 (linear regression) = 0.5101127804501199\n",
    "    - model 3 (Decision Tree) = 0.9686926946873543\n"
   ]
  },
  {
   "cell_type": "code",
   "execution_count": null,
   "id": "a6423b42",
   "metadata": {},
   "outputs": [],
   "source": []
  },
  {
   "cell_type": "code",
   "execution_count": null,
   "id": "fa39f868",
   "metadata": {},
   "outputs": [],
   "source": []
  },
  {
   "cell_type": "markdown",
   "id": "a92bc110",
   "metadata": {},
   "source": [
    "# J. Model Inference\n",
    "\n",
    "Bagian ini diisi dengan model inference, di mana model yang sudah kita\n",
    "latih akan dicoba pada data selain data yang sudah tersedia. Data yang\n",
    "dimaksud bisa berupa data buatan oleh student, ataupun data yang ada\n",
    "pada internet."
   ]
  },
  {
   "cell_type": "markdown",
   "id": "09117b54",
   "metadata": {},
   "source": [
    "A. Source & Destination:\n",
    "\n",
    "     0. Back Bay \n",
    "     1. Beacon Hill \n",
    "     2. Boston University \n",
    "     3. Fenway \n",
    "     4. Financial District \n",
    "     5. Haymarket Square \n",
    "     6. North End \n",
    "     7. North Station \n",
    "     8. Northeastern University \n",
    "     9. South Station \n",
    "     10. Theatre District \n",
    "     11. West End\n",
    " B. cab_type :\n",
    " \n",
    "     1. Lyft\n",
    "     2. Uber\n",
    " C. name :\n",
    " \n",
    "     0. Black \n",
    "     1. Black SUV \n",
    "     2. Lux \n",
    "     3. Lux Black \n",
    "     4. Lux Black XL \n",
    "     5. Lyft \n",
    "     6. Lyft XL \n",
    "     7. Shared \n",
    "     8. Taxi \n",
    "     9. UberPool \n",
    "     10. UberX \n",
    "     11. UberXL \n",
    "     12. WAV\n",
    " D. distance : sesuai dg jarak yang akan ditempuh\n",
    " \n",
    " E. SM : angka antara 0 - 6"
   ]
  },
  {
   "cell_type": "markdown",
   "id": "6acd5f37",
   "metadata": {},
   "source": [
    "### a. Model 2"
   ]
  },
  {
   "cell_type": "code",
   "execution_count": 56,
   "id": "f80a9425",
   "metadata": {},
   "outputs": [
    {
     "name": "stdout",
     "output_type": "stream",
     "text": [
      "source : 0\n",
      "Destination : 3\n",
      "cab_type : 2\n",
      "name : 3\n",
      "distance : 600\n",
      "Surge Multiplier : 2\n"
     ]
    }
   ],
   "source": [
    "Source = int(input('source : '))\n",
    "Destination = int(input('Destination : '))\n",
    "cab_type = int(input('cab_type : '))\n",
    "name = int(input('name : '))\n",
    "distance = int(input('distance : '))\n",
    "SM = int(input('Surge Multiplier : '))"
   ]
  },
  {
   "cell_type": "code",
   "execution_count": 57,
   "id": "b429c84a",
   "metadata": {},
   "outputs": [
    {
     "data": {
      "text/plain": [
       "[[0, 3, 2, 3, 600, 2]]"
      ]
     },
     "execution_count": 57,
     "metadata": {},
     "output_type": "execute_result"
    }
   ],
   "source": [
    "X_pred = [[Source,Destination, cab_type, name, distance, SM]]\n",
    "X_pred"
   ]
  },
  {
   "cell_type": "code",
   "execution_count": 58,
   "id": "8e01aed8",
   "metadata": {},
   "outputs": [
    {
     "name": "stdout",
     "output_type": "stream",
     "text": [
      "Hasil Prediksi Harga :  [45.98344902]\n"
     ]
    },
    {
     "name": "stderr",
     "output_type": "stream",
     "text": [
      "C:\\Users\\ACER\\AppData\\Roaming\\Python\\Python311\\site-packages\\sklearn\\base.py:439: UserWarning: X does not have valid feature names, but StandardScaler was fitted with feature names\n",
      "  warnings.warn(\n"
     ]
    }
   ],
   "source": [
    "# Melihat hasil prediksi\n",
    "y_pred = model2.predict(X_pred)\n",
    "print('Hasil Prediksi Harga : ', y_pred)"
   ]
  },
  {
   "cell_type": "markdown",
   "id": "6fc88c45",
   "metadata": {},
   "source": [
    "### b. Model 3"
   ]
  },
  {
   "cell_type": "code",
   "execution_count": 68,
   "id": "6e0070f9",
   "metadata": {},
   "outputs": [
    {
     "name": "stdout",
     "output_type": "stream",
     "text": [
      "source : 4\n",
      "Destination : 2\n",
      "cab_type : 1\n",
      "name : 2\n",
      "distance : 500\n",
      "Surge Multiplier : 3\n"
     ]
    }
   ],
   "source": [
    "Source = int(input('source : '))\n",
    "Destination = int(input('Destination : '))\n",
    "cab_type = int(input('cab_type : '))\n",
    "name = int(input('name : '))\n",
    "distance = int(input('distance : '))\n",
    "SM = int(input('Surge Multiplier : '))"
   ]
  },
  {
   "cell_type": "code",
   "execution_count": 69,
   "id": "7c4c1916",
   "metadata": {},
   "outputs": [
    {
     "data": {
      "text/plain": [
       "[[4, 2, 1, 2, 500, 3]]"
      ]
     },
     "execution_count": 69,
     "metadata": {},
     "output_type": "execute_result"
    }
   ],
   "source": [
    "X_pred= [[Source,Destination, cab_type, name, distance, SM]]\n",
    "X_pred"
   ]
  },
  {
   "cell_type": "code",
   "execution_count": 70,
   "id": "59b36ece",
   "metadata": {
    "scrolled": true
   },
   "outputs": [
    {
     "name": "stdout",
     "output_type": "stream",
     "text": [
      "Hasil Prediksi Harga :  [47.28758827]\n"
     ]
    },
    {
     "name": "stderr",
     "output_type": "stream",
     "text": [
      "C:\\Users\\ACER\\AppData\\Roaming\\Python\\Python311\\site-packages\\sklearn\\base.py:439: UserWarning: X does not have valid feature names, but StandardScaler was fitted with feature names\n",
      "  warnings.warn(\n"
     ]
    }
   ],
   "source": [
    "# Melihat hasil prediksi\n",
    "y_pred = model2.predict(X_pred)\n",
    "print('Hasil Prediksi Harga : ', y_pred)"
   ]
  },
  {
   "cell_type": "markdown",
   "id": "9e83f3e6",
   "metadata": {},
   "source": [
    "Didapatkan dengan menggunakan model 3 yaitu Decission Tree Regressor dengan melakukan prediksi dengan Asal Financial District, Tujuan Beacon Hill, Jenis Taksi Lyft, Merek Lux, Jarak 500, dan Surge Multiplier 3, didapatkan hasil prediksi harganya yaitu 47.28758827 atau 47.2. "
   ]
  },
  {
   "cell_type": "markdown",
   "id": "9c8c94e9",
   "metadata": {},
   "source": [
    "# K. Pengambilan Kesimpulan"
   ]
  },
  {
   "cell_type": "markdown",
   "id": "fd4cffd5",
   "metadata": {},
   "source": [
    "Dari Pengolahan data yang telah dilakukan maka dapat ditarik beberapa kesimpulan yaitu:\n",
    "Kesimpulannya, analisis ini memberikan wawasan yang berharga tentang preferensi pengguna, korelasi variabel, hubungan antara jarak dan harga, serta pengaruh variabel-variabel tertentu terhadap harga layanan tumpangan. Informasi ini dapat digunakan oleh perusahaan seperti Lyft dan Uber untuk meningkatkan strategi pemasaran, penentuan harga, dan manajemen permintaan, serta untuk mengoptimalkan pengalaman pengguna. Namun, perlu diperhatikan bahwa model regresi mungkin perlu ditingkatkan untuk mengatasi penyimpangan dari distribusi normal dalam kesalahan residual."
   ]
  },
  {
   "cell_type": "code",
   "execution_count": null,
   "id": "46a8a2cf",
   "metadata": {},
   "outputs": [],
   "source": []
  }
 ],
 "metadata": {
  "kernelspec": {
   "display_name": "Python 3 (ipykernel)",
   "language": "python",
   "name": "python3"
  },
  "language_info": {
   "codemirror_mode": {
    "name": "ipython",
    "version": 3
   },
   "file_extension": ".py",
   "mimetype": "text/x-python",
   "name": "python",
   "nbconvert_exporter": "python",
   "pygments_lexer": "ipython3",
   "version": "3.11.4"
  }
 },
 "nbformat": 4,
 "nbformat_minor": 5
}
