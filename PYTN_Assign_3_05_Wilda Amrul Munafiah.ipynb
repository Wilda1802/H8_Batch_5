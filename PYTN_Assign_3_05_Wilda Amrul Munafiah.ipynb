{
 "cells": [
  {
   "cell_type": "markdown",
   "id": "49d292d1",
   "metadata": {},
   "source": [
    "# Assignment 3 / Classification / Bank Analysis"
   ]
  },
  {
   "cell_type": "markdown",
   "id": "351020f7",
   "metadata": {},
   "source": [
    "Nama : Wilda Amrul Munafiah\n",
    "\n",
    "Program : Python for Data Science\n",
    "\n",
    "Kode Peserta : PYTN-KS16-021\n"
   ]
  },
  {
   "cell_type": "markdown",
   "id": "9f696717",
   "metadata": {},
   "source": [
    "Dataset diperoleh dari UCI machine learning melalui link berikut : https://archive.ics.uci.edu/dataset/222/bank+marketing"
   ]
  },
  {
   "cell_type": "markdown",
   "id": "bbbc2a2b",
   "metadata": {},
   "source": [
    "Key \n",
    "- Logistic Regression\n",
    "- K-Nearest neighbors\n",
    "- SVM\n",
    "- Decission Tree\n",
    "- Random forest\n",
    "- Naive Bayes\n",
    "- Confusion matrix\n",
    "- Visualization\n",
    " \n"
   ]
  },
  {
   "cell_type": "markdown",
   "id": "ae8e5286",
   "metadata": {},
   "source": [
    "## Import Library"
   ]
  },
  {
   "cell_type": "code",
   "execution_count": 1,
   "id": "2538e940",
   "metadata": {},
   "outputs": [],
   "source": [
    "import pandas as pd\n",
    "import numpy as np\n",
    "\n",
    "import matplotlib as mpl\n",
    "import matplotlib.pyplot as plt\n",
    "import seaborn as sns\n",
    "\n",
    "from sklearn.linear_model import LogisticRegression\n",
    "from sklearn.neighbors import KNeighborsClassifier\n",
    "from sklearn import svm\n",
    "from sklearn.tree import DecisionTreeClassifier\n",
    "from sklearn.ensemble import RandomForestClassifier\n",
    "\n",
    "from sklearn.ensemble import ExtraTreesClassifier\n",
    "from sklearn.naive_bayes import GaussianNB\n",
    "from sklearn.metrics import confusion_matrix, classification_report, accuracy_score\n",
    "from sklearn.model_selection import train_test_split\n",
    "from sklearn import preprocessing\n",
    "\n",
    "# Metrics\n",
    "from sklearn.metrics import accuracy_score, classification_report, r2_score, mean_absolute_error, mean_squared_error, mean_absolute_percentage_error, confusion_matrix, ConfusionMatrixDisplay\n",
    "\n",
    "# Cross Validation\n",
    "from sklearn.model_selection import cross_val_score\n",
    "\n",
    "# Hyperparameter Tuning : Grid Search\n",
    "from sklearn.model_selection import GridSearchCV"
   ]
  },
  {
   "cell_type": "markdown",
   "id": "8ac2f9df",
   "metadata": {},
   "source": [
    "## Gathering Data"
   ]
  },
  {
   "cell_type": "code",
   "execution_count": 2,
   "id": "70f5ed0f",
   "metadata": {},
   "outputs": [
    {
     "data": {
      "text/html": [
       "<div>\n",
       "<style scoped>\n",
       "    .dataframe tbody tr th:only-of-type {\n",
       "        vertical-align: middle;\n",
       "    }\n",
       "\n",
       "    .dataframe tbody tr th {\n",
       "        vertical-align: top;\n",
       "    }\n",
       "\n",
       "    .dataframe thead th {\n",
       "        text-align: right;\n",
       "    }\n",
       "</style>\n",
       "<table border=\"1\" class=\"dataframe\">\n",
       "  <thead>\n",
       "    <tr style=\"text-align: right;\">\n",
       "      <th></th>\n",
       "      <th>age</th>\n",
       "      <th>job</th>\n",
       "      <th>marital</th>\n",
       "      <th>education</th>\n",
       "      <th>default</th>\n",
       "      <th>housing</th>\n",
       "      <th>loan</th>\n",
       "      <th>contact</th>\n",
       "      <th>month</th>\n",
       "      <th>day_of_week</th>\n",
       "      <th>...</th>\n",
       "      <th>campaign</th>\n",
       "      <th>pdays</th>\n",
       "      <th>previous</th>\n",
       "      <th>poutcome</th>\n",
       "      <th>emp.var.rate</th>\n",
       "      <th>cons.price.idx</th>\n",
       "      <th>cons.conf.idx</th>\n",
       "      <th>euribor3m</th>\n",
       "      <th>nr.employed</th>\n",
       "      <th>y</th>\n",
       "    </tr>\n",
       "  </thead>\n",
       "  <tbody>\n",
       "    <tr>\n",
       "      <th>0</th>\n",
       "      <td>56</td>\n",
       "      <td>housemaid</td>\n",
       "      <td>married</td>\n",
       "      <td>basic.4y</td>\n",
       "      <td>no</td>\n",
       "      <td>no</td>\n",
       "      <td>no</td>\n",
       "      <td>telephone</td>\n",
       "      <td>may</td>\n",
       "      <td>mon</td>\n",
       "      <td>...</td>\n",
       "      <td>1</td>\n",
       "      <td>999</td>\n",
       "      <td>0</td>\n",
       "      <td>nonexistent</td>\n",
       "      <td>1.1</td>\n",
       "      <td>93.994</td>\n",
       "      <td>-36.4</td>\n",
       "      <td>4.857</td>\n",
       "      <td>5191.0</td>\n",
       "      <td>no</td>\n",
       "    </tr>\n",
       "    <tr>\n",
       "      <th>1</th>\n",
       "      <td>57</td>\n",
       "      <td>services</td>\n",
       "      <td>married</td>\n",
       "      <td>high.school</td>\n",
       "      <td>unknown</td>\n",
       "      <td>no</td>\n",
       "      <td>no</td>\n",
       "      <td>telephone</td>\n",
       "      <td>may</td>\n",
       "      <td>mon</td>\n",
       "      <td>...</td>\n",
       "      <td>1</td>\n",
       "      <td>999</td>\n",
       "      <td>0</td>\n",
       "      <td>nonexistent</td>\n",
       "      <td>1.1</td>\n",
       "      <td>93.994</td>\n",
       "      <td>-36.4</td>\n",
       "      <td>4.857</td>\n",
       "      <td>5191.0</td>\n",
       "      <td>no</td>\n",
       "    </tr>\n",
       "    <tr>\n",
       "      <th>2</th>\n",
       "      <td>37</td>\n",
       "      <td>services</td>\n",
       "      <td>married</td>\n",
       "      <td>high.school</td>\n",
       "      <td>no</td>\n",
       "      <td>yes</td>\n",
       "      <td>no</td>\n",
       "      <td>telephone</td>\n",
       "      <td>may</td>\n",
       "      <td>mon</td>\n",
       "      <td>...</td>\n",
       "      <td>1</td>\n",
       "      <td>999</td>\n",
       "      <td>0</td>\n",
       "      <td>nonexistent</td>\n",
       "      <td>1.1</td>\n",
       "      <td>93.994</td>\n",
       "      <td>-36.4</td>\n",
       "      <td>4.857</td>\n",
       "      <td>5191.0</td>\n",
       "      <td>no</td>\n",
       "    </tr>\n",
       "    <tr>\n",
       "      <th>3</th>\n",
       "      <td>40</td>\n",
       "      <td>admin.</td>\n",
       "      <td>married</td>\n",
       "      <td>basic.6y</td>\n",
       "      <td>no</td>\n",
       "      <td>no</td>\n",
       "      <td>no</td>\n",
       "      <td>telephone</td>\n",
       "      <td>may</td>\n",
       "      <td>mon</td>\n",
       "      <td>...</td>\n",
       "      <td>1</td>\n",
       "      <td>999</td>\n",
       "      <td>0</td>\n",
       "      <td>nonexistent</td>\n",
       "      <td>1.1</td>\n",
       "      <td>93.994</td>\n",
       "      <td>-36.4</td>\n",
       "      <td>4.857</td>\n",
       "      <td>5191.0</td>\n",
       "      <td>no</td>\n",
       "    </tr>\n",
       "    <tr>\n",
       "      <th>4</th>\n",
       "      <td>56</td>\n",
       "      <td>services</td>\n",
       "      <td>married</td>\n",
       "      <td>high.school</td>\n",
       "      <td>no</td>\n",
       "      <td>no</td>\n",
       "      <td>yes</td>\n",
       "      <td>telephone</td>\n",
       "      <td>may</td>\n",
       "      <td>mon</td>\n",
       "      <td>...</td>\n",
       "      <td>1</td>\n",
       "      <td>999</td>\n",
       "      <td>0</td>\n",
       "      <td>nonexistent</td>\n",
       "      <td>1.1</td>\n",
       "      <td>93.994</td>\n",
       "      <td>-36.4</td>\n",
       "      <td>4.857</td>\n",
       "      <td>5191.0</td>\n",
       "      <td>no</td>\n",
       "    </tr>\n",
       "  </tbody>\n",
       "</table>\n",
       "<p>5 rows × 21 columns</p>\n",
       "</div>"
      ],
      "text/plain": [
       "   age        job  marital    education  default housing loan    contact  \\\n",
       "0   56  housemaid  married     basic.4y       no      no   no  telephone   \n",
       "1   57   services  married  high.school  unknown      no   no  telephone   \n",
       "2   37   services  married  high.school       no     yes   no  telephone   \n",
       "3   40     admin.  married     basic.6y       no      no   no  telephone   \n",
       "4   56   services  married  high.school       no      no  yes  telephone   \n",
       "\n",
       "  month day_of_week  ...  campaign  pdays  previous     poutcome emp.var.rate  \\\n",
       "0   may         mon  ...         1    999         0  nonexistent          1.1   \n",
       "1   may         mon  ...         1    999         0  nonexistent          1.1   \n",
       "2   may         mon  ...         1    999         0  nonexistent          1.1   \n",
       "3   may         mon  ...         1    999         0  nonexistent          1.1   \n",
       "4   may         mon  ...         1    999         0  nonexistent          1.1   \n",
       "\n",
       "   cons.price.idx  cons.conf.idx  euribor3m  nr.employed   y  \n",
       "0          93.994          -36.4      4.857       5191.0  no  \n",
       "1          93.994          -36.4      4.857       5191.0  no  \n",
       "2          93.994          -36.4      4.857       5191.0  no  \n",
       "3          93.994          -36.4      4.857       5191.0  no  \n",
       "4          93.994          -36.4      4.857       5191.0  no  \n",
       "\n",
       "[5 rows x 21 columns]"
      ]
     },
     "execution_count": 2,
     "metadata": {},
     "output_type": "execute_result"
    }
   ],
   "source": [
    "df=pd.read_csv('bank-additional-full.csv', delimiter=';')\n",
    "df.head()"
   ]
  },
  {
   "cell_type": "markdown",
   "id": "b6983eb1",
   "metadata": {},
   "source": [
    "## Assesing Data"
   ]
  },
  {
   "cell_type": "code",
   "execution_count": 3,
   "id": "82d8bed2",
   "metadata": {},
   "outputs": [
    {
     "name": "stdout",
     "output_type": "stream",
     "text": [
      "<class 'pandas.core.frame.DataFrame'>\n",
      "RangeIndex: 41188 entries, 0 to 41187\n",
      "Data columns (total 21 columns):\n",
      " #   Column          Non-Null Count  Dtype  \n",
      "---  ------          --------------  -----  \n",
      " 0   age             41188 non-null  int64  \n",
      " 1   job             41188 non-null  object \n",
      " 2   marital         41188 non-null  object \n",
      " 3   education       41188 non-null  object \n",
      " 4   default         41188 non-null  object \n",
      " 5   housing         41188 non-null  object \n",
      " 6   loan            41188 non-null  object \n",
      " 7   contact         41188 non-null  object \n",
      " 8   month           41188 non-null  object \n",
      " 9   day_of_week     41188 non-null  object \n",
      " 10  duration        41188 non-null  int64  \n",
      " 11  campaign        41188 non-null  int64  \n",
      " 12  pdays           41188 non-null  int64  \n",
      " 13  previous        41188 non-null  int64  \n",
      " 14  poutcome        41188 non-null  object \n",
      " 15  emp.var.rate    41188 non-null  float64\n",
      " 16  cons.price.idx  41188 non-null  float64\n",
      " 17  cons.conf.idx   41188 non-null  float64\n",
      " 18  euribor3m       41188 non-null  float64\n",
      " 19  nr.employed     41188 non-null  float64\n",
      " 20  y               41188 non-null  object \n",
      "dtypes: float64(5), int64(5), object(11)\n",
      "memory usage: 6.6+ MB\n"
     ]
    }
   ],
   "source": [
    "df.info()"
   ]
  },
  {
   "cell_type": "code",
   "execution_count": 4,
   "id": "964fd92a",
   "metadata": {},
   "outputs": [
    {
     "data": {
      "text/plain": [
       "age               0\n",
       "job               0\n",
       "marital           0\n",
       "education         0\n",
       "default           0\n",
       "housing           0\n",
       "loan              0\n",
       "contact           0\n",
       "month             0\n",
       "day_of_week       0\n",
       "duration          0\n",
       "campaign          0\n",
       "pdays             0\n",
       "previous          0\n",
       "poutcome          0\n",
       "emp.var.rate      0\n",
       "cons.price.idx    0\n",
       "cons.conf.idx     0\n",
       "euribor3m         0\n",
       "nr.employed       0\n",
       "y                 0\n",
       "dtype: int64"
      ]
     },
     "execution_count": 4,
     "metadata": {},
     "output_type": "execute_result"
    }
   ],
   "source": [
    "df.isna().sum()"
   ]
  },
  {
   "cell_type": "code",
   "execution_count": 5,
   "id": "d86400e9",
   "metadata": {},
   "outputs": [
    {
     "name": "stdout",
     "output_type": "stream",
     "text": [
      "jumlah duplikat: 12\n"
     ]
    }
   ],
   "source": [
    "print('jumlah duplikat:', df.duplicated().sum())"
   ]
  },
  {
   "cell_type": "code",
   "execution_count": 6,
   "id": "eea8386e",
   "metadata": {},
   "outputs": [
    {
     "data": {
      "text/plain": [
       "(41188, 21)"
      ]
     },
     "execution_count": 6,
     "metadata": {},
     "output_type": "execute_result"
    }
   ],
   "source": [
    "df.shape"
   ]
  },
  {
   "cell_type": "code",
   "execution_count": 7,
   "id": "a96d813d",
   "metadata": {},
   "outputs": [
    {
     "data": {
      "text/plain": [
       "RangeIndex(start=0, stop=41188, step=1)"
      ]
     },
     "execution_count": 7,
     "metadata": {},
     "output_type": "execute_result"
    }
   ],
   "source": [
    "df.index"
   ]
  },
  {
   "cell_type": "code",
   "execution_count": 8,
   "id": "b307b011",
   "metadata": {},
   "outputs": [
    {
     "data": {
      "text/plain": [
       "Index(['age', 'job', 'marital', 'education', 'default', 'housing', 'loan',\n",
       "       'contact', 'month', 'day_of_week', 'duration', 'campaign', 'pdays',\n",
       "       'previous', 'poutcome', 'emp.var.rate', 'cons.price.idx',\n",
       "       'cons.conf.idx', 'euribor3m', 'nr.employed', 'y'],\n",
       "      dtype='object')"
      ]
     },
     "execution_count": 8,
     "metadata": {},
     "output_type": "execute_result"
    }
   ],
   "source": [
    "df.columns"
   ]
  },
  {
   "cell_type": "code",
   "execution_count": 9,
   "id": "13469b35",
   "metadata": {},
   "outputs": [
    {
     "data": {
      "text/html": [
       "<div>\n",
       "<style scoped>\n",
       "    .dataframe tbody tr th:only-of-type {\n",
       "        vertical-align: middle;\n",
       "    }\n",
       "\n",
       "    .dataframe tbody tr th {\n",
       "        vertical-align: top;\n",
       "    }\n",
       "\n",
       "    .dataframe thead th {\n",
       "        text-align: right;\n",
       "    }\n",
       "</style>\n",
       "<table border=\"1\" class=\"dataframe\">\n",
       "  <thead>\n",
       "    <tr style=\"text-align: right;\">\n",
       "      <th></th>\n",
       "      <th>age</th>\n",
       "      <th>duration</th>\n",
       "      <th>campaign</th>\n",
       "      <th>pdays</th>\n",
       "      <th>previous</th>\n",
       "      <th>emp.var.rate</th>\n",
       "      <th>cons.price.idx</th>\n",
       "      <th>cons.conf.idx</th>\n",
       "      <th>euribor3m</th>\n",
       "      <th>nr.employed</th>\n",
       "    </tr>\n",
       "  </thead>\n",
       "  <tbody>\n",
       "    <tr>\n",
       "      <th>count</th>\n",
       "      <td>41188.00000</td>\n",
       "      <td>41188.000000</td>\n",
       "      <td>41188.000000</td>\n",
       "      <td>41188.000000</td>\n",
       "      <td>41188.000000</td>\n",
       "      <td>41188.000000</td>\n",
       "      <td>41188.000000</td>\n",
       "      <td>41188.000000</td>\n",
       "      <td>41188.000000</td>\n",
       "      <td>41188.000000</td>\n",
       "    </tr>\n",
       "    <tr>\n",
       "      <th>mean</th>\n",
       "      <td>40.02406</td>\n",
       "      <td>258.285010</td>\n",
       "      <td>2.567593</td>\n",
       "      <td>962.475454</td>\n",
       "      <td>0.172963</td>\n",
       "      <td>0.081886</td>\n",
       "      <td>93.575664</td>\n",
       "      <td>-40.502600</td>\n",
       "      <td>3.621291</td>\n",
       "      <td>5167.035911</td>\n",
       "    </tr>\n",
       "    <tr>\n",
       "      <th>std</th>\n",
       "      <td>10.42125</td>\n",
       "      <td>259.279249</td>\n",
       "      <td>2.770014</td>\n",
       "      <td>186.910907</td>\n",
       "      <td>0.494901</td>\n",
       "      <td>1.570960</td>\n",
       "      <td>0.578840</td>\n",
       "      <td>4.628198</td>\n",
       "      <td>1.734447</td>\n",
       "      <td>72.251528</td>\n",
       "    </tr>\n",
       "    <tr>\n",
       "      <th>min</th>\n",
       "      <td>17.00000</td>\n",
       "      <td>0.000000</td>\n",
       "      <td>1.000000</td>\n",
       "      <td>0.000000</td>\n",
       "      <td>0.000000</td>\n",
       "      <td>-3.400000</td>\n",
       "      <td>92.201000</td>\n",
       "      <td>-50.800000</td>\n",
       "      <td>0.634000</td>\n",
       "      <td>4963.600000</td>\n",
       "    </tr>\n",
       "    <tr>\n",
       "      <th>25%</th>\n",
       "      <td>32.00000</td>\n",
       "      <td>102.000000</td>\n",
       "      <td>1.000000</td>\n",
       "      <td>999.000000</td>\n",
       "      <td>0.000000</td>\n",
       "      <td>-1.800000</td>\n",
       "      <td>93.075000</td>\n",
       "      <td>-42.700000</td>\n",
       "      <td>1.344000</td>\n",
       "      <td>5099.100000</td>\n",
       "    </tr>\n",
       "    <tr>\n",
       "      <th>50%</th>\n",
       "      <td>38.00000</td>\n",
       "      <td>180.000000</td>\n",
       "      <td>2.000000</td>\n",
       "      <td>999.000000</td>\n",
       "      <td>0.000000</td>\n",
       "      <td>1.100000</td>\n",
       "      <td>93.749000</td>\n",
       "      <td>-41.800000</td>\n",
       "      <td>4.857000</td>\n",
       "      <td>5191.000000</td>\n",
       "    </tr>\n",
       "    <tr>\n",
       "      <th>75%</th>\n",
       "      <td>47.00000</td>\n",
       "      <td>319.000000</td>\n",
       "      <td>3.000000</td>\n",
       "      <td>999.000000</td>\n",
       "      <td>0.000000</td>\n",
       "      <td>1.400000</td>\n",
       "      <td>93.994000</td>\n",
       "      <td>-36.400000</td>\n",
       "      <td>4.961000</td>\n",
       "      <td>5228.100000</td>\n",
       "    </tr>\n",
       "    <tr>\n",
       "      <th>max</th>\n",
       "      <td>98.00000</td>\n",
       "      <td>4918.000000</td>\n",
       "      <td>56.000000</td>\n",
       "      <td>999.000000</td>\n",
       "      <td>7.000000</td>\n",
       "      <td>1.400000</td>\n",
       "      <td>94.767000</td>\n",
       "      <td>-26.900000</td>\n",
       "      <td>5.045000</td>\n",
       "      <td>5228.100000</td>\n",
       "    </tr>\n",
       "  </tbody>\n",
       "</table>\n",
       "</div>"
      ],
      "text/plain": [
       "               age      duration      campaign         pdays      previous  \\\n",
       "count  41188.00000  41188.000000  41188.000000  41188.000000  41188.000000   \n",
       "mean      40.02406    258.285010      2.567593    962.475454      0.172963   \n",
       "std       10.42125    259.279249      2.770014    186.910907      0.494901   \n",
       "min       17.00000      0.000000      1.000000      0.000000      0.000000   \n",
       "25%       32.00000    102.000000      1.000000    999.000000      0.000000   \n",
       "50%       38.00000    180.000000      2.000000    999.000000      0.000000   \n",
       "75%       47.00000    319.000000      3.000000    999.000000      0.000000   \n",
       "max       98.00000   4918.000000     56.000000    999.000000      7.000000   \n",
       "\n",
       "       emp.var.rate  cons.price.idx  cons.conf.idx     euribor3m   nr.employed  \n",
       "count  41188.000000    41188.000000   41188.000000  41188.000000  41188.000000  \n",
       "mean       0.081886       93.575664     -40.502600      3.621291   5167.035911  \n",
       "std        1.570960        0.578840       4.628198      1.734447     72.251528  \n",
       "min       -3.400000       92.201000     -50.800000      0.634000   4963.600000  \n",
       "25%       -1.800000       93.075000     -42.700000      1.344000   5099.100000  \n",
       "50%        1.100000       93.749000     -41.800000      4.857000   5191.000000  \n",
       "75%        1.400000       93.994000     -36.400000      4.961000   5228.100000  \n",
       "max        1.400000       94.767000     -26.900000      5.045000   5228.100000  "
      ]
     },
     "execution_count": 9,
     "metadata": {},
     "output_type": "execute_result"
    }
   ],
   "source": [
    "df.describe()"
   ]
  },
  {
   "cell_type": "markdown",
   "id": "833c94f0",
   "metadata": {},
   "source": [
    "## Cleaning Data"
   ]
  },
  {
   "cell_type": "code",
   "execution_count": 10,
   "id": "f4cd8220",
   "metadata": {},
   "outputs": [
    {
     "name": "stdout",
     "output_type": "stream",
     "text": [
      "jumlah duplikat: 0\n"
     ]
    }
   ],
   "source": [
    "#Mengatasi duplicate data\n",
    "df.drop_duplicates(inplace=True)\n",
    "print('jumlah duplikat:', df.duplicated().sum())"
   ]
  },
  {
   "cell_type": "code",
   "execution_count": 11,
   "id": "9ac59626",
   "metadata": {},
   "outputs": [],
   "source": [
    "#Menghilangkan kolom yang tidak digunakan\n",
    "df=df.drop(['emp.var.rate','cons.price.idx','cons.conf.idx','euribor3m','nr.employed','day_of_week'], axis=1)"
   ]
  },
  {
   "cell_type": "code",
   "execution_count": 12,
   "id": "e1099f7b",
   "metadata": {},
   "outputs": [],
   "source": [
    "#rename pada kolom y (Status customer yaitu menggunakan deposit atau tidak)\n",
    "df.rename(columns={'y':'status'}, inplace=True)"
   ]
  },
  {
   "cell_type": "code",
   "execution_count": 13,
   "id": "3a2e3f74",
   "metadata": {},
   "outputs": [
    {
     "name": "stdout",
     "output_type": "stream",
     "text": [
      "<class 'pandas.core.frame.DataFrame'>\n",
      "Int64Index: 41176 entries, 0 to 41187\n",
      "Data columns (total 15 columns):\n",
      " #   Column     Non-Null Count  Dtype   \n",
      "---  ------     --------------  -----   \n",
      " 0   age        41176 non-null  category\n",
      " 1   job        41176 non-null  category\n",
      " 2   marital    41176 non-null  category\n",
      " 3   education  41176 non-null  category\n",
      " 4   default    41176 non-null  category\n",
      " 5   housing    41176 non-null  category\n",
      " 6   loan       41176 non-null  category\n",
      " 7   contact    41176 non-null  category\n",
      " 8   month      41176 non-null  category\n",
      " 9   duration   41176 non-null  int64   \n",
      " 10  campaign   41176 non-null  int64   \n",
      " 11  pdays      41176 non-null  int64   \n",
      " 12  previous   41176 non-null  int64   \n",
      " 13  poutcome   41176 non-null  category\n",
      " 14  status     41176 non-null  category\n",
      "dtypes: category(11), int64(4)\n",
      "memory usage: 2.0 MB\n"
     ]
    }
   ],
   "source": [
    "#Mengkonversi tipe data object - categorical\n",
    "categorical = ['age',               \n",
    "                'job',              \n",
    "                'marital',           \n",
    "                'education',         \n",
    "                'default',           \n",
    "                'housing',         \n",
    "                'loan',              \n",
    "                'contact',        \n",
    "                'month',\n",
    "                'poutcome',\n",
    "                'status']\n",
    "\n",
    "for col in categorical: \n",
    "    df[col] = df[col].astype('category')\n",
    "df.info()"
   ]
  },
  {
   "cell_type": "markdown",
   "id": "b9c32af0",
   "metadata": {},
   "source": [
    "## Visualization & Analysis Data"
   ]
  },
  {
   "cell_type": "markdown",
   "id": "16bcb018",
   "metadata": {},
   "source": [
    "## Exploratory Data Analysis (EDA) of Dataset"
   ]
  },
  {
   "cell_type": "code",
   "execution_count": 14,
   "id": "09eef901",
   "metadata": {},
   "outputs": [
    {
     "data": {
      "text/plain": [
       "<Axes: xlabel='job', ylabel='count'>"
      ]
     },
     "execution_count": 14,
     "metadata": {},
     "output_type": "execute_result"
    },
    {
     "data": {
      "image/png": "[encoded data removed]",
      "text/plain": [
       "<Figure size 1500x500 with 1 Axes>"
      ]
     },
     "metadata": {},
     "output_type": "display_data"
    }
   ],
   "source": [
    "plt.figure(figsize=(15,5))\n",
    "sns.countplot(x=df['job'])"
   ]
  },
  {
   "cell_type": "code",
   "execution_count": 15,
   "id": "f0a07b0f",
   "metadata": {},
   "outputs": [
    {
     "data": {
      "text/plain": [
       "<Axes: xlabel='job', ylabel='count'>"
      ]
     },
     "execution_count": 15,
     "metadata": {},
     "output_type": "execute_result"
    },
    {
     "data": {
      "image/png": "[encoded data removed]",
      "text/plain": [
       "<Figure size 2000x500 with 1 Axes>"
      ]
     },
     "metadata": {},
     "output_type": "display_data"
    }
   ],
   "source": [
    "plt.figure(figsize=(20,5))\n",
    "sns.countplot(data=df, x='job', hue='education')"
   ]
  },
  {
   "cell_type": "code",
   "execution_count": 16,
   "id": "65b50fd2",
   "metadata": {},
   "outputs": [
    {
     "data": {
      "text/plain": [
       "<Axes: xlabel='job', ylabel='count'>"
      ]
     },
     "execution_count": 16,
     "metadata": {},
     "output_type": "execute_result"
    },
    {
     "data": {
      "image/png": "[encoded data removed]",
      "text/plain": [
       "<Figure size 2000x500 with 1 Axes>"
      ]
     },
     "metadata": {},
     "output_type": "display_data"
    }
   ],
   "source": [
    "plt.figure(figsize=(20,5))\n",
    "sns.countplot(data=df, x='job', hue='marital')"
   ]
  },
  {
   "cell_type": "code",
   "execution_count": 17,
   "id": "e06d92f9",
   "metadata": {},
   "outputs": [
    {
     "data": {
      "text/plain": [
       "<Axes: xlabel='job', ylabel='count'>"
      ]
     },
     "execution_count": 17,
     "metadata": {},
     "output_type": "execute_result"
    },
    {
     "data": {
      "image/png": "[encoded data removed]",
      "text/plain": [
       "<Figure size 2000x500 with 1 Axes>"
      ]
     },
     "metadata": {},
     "output_type": "display_data"
    }
   ],
   "source": [
    "plt.figure(figsize=(20,5))\n",
    "sns.countplot(data=df, x='job', hue='loan')"
   ]
  },
  {
   "cell_type": "code",
   "execution_count": 18,
   "id": "70df4315",
   "metadata": {},
   "outputs": [
    {
     "data": {
      "image/png": "[encoded data removed]",
      "text/plain": [
       "<Figure size 1200x500 with 1 Axes>"
      ]
     },
     "metadata": {},
     "output_type": "display_data"
    }
   ],
   "source": [
    "plt.figure(figsize=(12,5))\n",
    "colors=['BurlyWood','DarkMagenta']\n",
    "sns.countplot(x='status',data=df)\n",
    "plt.title(\"Category of Yes and No\")\n",
    "plt.show()\n"
   ]
  },
  {
   "cell_type": "code",
   "execution_count": 19,
   "id": "3d1c942b",
   "metadata": {},
   "outputs": [
    {
     "data": {
      "image/png": "[encoded data removed]",
      "text/plain": [
       "<Figure size 800x500 with 1 Axes>"
      ]
     },
     "metadata": {},
     "output_type": "display_data"
    }
   ],
   "source": [
    "df_status =df['status'].value_counts()\n",
    "labels =df['status'].unique()\n",
    "\n",
    "plt.figure(figsize=(8,5))\n",
    "colors=['SkyBlue','orange']\n",
    "font = {'weight': 'bold','size': 12}\n",
    "ax = plt.axes()\n",
    "plt.title('Percentage of Client Decision in Subscribe a Term Deposit', fontdict=font)\n",
    "ab = plt.pie(df_status, labels=labels, colors=colors, startangle=90, autopct='%1.1f%%')\n",
    "\n",
    "plt.show()"
   ]
  },
  {
   "cell_type": "code",
   "execution_count": 20,
   "id": "0e770fed",
   "metadata": {},
   "outputs": [
    {
     "name": "stdout",
     "output_type": "stream",
     "text": [
      "Job unique :\n",
      "['housemaid', 'services', 'admin.', 'blue-collar', 'technician', ..., 'unemployed', 'self-employed', 'unknown', 'entrepreneur', 'student']\n",
      "Length: 12\n",
      "Categories (12, object): ['admin.', 'blue-collar', 'entrepreneur', 'housemaid', ..., 'student', 'technician', 'unemployed', 'unknown']\n",
      "***\n",
      "Marital unique :\n",
      "['married', 'single', 'divorced', 'unknown']\n",
      "Categories (4, object): ['divorced', 'married', 'single', 'unknown']\n",
      "***\n",
      "Education unique :\n",
      "['basic.4y', 'high.school', 'basic.6y', 'basic.9y', 'professional.course', 'unknown', 'university.degree', 'illiterate']\n",
      "Categories (8, object): ['basic.4y', 'basic.6y', 'basic.9y', 'high.school', 'illiterate', 'professional.course', 'university.degree', 'unknown']\n",
      "***\n",
      "Default unique :\n",
      "['no', 'unknown', 'yes']\n",
      "Categories (3, object): ['no', 'unknown', 'yes']\n",
      "***\n",
      "Housing unique :\n",
      "['no', 'yes', 'unknown']\n",
      "Categories (3, object): ['no', 'unknown', 'yes']\n",
      "***\n",
      "Loan unique :\n",
      "['no', 'yes', 'unknown']\n",
      "Categories (3, object): ['no', 'unknown', 'yes']\n",
      "***\n",
      "Contact unique :\n",
      "['telephone', 'cellular']\n",
      "Categories (2, object): ['cellular', 'telephone']\n",
      "***\n",
      "Month unique :\n",
      "['may', 'jun', 'jul', 'aug', 'oct', 'nov', 'dec', 'mar', 'apr', 'sep']\n",
      "Categories (10, object): ['apr', 'aug', 'dec', 'jul', ..., 'may', 'nov', 'oct', 'sep']\n",
      "***\n",
      "poutcome unique :\n",
      "['nonexistent', 'failure', 'success']\n",
      "Categories (3, object): ['failure', 'nonexistent', 'success']\n",
      "***\n"
     ]
    }
   ],
   "source": [
    "# Cek unique value pada kolom kategorik\n",
    "print ('Job unique :')\n",
    "print (df['job'].unique())\n",
    "print ('***')\n",
    "print ('Marital unique :')\n",
    "print (df['marital'].unique())\n",
    "print ('***')\n",
    "print ('Education unique :')\n",
    "print (df['education'].unique())\n",
    "print ('***')\n",
    "print ('Default unique :')\n",
    "print (df['default'].unique())\n",
    "print ('***')\n",
    "print ('Housing unique :')\n",
    "print (df['housing'].unique())\n",
    "print ('***')\n",
    "print ('Loan unique :')\n",
    "print (df['loan'].unique())\n",
    "print ('***')\n",
    "print ('Contact unique :')\n",
    "print (df['contact'].unique())\n",
    "print ('***')\n",
    "print ('Month unique :')\n",
    "print (df['month'].unique())\n",
    "print ('***')\n",
    "print ('poutcome unique :')\n",
    "print (df['poutcome'].unique())\n",
    "print ('***')"
   ]
  },
  {
   "cell_type": "code",
   "execution_count": 21,
   "id": "0329aba4",
   "metadata": {},
   "outputs": [
    {
     "data": {
      "image/png": "[encoded data removed]",
      "text/plain": [
       "<Figure size 2000x1500 with 4 Axes>"
      ]
     },
     "metadata": {},
     "output_type": "display_data"
    }
   ],
   "source": [
    "# Visualisasi persebaran data setiap columns\n",
    "%matplotlib inline\n",
    "import matplotlib.pyplot as plt\n",
    "df.select_dtypes(include=np.number).hist(bins=50, figsize=(20,15))\n",
    "\n",
    "plt.show()"
   ]
  },
  {
   "cell_type": "code",
   "execution_count": null,
   "id": "80532776",
   "metadata": {},
   "outputs": [],
   "source": []
  },
  {
   "cell_type": "code",
   "execution_count": null,
   "id": "7a9962d2",
   "metadata": {},
   "outputs": [],
   "source": []
  },
  {
   "cell_type": "code",
   "execution_count": null,
   "id": "dac85327",
   "metadata": {},
   "outputs": [],
   "source": []
  },
  {
   "cell_type": "markdown",
   "id": "f8db2e9b",
   "metadata": {},
   "source": [
    "## Correlation\n",
    "\n",
    "Korelasi bertujuan untuk melihat hubungan antara kolom yang satu dengan lainnya dalam dataset"
   ]
  },
  {
   "cell_type": "code",
   "execution_count": 22,
   "id": "414d58b9",
   "metadata": {},
   "outputs": [
    {
     "data": {
      "image/png": "[encoded data removed]",
      "text/plain": [
       "<Figure size 640x480 with 2 Axes>"
      ]
     },
     "metadata": {},
     "output_type": "display_data"
    },
    {
     "data": {
      "text/plain": [
       "<Figure size 2000x2000 with 0 Axes>"
      ]
     },
     "metadata": {},
     "output_type": "display_data"
    }
   ],
   "source": [
    "\n",
    "col_list = df.columns[df.dtypes == 'category'].to_list()\n",
    "for col in col_list:\n",
    "    df[col] = preprocessing.LabelEncoder().fit_transform(df[col])\n",
    "\n",
    "x = df.iloc[:, 0:16]\n",
    "y = df.iloc[:, -1]\n",
    "\n",
    "corrmat = df.corr()\n",
    "sns.heatmap(df[corrmat.index].corr(),cmap=\"RdBu_r\")\n",
    "plt.title(\"Correlation Matrix\", fontsize=16)\n",
    "plt.figure(figsize=(20, 20))\n",
    "plt.show()"
   ]
  },
  {
   "cell_type": "markdown",
   "id": "6d92951f",
   "metadata": {},
   "source": [
    "## Feature Engineering"
   ]
  },
  {
   "cell_type": "markdown",
   "id": "02186f2f",
   "metadata": {},
   "source": [
    "#### 1. Data Inference"
   ]
  },
  {
   "cell_type": "code",
   "execution_count": 23,
   "id": "683f078a",
   "metadata": {
    "scrolled": true
   },
   "outputs": [
    {
     "data": {
      "text/html": [
       "<div>\n",
       "<style scoped>\n",
       "    .dataframe tbody tr th:only-of-type {\n",
       "        vertical-align: middle;\n",
       "    }\n",
       "\n",
       "    .dataframe tbody tr th {\n",
       "        vertical-align: top;\n",
       "    }\n",
       "\n",
       "    .dataframe thead th {\n",
       "        text-align: right;\n",
       "    }\n",
       "</style>\n",
       "<table border=\"1\" class=\"dataframe\">\n",
       "  <thead>\n",
       "    <tr style=\"text-align: right;\">\n",
       "      <th></th>\n",
       "      <th>age</th>\n",
       "      <th>job</th>\n",
       "      <th>marital</th>\n",
       "      <th>education</th>\n",
       "      <th>default</th>\n",
       "      <th>housing</th>\n",
       "      <th>loan</th>\n",
       "      <th>contact</th>\n",
       "      <th>month</th>\n",
       "      <th>duration</th>\n",
       "      <th>campaign</th>\n",
       "      <th>pdays</th>\n",
       "      <th>previous</th>\n",
       "      <th>poutcome</th>\n",
       "      <th>status</th>\n",
       "    </tr>\n",
       "  </thead>\n",
       "  <tbody>\n",
       "    <tr>\n",
       "      <th>0</th>\n",
       "      <td>33</td>\n",
       "      <td>9</td>\n",
       "      <td>0</td>\n",
       "      <td>6</td>\n",
       "      <td>1</td>\n",
       "      <td>0</td>\n",
       "      <td>0</td>\n",
       "      <td>0</td>\n",
       "      <td>1</td>\n",
       "      <td>114</td>\n",
       "      <td>2</td>\n",
       "      <td>999</td>\n",
       "      <td>0</td>\n",
       "      <td>1</td>\n",
       "      <td>0</td>\n",
       "    </tr>\n",
       "    <tr>\n",
       "      <th>1</th>\n",
       "      <td>32</td>\n",
       "      <td>3</td>\n",
       "      <td>0</td>\n",
       "      <td>0</td>\n",
       "      <td>1</td>\n",
       "      <td>2</td>\n",
       "      <td>0</td>\n",
       "      <td>0</td>\n",
       "      <td>3</td>\n",
       "      <td>129</td>\n",
       "      <td>1</td>\n",
       "      <td>999</td>\n",
       "      <td>0</td>\n",
       "      <td>1</td>\n",
       "      <td>0</td>\n",
       "    </tr>\n",
       "    <tr>\n",
       "      <th>2</th>\n",
       "      <td>27</td>\n",
       "      <td>1</td>\n",
       "      <td>1</td>\n",
       "      <td>1</td>\n",
       "      <td>0</td>\n",
       "      <td>2</td>\n",
       "      <td>2</td>\n",
       "      <td>0</td>\n",
       "      <td>7</td>\n",
       "      <td>119</td>\n",
       "      <td>2</td>\n",
       "      <td>999</td>\n",
       "      <td>1</td>\n",
       "      <td>0</td>\n",
       "      <td>0</td>\n",
       "    </tr>\n",
       "    <tr>\n",
       "      <th>3</th>\n",
       "      <td>30</td>\n",
       "      <td>6</td>\n",
       "      <td>1</td>\n",
       "      <td>6</td>\n",
       "      <td>0</td>\n",
       "      <td>2</td>\n",
       "      <td>0</td>\n",
       "      <td>0</td>\n",
       "      <td>1</td>\n",
       "      <td>28</td>\n",
       "      <td>13</td>\n",
       "      <td>999</td>\n",
       "      <td>0</td>\n",
       "      <td>1</td>\n",
       "      <td>0</td>\n",
       "    </tr>\n",
       "    <tr>\n",
       "      <th>4</th>\n",
       "      <td>29</td>\n",
       "      <td>0</td>\n",
       "      <td>2</td>\n",
       "      <td>6</td>\n",
       "      <td>0</td>\n",
       "      <td>0</td>\n",
       "      <td>0</td>\n",
       "      <td>0</td>\n",
       "      <td>6</td>\n",
       "      <td>70</td>\n",
       "      <td>1</td>\n",
       "      <td>999</td>\n",
       "      <td>0</td>\n",
       "      <td>1</td>\n",
       "      <td>0</td>\n",
       "    </tr>\n",
       "    <tr>\n",
       "      <th>5</th>\n",
       "      <td>22</td>\n",
       "      <td>0</td>\n",
       "      <td>1</td>\n",
       "      <td>5</td>\n",
       "      <td>0</td>\n",
       "      <td>2</td>\n",
       "      <td>0</td>\n",
       "      <td>1</td>\n",
       "      <td>6</td>\n",
       "      <td>292</td>\n",
       "      <td>7</td>\n",
       "      <td>999</td>\n",
       "      <td>0</td>\n",
       "      <td>1</td>\n",
       "      <td>0</td>\n",
       "    </tr>\n",
       "    <tr>\n",
       "      <th>6</th>\n",
       "      <td>24</td>\n",
       "      <td>1</td>\n",
       "      <td>1</td>\n",
       "      <td>2</td>\n",
       "      <td>0</td>\n",
       "      <td>2</td>\n",
       "      <td>0</td>\n",
       "      <td>0</td>\n",
       "      <td>3</td>\n",
       "      <td>473</td>\n",
       "      <td>1</td>\n",
       "      <td>999</td>\n",
       "      <td>0</td>\n",
       "      <td>1</td>\n",
       "      <td>0</td>\n",
       "    </tr>\n",
       "    <tr>\n",
       "      <th>7</th>\n",
       "      <td>18</td>\n",
       "      <td>1</td>\n",
       "      <td>1</td>\n",
       "      <td>5</td>\n",
       "      <td>0</td>\n",
       "      <td>2</td>\n",
       "      <td>0</td>\n",
       "      <td>0</td>\n",
       "      <td>7</td>\n",
       "      <td>172</td>\n",
       "      <td>2</td>\n",
       "      <td>999</td>\n",
       "      <td>1</td>\n",
       "      <td>0</td>\n",
       "      <td>0</td>\n",
       "    </tr>\n",
       "    <tr>\n",
       "      <th>8</th>\n",
       "      <td>18</td>\n",
       "      <td>1</td>\n",
       "      <td>1</td>\n",
       "      <td>2</td>\n",
       "      <td>0</td>\n",
       "      <td>0</td>\n",
       "      <td>0</td>\n",
       "      <td>1</td>\n",
       "      <td>4</td>\n",
       "      <td>388</td>\n",
       "      <td>12</td>\n",
       "      <td>999</td>\n",
       "      <td>0</td>\n",
       "      <td>1</td>\n",
       "      <td>0</td>\n",
       "    </tr>\n",
       "    <tr>\n",
       "      <th>9</th>\n",
       "      <td>26</td>\n",
       "      <td>0</td>\n",
       "      <td>1</td>\n",
       "      <td>3</td>\n",
       "      <td>0</td>\n",
       "      <td>2</td>\n",
       "      <td>0</td>\n",
       "      <td>0</td>\n",
       "      <td>6</td>\n",
       "      <td>76</td>\n",
       "      <td>4</td>\n",
       "      <td>3</td>\n",
       "      <td>1</td>\n",
       "      <td>2</td>\n",
       "      <td>0</td>\n",
       "    </tr>\n",
       "    <tr>\n",
       "      <th>10</th>\n",
       "      <td>9</td>\n",
       "      <td>8</td>\n",
       "      <td>2</td>\n",
       "      <td>7</td>\n",
       "      <td>1</td>\n",
       "      <td>0</td>\n",
       "      <td>0</td>\n",
       "      <td>1</td>\n",
       "      <td>6</td>\n",
       "      <td>277</td>\n",
       "      <td>5</td>\n",
       "      <td>999</td>\n",
       "      <td>0</td>\n",
       "      <td>1</td>\n",
       "      <td>0</td>\n",
       "    </tr>\n",
       "    <tr>\n",
       "      <th>11</th>\n",
       "      <td>28</td>\n",
       "      <td>1</td>\n",
       "      <td>1</td>\n",
       "      <td>0</td>\n",
       "      <td>1</td>\n",
       "      <td>2</td>\n",
       "      <td>0</td>\n",
       "      <td>0</td>\n",
       "      <td>1</td>\n",
       "      <td>994</td>\n",
       "      <td>1</td>\n",
       "      <td>999</td>\n",
       "      <td>0</td>\n",
       "      <td>1</td>\n",
       "      <td>1</td>\n",
       "    </tr>\n",
       "    <tr>\n",
       "      <th>12</th>\n",
       "      <td>26</td>\n",
       "      <td>7</td>\n",
       "      <td>1</td>\n",
       "      <td>3</td>\n",
       "      <td>0</td>\n",
       "      <td>0</td>\n",
       "      <td>2</td>\n",
       "      <td>0</td>\n",
       "      <td>1</td>\n",
       "      <td>79</td>\n",
       "      <td>2</td>\n",
       "      <td>3</td>\n",
       "      <td>2</td>\n",
       "      <td>2</td>\n",
       "      <td>0</td>\n",
       "    </tr>\n",
       "    <tr>\n",
       "      <th>13</th>\n",
       "      <td>15</td>\n",
       "      <td>7</td>\n",
       "      <td>2</td>\n",
       "      <td>6</td>\n",
       "      <td>0</td>\n",
       "      <td>2</td>\n",
       "      <td>0</td>\n",
       "      <td>0</td>\n",
       "      <td>6</td>\n",
       "      <td>261</td>\n",
       "      <td>3</td>\n",
       "      <td>999</td>\n",
       "      <td>0</td>\n",
       "      <td>1</td>\n",
       "      <td>0</td>\n",
       "    </tr>\n",
       "    <tr>\n",
       "      <th>14</th>\n",
       "      <td>34</td>\n",
       "      <td>1</td>\n",
       "      <td>1</td>\n",
       "      <td>3</td>\n",
       "      <td>0</td>\n",
       "      <td>0</td>\n",
       "      <td>2</td>\n",
       "      <td>1</td>\n",
       "      <td>6</td>\n",
       "      <td>247</td>\n",
       "      <td>1</td>\n",
       "      <td>999</td>\n",
       "      <td>0</td>\n",
       "      <td>1</td>\n",
       "      <td>0</td>\n",
       "    </tr>\n",
       "    <tr>\n",
       "      <th>15</th>\n",
       "      <td>30</td>\n",
       "      <td>2</td>\n",
       "      <td>1</td>\n",
       "      <td>1</td>\n",
       "      <td>1</td>\n",
       "      <td>0</td>\n",
       "      <td>0</td>\n",
       "      <td>1</td>\n",
       "      <td>1</td>\n",
       "      <td>244</td>\n",
       "      <td>3</td>\n",
       "      <td>999</td>\n",
       "      <td>0</td>\n",
       "      <td>1</td>\n",
       "      <td>0</td>\n",
       "    </tr>\n",
       "    <tr>\n",
       "      <th>16</th>\n",
       "      <td>12</td>\n",
       "      <td>6</td>\n",
       "      <td>1</td>\n",
       "      <td>5</td>\n",
       "      <td>0</td>\n",
       "      <td>0</td>\n",
       "      <td>0</td>\n",
       "      <td>1</td>\n",
       "      <td>4</td>\n",
       "      <td>632</td>\n",
       "      <td>1</td>\n",
       "      <td>999</td>\n",
       "      <td>0</td>\n",
       "      <td>1</td>\n",
       "      <td>0</td>\n",
       "    </tr>\n",
       "    <tr>\n",
       "      <th>17</th>\n",
       "      <td>12</td>\n",
       "      <td>9</td>\n",
       "      <td>2</td>\n",
       "      <td>6</td>\n",
       "      <td>0</td>\n",
       "      <td>0</td>\n",
       "      <td>0</td>\n",
       "      <td>0</td>\n",
       "      <td>1</td>\n",
       "      <td>210</td>\n",
       "      <td>1</td>\n",
       "      <td>999</td>\n",
       "      <td>0</td>\n",
       "      <td>1</td>\n",
       "      <td>0</td>\n",
       "    </tr>\n",
       "    <tr>\n",
       "      <th>18</th>\n",
       "      <td>34</td>\n",
       "      <td>1</td>\n",
       "      <td>1</td>\n",
       "      <td>0</td>\n",
       "      <td>0</td>\n",
       "      <td>2</td>\n",
       "      <td>0</td>\n",
       "      <td>1</td>\n",
       "      <td>6</td>\n",
       "      <td>438</td>\n",
       "      <td>2</td>\n",
       "      <td>999</td>\n",
       "      <td>0</td>\n",
       "      <td>1</td>\n",
       "      <td>0</td>\n",
       "    </tr>\n",
       "    <tr>\n",
       "      <th>19</th>\n",
       "      <td>15</td>\n",
       "      <td>0</td>\n",
       "      <td>1</td>\n",
       "      <td>6</td>\n",
       "      <td>1</td>\n",
       "      <td>0</td>\n",
       "      <td>0</td>\n",
       "      <td>0</td>\n",
       "      <td>1</td>\n",
       "      <td>298</td>\n",
       "      <td>1</td>\n",
       "      <td>999</td>\n",
       "      <td>0</td>\n",
       "      <td>1</td>\n",
       "      <td>0</td>\n",
       "    </tr>\n",
       "  </tbody>\n",
       "</table>\n",
       "</div>"
      ],
      "text/plain": [
       "    age  job  marital  education  default  housing  loan  contact  month  \\\n",
       "0    33    9        0          6        1        0     0        0      1   \n",
       "1    32    3        0          0        1        2     0        0      3   \n",
       "2    27    1        1          1        0        2     2        0      7   \n",
       "3    30    6        1          6        0        2     0        0      1   \n",
       "4    29    0        2          6        0        0     0        0      6   \n",
       "5    22    0        1          5        0        2     0        1      6   \n",
       "6    24    1        1          2        0        2     0        0      3   \n",
       "7    18    1        1          5        0        2     0        0      7   \n",
       "8    18    1        1          2        0        0     0        1      4   \n",
       "9    26    0        1          3        0        2     0        0      6   \n",
       "10    9    8        2          7        1        0     0        1      6   \n",
       "11   28    1        1          0        1        2     0        0      1   \n",
       "12   26    7        1          3        0        0     2        0      1   \n",
       "13   15    7        2          6        0        2     0        0      6   \n",
       "14   34    1        1          3        0        0     2        1      6   \n",
       "15   30    2        1          1        1        0     0        1      1   \n",
       "16   12    6        1          5        0        0     0        1      4   \n",
       "17   12    9        2          6        0        0     0        0      1   \n",
       "18   34    1        1          0        0        2     0        1      6   \n",
       "19   15    0        1          6        1        0     0        0      1   \n",
       "\n",
       "    duration  campaign  pdays  previous  poutcome  status  \n",
       "0        114         2    999         0         1       0  \n",
       "1        129         1    999         0         1       0  \n",
       "2        119         2    999         1         0       0  \n",
       "3         28        13    999         0         1       0  \n",
       "4         70         1    999         0         1       0  \n",
       "5        292         7    999         0         1       0  \n",
       "6        473         1    999         0         1       0  \n",
       "7        172         2    999         1         0       0  \n",
       "8        388        12    999         0         1       0  \n",
       "9         76         4      3         1         2       0  \n",
       "10       277         5    999         0         1       0  \n",
       "11       994         1    999         0         1       1  \n",
       "12        79         2      3         2         2       0  \n",
       "13       261         3    999         0         1       0  \n",
       "14       247         1    999         0         1       0  \n",
       "15       244         3    999         0         1       0  \n",
       "16       632         1    999         0         1       0  \n",
       "17       210         1    999         0         1       0  \n",
       "18       438         2    999         0         1       0  \n",
       "19       298         1    999         0         1       0  "
      ]
     },
     "execution_count": 23,
     "metadata": {},
     "output_type": "execute_result"
    }
   ],
   "source": [
    "#Mengambil data inference dari datset\n",
    "df_inf=df.sample(20, random_state=19)\n",
    "\n",
    "#menghilangkan inference dari dataset\n",
    "df_train_test = df.drop(df_inf.index)\n",
    "df_train_test\n",
    "\n",
    "# Reset Index \n",
    "df_train_test.reset_index(drop=True, inplace=True)\n",
    "df_inf.reset_index(drop=True, inplace=True)\n",
    "df_inf"
   ]
  },
  {
   "cell_type": "code",
   "execution_count": 24,
   "id": "52e194e0",
   "metadata": {},
   "outputs": [],
   "source": [
    "# Memisahkan Data Feature dan Data Target\n",
    "# Feature=X\n",
    "# Target=Y\n",
    "\n",
    "X=df_train_test.drop('status', axis=1)\n",
    "Y=df_train_test['status']"
   ]
  },
  {
   "cell_type": "code",
   "execution_count": 25,
   "id": "ce79856d",
   "metadata": {},
   "outputs": [
    {
     "name": "stdout",
     "output_type": "stream",
     "text": [
      "Train Size :  (32924, 14)\n",
      "Test Size  :  (8232, 14)\n",
      "Y_train Size  :  (32924,)\n",
      "Y_test Size  :  (8232,)\n"
     ]
    }
   ],
   "source": [
    "# Set Data Training dan Data Target\n",
    "X_train, X_test, Y_train, Y_test = train_test_split(X,Y, test_size=0.2, random_state=17)\n",
    "\n",
    "print('Train Size : ', X_train.shape)\n",
    "print('Test Size  : ', X_test.shape)\n",
    "print('Y_train Size  : ', Y_train.shape)\n",
    "print('Y_test Size  : ', Y_test.shape)"
   ]
  },
  {
   "cell_type": "code",
   "execution_count": 26,
   "id": "ab7c77dc",
   "metadata": {},
   "outputs": [],
   "source": [
    "#Memisahkan Data Numerical dan Kategorikal untuk Data Train dan Data Test\n",
    "num_columns = X_train.select_dtypes(include=np.number).columns.tolist()\n",
    "cat_columns= X_train.select_dtypes(include=['object']).columns.tolist()"
   ]
  },
  {
   "cell_type": "code",
   "execution_count": 27,
   "id": "365f272f",
   "metadata": {},
   "outputs": [],
   "source": [
    "#Memisahkan Data Train dan Data Test berdasarkan tipe data\n",
    "X_train_num = X_train[num_columns]\n",
    "X_train_cat = X_train[cat_columns]\n",
    "\n",
    "X_test_num = X_test[num_columns]\n",
    "X_test_cat = X_test[cat_columns]\n"
   ]
  },
  {
   "cell_type": "code",
   "execution_count": 28,
   "id": "e2705542",
   "metadata": {},
   "outputs": [
    {
     "name": "stdout",
     "output_type": "stream",
     "text": [
      "0\n",
      "0\n",
      "0\n",
      "0\n",
      "total missing values =  0\n"
     ]
    }
   ],
   "source": [
    "# Cek missing value untuk Data Train dan Data Test\n",
    "print(X_train.isnull().sum().sum())\n",
    "print(X_test.isnull().sum().sum())\n",
    "print(Y_train.isnull().sum().sum())\n",
    "print(Y_test.isnull().sum().sum())\n",
    "print('total missing values = ', X_train.isnull().sum().sum() + X_test.isnull().sum().sum() + Y_train.isnull().sum().sum())\n"
   ]
  },
  {
   "cell_type": "code",
   "execution_count": 29,
   "id": "e7a35909",
   "metadata": {},
   "outputs": [
    {
     "data": {
      "text/html": [
       "<div>\n",
       "<style scoped>\n",
       "    .dataframe tbody tr th:only-of-type {\n",
       "        vertical-align: middle;\n",
       "    }\n",
       "\n",
       "    .dataframe tbody tr th {\n",
       "        vertical-align: top;\n",
       "    }\n",
       "\n",
       "    .dataframe thead th {\n",
       "        text-align: right;\n",
       "    }\n",
       "</style>\n",
       "<table border=\"1\" class=\"dataframe\">\n",
       "  <thead>\n",
       "    <tr style=\"text-align: right;\">\n",
       "      <th></th>\n",
       "      <th>Kolom</th>\n",
       "      <th>Skewness_abs</th>\n",
       "      <th>normal</th>\n",
       "    </tr>\n",
       "  </thead>\n",
       "  <tbody>\n",
       "    <tr>\n",
       "      <th>0</th>\n",
       "      <td>age</td>\n",
       "      <td>0.780525</td>\n",
       "      <td>False</td>\n",
       "    </tr>\n",
       "    <tr>\n",
       "      <th>1</th>\n",
       "      <td>job</td>\n",
       "      <td>0.447363</td>\n",
       "      <td>True</td>\n",
       "    </tr>\n",
       "    <tr>\n",
       "      <th>2</th>\n",
       "      <td>marital</td>\n",
       "      <td>0.057598</td>\n",
       "      <td>True</td>\n",
       "    </tr>\n",
       "    <tr>\n",
       "      <th>3</th>\n",
       "      <td>education</td>\n",
       "      <td>0.237815</td>\n",
       "      <td>True</td>\n",
       "    </tr>\n",
       "    <tr>\n",
       "      <th>4</th>\n",
       "      <td>default</td>\n",
       "      <td>1.429681</td>\n",
       "      <td>False</td>\n",
       "    </tr>\n",
       "    <tr>\n",
       "      <th>5</th>\n",
       "      <td>housing</td>\n",
       "      <td>0.143704</td>\n",
       "      <td>True</td>\n",
       "    </tr>\n",
       "    <tr>\n",
       "      <th>6</th>\n",
       "      <td>loan</td>\n",
       "      <td>1.795012</td>\n",
       "      <td>False</td>\n",
       "    </tr>\n",
       "    <tr>\n",
       "      <th>7</th>\n",
       "      <td>contact</td>\n",
       "      <td>0.563341</td>\n",
       "      <td>False</td>\n",
       "    </tr>\n",
       "    <tr>\n",
       "      <th>8</th>\n",
       "      <td>month</td>\n",
       "      <td>0.302276</td>\n",
       "      <td>True</td>\n",
       "    </tr>\n",
       "    <tr>\n",
       "      <th>9</th>\n",
       "      <td>duration</td>\n",
       "      <td>3.315717</td>\n",
       "      <td>False</td>\n",
       "    </tr>\n",
       "    <tr>\n",
       "      <th>10</th>\n",
       "      <td>campaign</td>\n",
       "      <td>4.827109</td>\n",
       "      <td>False</td>\n",
       "    </tr>\n",
       "    <tr>\n",
       "      <th>11</th>\n",
       "      <td>pdays</td>\n",
       "      <td>4.945212</td>\n",
       "      <td>False</td>\n",
       "    </tr>\n",
       "    <tr>\n",
       "      <th>12</th>\n",
       "      <td>previous</td>\n",
       "      <td>3.863300</td>\n",
       "      <td>False</td>\n",
       "    </tr>\n",
       "    <tr>\n",
       "      <th>13</th>\n",
       "      <td>poutcome</td>\n",
       "      <td>0.887688</td>\n",
       "      <td>False</td>\n",
       "    </tr>\n",
       "  </tbody>\n",
       "</table>\n",
       "</div>"
      ],
      "text/plain": [
       "        Kolom  Skewness_abs  normal\n",
       "0         age      0.780525   False\n",
       "1         job      0.447363    True\n",
       "2     marital      0.057598    True\n",
       "3   education      0.237815    True\n",
       "4     default      1.429681   False\n",
       "5     housing      0.143704    True\n",
       "6        loan      1.795012   False\n",
       "7     contact      0.563341   False\n",
       "8       month      0.302276    True\n",
       "9    duration      3.315717   False\n",
       "10   campaign      4.827109   False\n",
       "11      pdays      4.945212   False\n",
       "12   previous      3.863300   False\n",
       "13   poutcome      0.887688   False"
      ]
     },
     "execution_count": 29,
     "metadata": {},
     "output_type": "execute_result"
    }
   ],
   "source": [
    "#Cek Skewness\n",
    "skew1 = []\n",
    "for i in num_columns:\n",
    "    skew1.append(abs(X_train[i].skew()))\n",
    "\n",
    "# Visualisasi ke data frame\n",
    "df_skew1 = pd.DataFrame({'Kolom':num_columns, 'Skewness_abs':skew1})\n",
    "df_skew1['normal'] = df_skew1.Skewness_abs.apply(lambda x: True if x<=0.5 else False)\n",
    "df_skew1\n"
   ]
  },
  {
   "cell_type": "markdown",
   "id": "57827282",
   "metadata": {},
   "source": [
    "Seluruh kolom numerik terdistribusi skewed"
   ]
  },
  {
   "cell_type": "code",
   "execution_count": 30,
   "id": "f1be22db",
   "metadata": {},
   "outputs": [
    {
     "data": {
      "text/html": [
       "<div>\n",
       "<style scoped>\n",
       "    .dataframe tbody tr th:only-of-type {\n",
       "        vertical-align: middle;\n",
       "    }\n",
       "\n",
       "    .dataframe tbody tr th {\n",
       "        vertical-align: top;\n",
       "    }\n",
       "\n",
       "    .dataframe thead th {\n",
       "        text-align: right;\n",
       "    }\n",
       "</style>\n",
       "<table border=\"1\" class=\"dataframe\">\n",
       "  <thead>\n",
       "    <tr style=\"text-align: right;\">\n",
       "      <th></th>\n",
       "      <th>Kolom</th>\n",
       "      <th>persentasi_outlier</th>\n",
       "    </tr>\n",
       "  </thead>\n",
       "  <tbody>\n",
       "    <tr>\n",
       "      <th>0</th>\n",
       "      <td>duration</td>\n",
       "      <td>2.590815</td>\n",
       "    </tr>\n",
       "    <tr>\n",
       "      <th>1</th>\n",
       "      <td>campaign</td>\n",
       "      <td>2.657636</td>\n",
       "    </tr>\n",
       "    <tr>\n",
       "      <th>2</th>\n",
       "      <td>pdays</td>\n",
       "      <td>3.647795</td>\n",
       "    </tr>\n",
       "    <tr>\n",
       "      <th>3</th>\n",
       "      <td>previous</td>\n",
       "      <td>13.752885</td>\n",
       "    </tr>\n",
       "  </tbody>\n",
       "</table>\n",
       "</div>"
      ],
      "text/plain": [
       "      Kolom  persentasi_outlier\n",
       "0  duration            2.590815\n",
       "1  campaign            2.657636\n",
       "2     pdays            3.647795\n",
       "3  previous           13.752885"
      ]
     },
     "execution_count": 30,
     "metadata": {},
     "output_type": "execute_result"
    }
   ],
   "source": [
    "# Cek Persentasi untuk kolom yg terdistribusi skewed\n",
    "percent_outliers2 = []\n",
    "num = 3\n",
    "for i in [ 'duration','campaign','pdays','previous']:\n",
    "    q1 = np.quantile(X_train[i], 0.25)\n",
    "    q3 = np.quantile(X_train[i], 0.75)\n",
    "    iqr = q3 - q1\n",
    "    upper1 = q3 + num*iqr\n",
    "    lower1 = q1 - num*iqr\n",
    "    percent = len(X_train[(X_train[i]>upper1)|(X_train[i]<lower1)])*100/len(X_train)\n",
    "    percent_outliers2.append(percent)\n",
    "\n",
    "# Visualisasi ke Data Frame\n",
    "# Visualisasi ke Data Frame\n",
    "pd.DataFrame({'Kolom':['duration','campaign','pdays','previous'], 'persentasi_outlier':percent_outliers2})"
   ]
  },
  {
   "cell_type": "markdown",
   "id": "fdfdcdb5",
   "metadata": {},
   "source": [
    "- jumlah outlier pada semua kolom cukup besar, dan outlier tertinggi berada pada kolom previous"
   ]
  },
  {
   "cell_type": "code",
   "execution_count": 31,
   "id": "025233ec",
   "metadata": {},
   "outputs": [
    {
     "data": {
      "text/html": [
       "<div>\n",
       "<style scoped>\n",
       "    .dataframe tbody tr th:only-of-type {\n",
       "        vertical-align: middle;\n",
       "    }\n",
       "\n",
       "    .dataframe tbody tr th {\n",
       "        vertical-align: top;\n",
       "    }\n",
       "\n",
       "    .dataframe thead th {\n",
       "        text-align: right;\n",
       "    }\n",
       "</style>\n",
       "<table border=\"1\" class=\"dataframe\">\n",
       "  <thead>\n",
       "    <tr style=\"text-align: right;\">\n",
       "      <th></th>\n",
       "      <th>age</th>\n",
       "      <th>job</th>\n",
       "      <th>marital</th>\n",
       "      <th>education</th>\n",
       "      <th>default</th>\n",
       "      <th>housing</th>\n",
       "      <th>loan</th>\n",
       "      <th>contact</th>\n",
       "      <th>month</th>\n",
       "      <th>duration</th>\n",
       "      <th>campaign</th>\n",
       "      <th>pdays</th>\n",
       "      <th>previous</th>\n",
       "      <th>poutcome</th>\n",
       "    </tr>\n",
       "  </thead>\n",
       "  <tbody>\n",
       "    <tr>\n",
       "      <th>27327</th>\n",
       "      <td>33</td>\n",
       "      <td>4</td>\n",
       "      <td>1</td>\n",
       "      <td>5</td>\n",
       "      <td>0</td>\n",
       "      <td>2</td>\n",
       "      <td>0</td>\n",
       "      <td>0</td>\n",
       "      <td>7</td>\n",
       "      <td>381</td>\n",
       "      <td>1</td>\n",
       "      <td>999</td>\n",
       "      <td>1</td>\n",
       "      <td>0</td>\n",
       "    </tr>\n",
       "    <tr>\n",
       "      <th>32491</th>\n",
       "      <td>42</td>\n",
       "      <td>0</td>\n",
       "      <td>1</td>\n",
       "      <td>6</td>\n",
       "      <td>0</td>\n",
       "      <td>2</td>\n",
       "      <td>0</td>\n",
       "      <td>0</td>\n",
       "      <td>6</td>\n",
       "      <td>324</td>\n",
       "      <td>2</td>\n",
       "      <td>999</td>\n",
       "      <td>1</td>\n",
       "      <td>0</td>\n",
       "    </tr>\n",
       "    <tr>\n",
       "      <th>39103</th>\n",
       "      <td>49</td>\n",
       "      <td>5</td>\n",
       "      <td>1</td>\n",
       "      <td>5</td>\n",
       "      <td>0</td>\n",
       "      <td>0</td>\n",
       "      <td>2</td>\n",
       "      <td>0</td>\n",
       "      <td>5</td>\n",
       "      <td>525</td>\n",
       "      <td>1</td>\n",
       "      <td>21</td>\n",
       "      <td>2</td>\n",
       "      <td>0</td>\n",
       "    </tr>\n",
       "    <tr>\n",
       "      <th>27558</th>\n",
       "      <td>40</td>\n",
       "      <td>6</td>\n",
       "      <td>1</td>\n",
       "      <td>6</td>\n",
       "      <td>0</td>\n",
       "      <td>2</td>\n",
       "      <td>0</td>\n",
       "      <td>0</td>\n",
       "      <td>7</td>\n",
       "      <td>208</td>\n",
       "      <td>3</td>\n",
       "      <td>999</td>\n",
       "      <td>1</td>\n",
       "      <td>0</td>\n",
       "    </tr>\n",
       "    <tr>\n",
       "      <th>35628</th>\n",
       "      <td>24</td>\n",
       "      <td>1</td>\n",
       "      <td>1</td>\n",
       "      <td>2</td>\n",
       "      <td>0</td>\n",
       "      <td>2</td>\n",
       "      <td>2</td>\n",
       "      <td>0</td>\n",
       "      <td>6</td>\n",
       "      <td>105</td>\n",
       "      <td>1</td>\n",
       "      <td>999</td>\n",
       "      <td>1</td>\n",
       "      <td>0</td>\n",
       "    </tr>\n",
       "    <tr>\n",
       "      <th>...</th>\n",
       "      <td>...</td>\n",
       "      <td>...</td>\n",
       "      <td>...</td>\n",
       "      <td>...</td>\n",
       "      <td>...</td>\n",
       "      <td>...</td>\n",
       "      <td>...</td>\n",
       "      <td>...</td>\n",
       "      <td>...</td>\n",
       "      <td>...</td>\n",
       "      <td>...</td>\n",
       "      <td>...</td>\n",
       "      <td>...</td>\n",
       "      <td>...</td>\n",
       "    </tr>\n",
       "    <tr>\n",
       "      <th>29682</th>\n",
       "      <td>2</td>\n",
       "      <td>8</td>\n",
       "      <td>2</td>\n",
       "      <td>7</td>\n",
       "      <td>0</td>\n",
       "      <td>2</td>\n",
       "      <td>0</td>\n",
       "      <td>0</td>\n",
       "      <td>0</td>\n",
       "      <td>205</td>\n",
       "      <td>1</td>\n",
       "      <td>999</td>\n",
       "      <td>1</td>\n",
       "      <td>0</td>\n",
       "    </tr>\n",
       "    <tr>\n",
       "      <th>34848</th>\n",
       "      <td>37</td>\n",
       "      <td>5</td>\n",
       "      <td>0</td>\n",
       "      <td>6</td>\n",
       "      <td>0</td>\n",
       "      <td>2</td>\n",
       "      <td>0</td>\n",
       "      <td>0</td>\n",
       "      <td>6</td>\n",
       "      <td>778</td>\n",
       "      <td>5</td>\n",
       "      <td>999</td>\n",
       "      <td>1</td>\n",
       "      <td>0</td>\n",
       "    </tr>\n",
       "    <tr>\n",
       "      <th>31044</th>\n",
       "      <td>21</td>\n",
       "      <td>1</td>\n",
       "      <td>2</td>\n",
       "      <td>0</td>\n",
       "      <td>0</td>\n",
       "      <td>0</td>\n",
       "      <td>0</td>\n",
       "      <td>0</td>\n",
       "      <td>6</td>\n",
       "      <td>207</td>\n",
       "      <td>1</td>\n",
       "      <td>999</td>\n",
       "      <td>1</td>\n",
       "      <td>0</td>\n",
       "    </tr>\n",
       "    <tr>\n",
       "      <th>33174</th>\n",
       "      <td>26</td>\n",
       "      <td>0</td>\n",
       "      <td>2</td>\n",
       "      <td>6</td>\n",
       "      <td>0</td>\n",
       "      <td>2</td>\n",
       "      <td>0</td>\n",
       "      <td>0</td>\n",
       "      <td>6</td>\n",
       "      <td>305</td>\n",
       "      <td>1</td>\n",
       "      <td>999</td>\n",
       "      <td>1</td>\n",
       "      <td>0</td>\n",
       "    </tr>\n",
       "    <tr>\n",
       "      <th>34959</th>\n",
       "      <td>27</td>\n",
       "      <td>4</td>\n",
       "      <td>1</td>\n",
       "      <td>6</td>\n",
       "      <td>0</td>\n",
       "      <td>2</td>\n",
       "      <td>0</td>\n",
       "      <td>0</td>\n",
       "      <td>6</td>\n",
       "      <td>217</td>\n",
       "      <td>1</td>\n",
       "      <td>999</td>\n",
       "      <td>1</td>\n",
       "      <td>0</td>\n",
       "    </tr>\n",
       "  </tbody>\n",
       "</table>\n",
       "<p>4528 rows × 14 columns</p>\n",
       "</div>"
      ],
      "text/plain": [
       "       age  job  marital  education  default  housing  loan  contact  month  \\\n",
       "27327   33    4        1          5        0        2     0        0      7   \n",
       "32491   42    0        1          6        0        2     0        0      6   \n",
       "39103   49    5        1          5        0        0     2        0      5   \n",
       "27558   40    6        1          6        0        2     0        0      7   \n",
       "35628   24    1        1          2        0        2     2        0      6   \n",
       "...    ...  ...      ...        ...      ...      ...   ...      ...    ...   \n",
       "29682    2    8        2          7        0        2     0        0      0   \n",
       "34848   37    5        0          6        0        2     0        0      6   \n",
       "31044   21    1        2          0        0        0     0        0      6   \n",
       "33174   26    0        2          6        0        2     0        0      6   \n",
       "34959   27    4        1          6        0        2     0        0      6   \n",
       "\n",
       "       duration  campaign  pdays  previous  poutcome  \n",
       "27327       381         1    999         1         0  \n",
       "32491       324         2    999         1         0  \n",
       "39103       525         1     21         2         0  \n",
       "27558       208         3    999         1         0  \n",
       "35628       105         1    999         1         0  \n",
       "...         ...       ...    ...       ...       ...  \n",
       "29682       205         1    999         1         0  \n",
       "34848       778         5    999         1         0  \n",
       "31044       207         1    999         1         0  \n",
       "33174       305         1    999         1         0  \n",
       "34959       217         1    999         1         0  \n",
       "\n",
       "[4528 rows x 14 columns]"
      ]
     },
     "execution_count": 31,
     "metadata": {},
     "output_type": "execute_result"
    }
   ],
   "source": [
    "# Outlier pada kolom previous\n",
    "num = 3\n",
    "q1 = np.quantile(X_train['previous'], 0.25)\n",
    "q3 = np.quantile(X_train['previous'], 0.75)\n",
    "iqr = q3 - q1\n",
    "upper1 = q3 + num*iqr\n",
    "lower1 = q1 - num*iqr\n",
    "X_train[(X_train['previous']>upper1)|(X_train['previous']<lower1)]"
   ]
  },
  {
   "cell_type": "markdown",
   "id": "cb3f5e6c",
   "metadata": {},
   "source": [
    "# Modeling"
   ]
  },
  {
   "cell_type": "code",
   "execution_count": 32,
   "id": "5acb9113",
   "metadata": {},
   "outputs": [],
   "source": [
    "x_train, x_test, y_train, y_test = train_test_split(x, y, test_size=0.3, random_state=0)"
   ]
  },
  {
   "cell_type": "markdown",
   "id": "848675d5",
   "metadata": {},
   "source": [
    "## Logistic Regression\n"
   ]
  },
  {
   "cell_type": "code",
   "execution_count": 33,
   "id": "570beb86",
   "metadata": {},
   "outputs": [
    {
     "name": "stderr",
     "output_type": "stream",
     "text": [
      "C:\\Users\\ACER\\AppData\\Roaming\\Python\\Python311\\site-packages\\sklearn\\linear_model\\_logistic.py:460: ConvergenceWarning: lbfgs failed to converge (status=1):\n",
      "STOP: TOTAL NO. of ITERATIONS REACHED LIMIT.\n",
      "\n",
      "Increase the number of iterations (max_iter) or scale the data as shown in:\n",
      "    https://scikit-learn.org/stable/modules/preprocessing.html\n",
      "Please also refer to the documentation for alternative solver options:\n",
      "    https://scikit-learn.org/stable/modules/linear_model.html#logistic-regression\n",
      "  n_iter_i = _check_optimize_result(\n"
     ]
    }
   ],
   "source": [
    "# model algoritma logistic regression\n",
    "model = LogisticRegression()\n",
    "model.fit(x_train, y_train)\n",
    "pred_test=model.predict(x_test)\n",
    "     "
   ]
  },
  {
   "cell_type": "code",
   "execution_count": 34,
   "id": "5ceba50a",
   "metadata": {},
   "outputs": [
    {
     "name": "stdout",
     "output_type": "stream",
     "text": [
      "Accuracy Score: 0.9840524568930624 \n",
      "\n",
      "Classfication Report :\n",
      "               precision    recall  f1-score   support\n",
      "\n",
      "           0       0.99      1.00      0.99     10919\n",
      "           1       0.97      0.89      0.93      1434\n",
      "\n",
      "    accuracy                           0.98     12353\n",
      "   macro avg       0.98      0.94      0.96     12353\n",
      "weighted avg       0.98      0.98      0.98     12353\n",
      "\n"
     ]
    }
   ],
   "source": [
    "# Melihat accuracy Logistic regression\n",
    "print('Accuracy Score:',accuracy_score(y_test, pred_test),\"\\n\")\n",
    "print('Classfication Report :\\n',classification_report(y_test, pred_test))"
   ]
  },
  {
   "cell_type": "code",
   "execution_count": 35,
   "id": "8f7a811e",
   "metadata": {},
   "outputs": [
    {
     "name": "stdout",
     "output_type": "stream",
     "text": [
      "hasil confusion matriks:\n",
      " [[10878    41]\n",
      " [  156  1278]] \n",
      "\n"
     ]
    }
   ],
   "source": [
    "# Implementasi confusion matrix\n",
    "matrix=confusion_matrix(y_test, pred_test)\n",
    "print('hasil confusion matriks:\\n',matrix,'\\n')"
   ]
  },
  {
   "cell_type": "markdown",
   "id": "3ebae17f",
   "metadata": {},
   "source": [
    "## K-Nearest Neighbors"
   ]
  },
  {
   "cell_type": "code",
   "execution_count": 36,
   "id": "cc5d5b32",
   "metadata": {},
   "outputs": [],
   "source": [
    "model_knn = KNeighborsClassifier()\n",
    "model_knn.fit(x_train, y_train)\n",
    "knn_test=model_knn.predict(x_test)"
   ]
  },
  {
   "cell_type": "code",
   "execution_count": 37,
   "id": "33cb520f",
   "metadata": {},
   "outputs": [
    {
     "name": "stdout",
     "output_type": "stream",
     "text": [
      "Accuracy Score: 0.897190965757306 \n",
      "\n",
      "Classfication Report :\n",
      "               precision    recall  f1-score   support\n",
      "\n",
      "           0       0.92      0.97      0.94     10919\n",
      "           1       0.59      0.36      0.45      1434\n",
      "\n",
      "    accuracy                           0.90     12353\n",
      "   macro avg       0.76      0.66      0.70     12353\n",
      "weighted avg       0.88      0.90      0.89     12353\n",
      "\n"
     ]
    }
   ],
   "source": [
    "# Melihat accuracy K-Nearest Neighbors\n",
    "print('Accuracy Score:',accuracy_score(y_test, knn_test),\"\\n\")\n",
    "print('Classfication Report :\\n',classification_report(y_test, knn_test))"
   ]
  },
  {
   "cell_type": "code",
   "execution_count": 38,
   "id": "888ec42c",
   "metadata": {},
   "outputs": [
    {
     "name": "stdout",
     "output_type": "stream",
     "text": [
      "Confusion Matrix :\n",
      " [[10878    41]\n",
      " [  156  1278]] \n",
      "\n"
     ]
    }
   ],
   "source": [
    "# Implementasi confusion matrix\n",
    "matrix=confusion_matrix(y_test, pred_test)\n",
    "print(\"Confusion Matrix :\\n\",matrix,\"\\n\")"
   ]
  },
  {
   "cell_type": "markdown",
   "id": "5bad677e",
   "metadata": {},
   "source": [
    "## SVM (Super Vector Machine )"
   ]
  },
  {
   "cell_type": "code",
   "execution_count": 39,
   "id": "3bb5bf07",
   "metadata": {},
   "outputs": [],
   "source": [
    "# Model Algoritma Super Vector Machine (SVM)\n",
    "model_svm = svm.SVC()\n",
    "model_svm.fit(x_train, y_train)\n",
    "svm_test=model_svm.predict(x_test)"
   ]
  },
  {
   "cell_type": "code",
   "execution_count": 40,
   "id": "8797b57b",
   "metadata": {},
   "outputs": [
    {
     "name": "stdout",
     "output_type": "stream",
     "text": [
      "Accuracy Score: 0.9018052294989072 \n",
      "\n",
      "Classfication Report :\n",
      "               precision    recall  f1-score   support\n",
      "\n",
      "           0       0.91      0.98      0.95     10919\n",
      "           1       0.69      0.28      0.40      1434\n",
      "\n",
      "    accuracy                           0.90     12353\n",
      "   macro avg       0.80      0.63      0.67     12353\n",
      "weighted avg       0.89      0.90      0.88     12353\n",
      "\n"
     ]
    }
   ],
   "source": [
    "# Melihat accuracy Super Vector Machine (SVM)\n",
    "print('Accuracy Score:',accuracy_score(y_test, svm_test),\"\\n\")\n",
    "print('Classfication Report :\\n',classification_report(y_test, svm_test))"
   ]
  },
  {
   "cell_type": "code",
   "execution_count": 41,
   "id": "85a44ea3",
   "metadata": {},
   "outputs": [
    {
     "name": "stdout",
     "output_type": "stream",
     "text": [
      "Confusion Matrix :\n",
      " [[10744   175]\n",
      " [ 1038   396]] \n",
      "\n"
     ]
    }
   ],
   "source": [
    "# Implementasi confusion matrix\n",
    "matrix=confusion_matrix(y_test, svm_test)\n",
    "print(\"Confusion Matrix :\\n\",matrix,\"\\n\")"
   ]
  },
  {
   "cell_type": "markdown",
   "id": "c3c60463",
   "metadata": {},
   "source": [
    "## Decision Tree"
   ]
  },
  {
   "cell_type": "code",
   "execution_count": 42,
   "id": "0b91b8e6",
   "metadata": {},
   "outputs": [],
   "source": [
    "# Model Algoritma Decision Tree\n",
    "model_DT = DecisionTreeClassifier()\n",
    "model_DT.fit(x_train, y_train)\n",
    "DT_test=model_DT.predict(x_test)"
   ]
  },
  {
   "cell_type": "code",
   "execution_count": 43,
   "id": "6c2af709",
   "metadata": {},
   "outputs": [
    {
     "name": "stdout",
     "output_type": "stream",
     "text": [
      "Accuracy Score: 1.0 \n",
      "\n",
      "Classfication Report :\n",
      "               precision    recall  f1-score   support\n",
      "\n",
      "           0       1.00      1.00      1.00     10919\n",
      "           1       1.00      1.00      1.00      1434\n",
      "\n",
      "    accuracy                           1.00     12353\n",
      "   macro avg       1.00      1.00      1.00     12353\n",
      "weighted avg       1.00      1.00      1.00     12353\n",
      "\n"
     ]
    }
   ],
   "source": [
    "# Melihat accuracy Decision Tree\n",
    "print('Accuracy Score:',accuracy_score(y_test, DT_test),\"\\n\")\n",
    "print('Classfication Report :\\n',classification_report(y_test, DT_test))"
   ]
  },
  {
   "cell_type": "code",
   "execution_count": 44,
   "id": "b0949b35",
   "metadata": {},
   "outputs": [
    {
     "name": "stdout",
     "output_type": "stream",
     "text": [
      "Confusion Matrix :\n",
      " [[10919     0]\n",
      " [    0  1434]] \n",
      "\n"
     ]
    }
   ],
   "source": [
    "# Implementasi confusion matrix\n",
    "matrix=confusion_matrix(y_test, DT_test)\n",
    "print(\"Confusion Matrix :\\n\",matrix,\"\\n\")"
   ]
  },
  {
   "cell_type": "markdown",
   "id": "6138b14a",
   "metadata": {},
   "source": [
    "## Random Forest"
   ]
  },
  {
   "cell_type": "code",
   "execution_count": 45,
   "id": "a5772b59",
   "metadata": {},
   "outputs": [],
   "source": [
    "# Model Algoritma Random Forest\n",
    "model_RF = RandomForestClassifier()\n",
    "model_RF.fit(x_train, y_train)\n",
    "RF_test=model.predict(x_test)"
   ]
  },
  {
   "cell_type": "code",
   "execution_count": 46,
   "id": "222cce1b",
   "metadata": {},
   "outputs": [
    {
     "name": "stdout",
     "output_type": "stream",
     "text": [
      "Accuracy Score: 0.9840524568930624 \n",
      "\n",
      "Classfication Report :\n",
      "               precision    recall  f1-score   support\n",
      "\n",
      "           0       0.99      1.00      0.99     10919\n",
      "           1       0.97      0.89      0.93      1434\n",
      "\n",
      "    accuracy                           0.98     12353\n",
      "   macro avg       0.98      0.94      0.96     12353\n",
      "weighted avg       0.98      0.98      0.98     12353\n",
      "\n"
     ]
    }
   ],
   "source": [
    "# Melihat accuracy random Forest\n",
    "print('Accuracy Score:',accuracy_score(y_test, RF_test),\"\\n\")\n",
    "print('Classfication Report :\\n',classification_report(y_test, RF_test))"
   ]
  },
  {
   "cell_type": "code",
   "execution_count": 47,
   "id": "1551bc89",
   "metadata": {},
   "outputs": [
    {
     "name": "stdout",
     "output_type": "stream",
     "text": [
      "Confusion Matrix :\n",
      " [[10878    41]\n",
      " [  156  1278]] \n",
      "\n"
     ]
    }
   ],
   "source": [
    "# Implementasi confusion matrix\n",
    "matrix=confusion_matrix(y_test, RF_test)\n",
    "print(\"Confusion Matrix :\\n\",matrix,\"\\n\")"
   ]
  },
  {
   "cell_type": "markdown",
   "id": "e7f8d180",
   "metadata": {},
   "source": [
    "## Naive Bayes"
   ]
  },
  {
   "cell_type": "code",
   "execution_count": 48,
   "id": "5cb972f3",
   "metadata": {},
   "outputs": [],
   "source": [
    "# Model Algoritma Naive Bayes\n",
    "model_NB = GaussianNB()\n",
    "model_NB.fit(x_train, y_train)\n",
    "NB_test=model_NB.predict(x_test)"
   ]
  },
  {
   "cell_type": "code",
   "execution_count": 49,
   "id": "7ad7364d",
   "metadata": {},
   "outputs": [
    {
     "name": "stdout",
     "output_type": "stream",
     "text": [
      "Accuracy Score: 1.0 \n",
      "\n",
      "Classfication Report :\n",
      "               precision    recall  f1-score   support\n",
      "\n",
      "           0       1.00      1.00      1.00     10919\n",
      "           1       1.00      1.00      1.00      1434\n",
      "\n",
      "    accuracy                           1.00     12353\n",
      "   macro avg       1.00      1.00      1.00     12353\n",
      "weighted avg       1.00      1.00      1.00     12353\n",
      "\n"
     ]
    }
   ],
   "source": [
    "# Melihat accuracy Naive Bayes\n",
    "print('Accuracy Score:',accuracy_score(y_test, NB_test),\"\\n\")\n",
    "print('Classfication Report :\\n',classification_report(y_test, NB_test))"
   ]
  },
  {
   "cell_type": "code",
   "execution_count": 50,
   "id": "6b01a7bd",
   "metadata": {},
   "outputs": [
    {
     "name": "stdout",
     "output_type": "stream",
     "text": [
      "Confusion Matrix :\n",
      " [[10919     0]\n",
      " [    0  1434]] \n",
      "\n"
     ]
    }
   ],
   "source": [
    "# Implementasi confusion matrix\n",
    "matrix=confusion_matrix(y_test, NB_test)\n",
    "print(\"Confusion Matrix :\\n\",matrix,\"\\n\")"
   ]
  },
  {
   "cell_type": "markdown",
   "id": "329313d6",
   "metadata": {},
   "source": [
    "##  Algorithm Analysis"
   ]
  },
  {
   "cell_type": "code",
   "execution_count": 51,
   "id": "aaae0e4f",
   "metadata": {},
   "outputs": [
    {
     "name": "stdout",
     "output_type": "stream",
     "text": [
      "- Logistic Regression            : 0.9840524568930624\n",
      "- K-Nearest Neighbors (KNN)      : 0.897190965757306\n",
      "- Support Vector Machine (SVM)   : 0.9018052294989072\n",
      "- Decision Tree                  : 1.0\n",
      "- Random Forest                  : 0.9840524568930624\n",
      "- Naive Bayes                    : 1.0\n"
     ]
    }
   ],
   "source": [
    "# Hasil accuracy dari setiap Algoritma\n",
    "print('- Logistic Regression            :', accuracy_score(y_test, pred_test))\n",
    "print('- K-Nearest Neighbors (KNN)      :', accuracy_score(y_test, knn_test))\n",
    "print('- Support Vector Machine (SVM)   :', accuracy_score(y_test, svm_test))\n",
    "print('- Decision Tree                  :', accuracy_score(y_test, DT_test))\n",
    "print('- Random Forest                  :', accuracy_score(y_test, RF_test))\n",
    "print('- Naive Bayes                    :', accuracy_score(y_test, NB_test))"
   ]
  },
  {
   "cell_type": "markdown",
   "id": "31b104f0",
   "metadata": {},
   "source": [
    "Diperoleh hasil akurasi dari semua algoritma dan diperoleh Algoritma Decision Tree dan Naive Bayes dengan Nilai akurasi paling tinggi yaitu mencapai 1,0"
   ]
  },
  {
   "cell_type": "markdown",
   "id": "9f41db1f",
   "metadata": {},
   "source": [
    "### Kesimpulan"
   ]
  },
  {
   "cell_type": "markdown",
   "id": "5f43e6d6",
   "metadata": {},
   "source": [
    "Bardasarkan perhitungan serta permodelan yang telah dilakukan, tingkat nilai akurasi terbaik yaitu dengan menggunakan Algoritma Decision Tree dan Naive Bayes. Tingkat nilai akurasi terendah dengan menggunakan algoritma K-Nearest Neighbors (KNN) ."
   ]
  },
  {
   "cell_type": "code",
   "execution_count": null,
   "id": "38738691",
   "metadata": {},
   "outputs": [],
   "source": []
  }
 ],
 "metadata": {
  "kernelspec": {
   "display_name": "Python 3 (ipykernel)",
   "language": "python",
   "name": "python3"
  },
  "language_info": {
   "codemirror_mode": {
    "name": "ipython",
    "version": 3
   },
   "file_extension": ".py",
   "mimetype": "text/x-python",
   "name": "python",
   "nbconvert_exporter": "python",
   "pygments_lexer": "ipython3",
   "version": "3.11.4"
  }
 },
 "nbformat": 4,
 "nbformat_minor": 5
}
